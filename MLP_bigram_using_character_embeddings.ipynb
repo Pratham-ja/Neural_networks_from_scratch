{
  "nbformat": 4,
  "nbformat_minor": 0,
  "metadata": {
    "colab": {
      "provenance": [],
      "toc_visible": true
    },
    "kernelspec": {
      "name": "python3",
      "display_name": "Python 3"
    },
    "language_info": {
      "name": "python"
    }
  },
  "cells": [
    {
      "cell_type": "code",
      "source": [
        "words = open('first_name.txt','r').read().splitlines()"
      ],
      "metadata": {
        "id": "t6UlLtjqABiJ"
      },
      "execution_count": 2,
      "outputs": []
    },
    {
      "cell_type": "code",
      "source": [
        "import torch\n",
        "import torch.nn.functional as F\n",
        "import matplotlib.pyplot as plt # for making figures\n",
        "%matplotlib inline"
      ],
      "metadata": {
        "id": "Ozs2nN1dy5DD"
      },
      "execution_count": 3,
      "outputs": []
    },
    {
      "cell_type": "code",
      "source": [
        "words[:8]"
      ],
      "metadata": {
        "colab": {
          "base_uri": "https://localhost:8080/"
        },
        "id": "0J5NCbztOzO8",
        "outputId": "543f54b0-cb31-4239-ac06-f19252012b30"
      },
      "execution_count": 4,
      "outputs": [
        {
          "output_type": "execute_result",
          "data": {
            "text/plain": [
              "['Aachal',\n",
              " 'Aadharsh',\n",
              " 'Aadhavi',\n",
              " 'Aadhira',\n",
              " 'Aadidev',\n",
              " 'Aadil',\n",
              " 'Aadita',\n",
              " 'Aaditya']"
            ]
          },
          "metadata": {},
          "execution_count": 4
        }
      ]
    },
    {
      "cell_type": "code",
      "source": [
        "words = [w.lower() for w in words]"
      ],
      "metadata": {
        "id": "-nv8WV47O3KU"
      },
      "execution_count": 5,
      "outputs": []
    },
    {
      "cell_type": "code",
      "source": [
        "words[:6]"
      ],
      "metadata": {
        "colab": {
          "base_uri": "https://localhost:8080/"
        },
        "id": "1la1jUCaPZX6",
        "outputId": "eac68364-c944-45ad-9420-61c339bf1a77"
      },
      "execution_count": 6,
      "outputs": [
        {
          "output_type": "execute_result",
          "data": {
            "text/plain": [
              "['aachal', 'aadharsh', 'aadhavi', 'aadhira', 'aadidev', 'aadil']"
            ]
          },
          "metadata": {},
          "execution_count": 6
        }
      ]
    },
    {
      "cell_type": "code",
      "source": [
        "len(words)"
      ],
      "metadata": {
        "colab": {
          "base_uri": "https://localhost:8080/"
        },
        "id": "646qmlwWPbjx",
        "outputId": "7d73282f-aed2-486d-d766-27ac2eae402b"
      },
      "execution_count": 7,
      "outputs": [
        {
          "output_type": "execute_result",
          "data": {
            "text/plain": [
              "2195"
            ]
          },
          "metadata": {},
          "execution_count": 7
        }
      ]
    },
    {
      "cell_type": "code",
      "source": [
        "# build the vocabulary of characters and mappings to/from integers\n",
        "chars = sorted(list(set(''.join(words))))\n",
        "stoi = {s:i+1 for i,s in enumerate(chars)}\n",
        "stoi['.'] = 0\n",
        "itos = {i:s for s,i in stoi.items()}\n",
        "print(itos)"
      ],
      "metadata": {
        "colab": {
          "base_uri": "https://localhost:8080/"
        },
        "id": "HmUcd885QNCD",
        "outputId": "d56675d3-b674-49e7-ca3a-662caa8160b1"
      },
      "execution_count": 8,
      "outputs": [
        {
          "output_type": "stream",
          "name": "stdout",
          "text": [
            "{1: 'a', 2: 'b', 3: 'c', 4: 'd', 5: 'e', 6: 'f', 7: 'g', 8: 'h', 9: 'i', 10: 'j', 11: 'k', 12: 'l', 13: 'm', 14: 'n', 15: 'o', 16: 'p', 17: 'q', 18: 'r', 19: 's', 20: 't', 21: 'u', 22: 'v', 23: 'w', 24: 'x', 25: 'y', 26: 'z', 0: '.'}\n"
          ]
        }
      ]
    },
    {
      "cell_type": "code",
      "source": [
        "# build the dataset\n",
        "\n",
        "block_size = 3 # context length: how many characters do we take to predict the next one?\n",
        "X, Y = [], []\n",
        "for w in words:\n",
        "\n",
        "# print(w)\n",
        "  context = [0] * block_size\n",
        "  for ch in w + '.':\n",
        "    ix = stoi[ch]\n",
        "    X.append(context)\n",
        "    Y.append(ix)\n",
        "    # print(''.join(itos[i] for i in context), '--->', itos[ix])\n",
        "    context = context[1:] + [ix] # crop and append\n",
        "\n",
        "X = torch.tensor(X)\n",
        "Y = torch.tensor(Y)"
      ],
      "metadata": {
        "id": "meU7XTCbQb6G"
      },
      "execution_count": 86,
      "outputs": []
    },
    {
      "cell_type": "code",
      "source": [
        "X.shape"
      ],
      "metadata": {
        "colab": {
          "base_uri": "https://localhost:8080/"
        },
        "id": "AAr1lgEPQhN7",
        "outputId": "f7e4d31a-8c25-4684-9add-8e9cd81ebf8d"
      },
      "execution_count": 87,
      "outputs": [
        {
          "output_type": "execute_result",
          "data": {
            "text/plain": [
              "torch.Size([16382, 3])"
            ]
          },
          "metadata": {},
          "execution_count": 87
        }
      ]
    },
    {
      "cell_type": "code",
      "source": [
        "X.shape"
      ],
      "metadata": {
        "colab": {
          "base_uri": "https://localhost:8080/"
        },
        "id": "bWV7JPmzQu_T",
        "outputId": "5c0cbd21-7eab-46a9-b78e-481a8bd1b0df"
      },
      "execution_count": 88,
      "outputs": [
        {
          "output_type": "execute_result",
          "data": {
            "text/plain": [
              "torch.Size([16382, 3])"
            ]
          },
          "metadata": {},
          "execution_count": 88
        }
      ]
    },
    {
      "cell_type": "code",
      "source": [
        "X.dtype,Y.shape,Y.dtype"
      ],
      "metadata": {
        "colab": {
          "base_uri": "https://localhost:8080/"
        },
        "id": "dXh5AYg0Vs3X",
        "outputId": "415f5d1b-f0ba-49d5-ad1b-de9beb0f728f"
      },
      "execution_count": 89,
      "outputs": [
        {
          "output_type": "execute_result",
          "data": {
            "text/plain": [
              "(torch.int64, torch.Size([16382]), torch.int64)"
            ]
          },
          "metadata": {},
          "execution_count": 89
        }
      ]
    },
    {
      "cell_type": "code",
      "source": [
        "c = torch.rand(27,2)"
      ],
      "metadata": {
        "id": "Ay-23JHshjv1"
      },
      "execution_count": 90,
      "outputs": []
    },
    {
      "cell_type": "code",
      "source": [
        "c"
      ],
      "metadata": {
        "colab": {
          "base_uri": "https://localhost:8080/"
        },
        "id": "tFOnTSLcnfm5",
        "outputId": "4152ebaa-76fa-4133-bc5c-6c2614b1267f"
      },
      "execution_count": 91,
      "outputs": [
        {
          "output_type": "execute_result",
          "data": {
            "text/plain": [
              "tensor([[0.2890, 0.0795],\n",
              "        [0.6477, 0.7482],\n",
              "        [0.2606, 0.3130],\n",
              "        [0.2893, 0.0320],\n",
              "        [0.4326, 0.3873],\n",
              "        [0.1710, 0.5586],\n",
              "        [0.7467, 0.9334],\n",
              "        [0.0765, 0.1461],\n",
              "        [0.8056, 0.4484],\n",
              "        [0.2379, 0.7886],\n",
              "        [0.2829, 0.4952],\n",
              "        [0.8996, 0.1029],\n",
              "        [0.7679, 0.7474],\n",
              "        [0.6287, 0.9062],\n",
              "        [0.8756, 0.0994],\n",
              "        [0.0837, 0.8847],\n",
              "        [0.5227, 0.3597],\n",
              "        [0.5860, 0.7284],\n",
              "        [0.8798, 0.6484],\n",
              "        [0.8960, 0.5019],\n",
              "        [0.0667, 0.6019],\n",
              "        [0.9788, 0.7667],\n",
              "        [0.9442, 0.9268],\n",
              "        [0.7851, 0.7516],\n",
              "        [0.3498, 0.7991],\n",
              "        [0.2120, 0.4495],\n",
              "        [0.0400, 0.8642]])"
            ]
          },
          "metadata": {},
          "execution_count": 91
        }
      ]
    },
    {
      "cell_type": "code",
      "source": [
        "c[3]"
      ],
      "metadata": {
        "colab": {
          "base_uri": "https://localhost:8080/"
        },
        "id": "y0YSsMirngSJ",
        "outputId": "edd3c30f-ab14-4272-e7cd-fe1e5a4e7e1e"
      },
      "execution_count": 15,
      "outputs": [
        {
          "output_type": "execute_result",
          "data": {
            "text/plain": [
              "tensor([0.3647, 0.5556])"
            ]
          },
          "metadata": {},
          "execution_count": 15
        }
      ]
    },
    {
      "cell_type": "code",
      "source": [
        "import torch.nn.functional as  f"
      ],
      "metadata": {
        "id": "XnT-h74PouCf"
      },
      "execution_count": 93,
      "outputs": []
    },
    {
      "cell_type": "code",
      "source": [
        "t = f.one_hot(torch.tensor(3),num_classes = 27)"
      ],
      "metadata": {
        "id": "q5LbJLxqzdti"
      },
      "execution_count": 94,
      "outputs": []
    },
    {
      "cell_type": "code",
      "source": [
        "t.shape"
      ],
      "metadata": {
        "colab": {
          "base_uri": "https://localhost:8080/"
        },
        "id": "VI6_-aH50JOE",
        "outputId": "d1cfc566-e1c3-49d8-b4b9-80c67e9fad2a"
      },
      "execution_count": 18,
      "outputs": [
        {
          "output_type": "execute_result",
          "data": {
            "text/plain": [
              "torch.Size([27])"
            ]
          },
          "metadata": {},
          "execution_count": 18
        }
      ]
    },
    {
      "cell_type": "code",
      "source": [
        "t.dtype"
      ],
      "metadata": {
        "colab": {
          "base_uri": "https://localhost:8080/"
        },
        "id": "YDKpPdR4z4_D",
        "outputId": "51b8d178-da66-47ab-f8db-0d0fdb9e84e9"
      },
      "execution_count": 19,
      "outputs": [
        {
          "output_type": "execute_result",
          "data": {
            "text/plain": [
              "torch.int64"
            ]
          },
          "metadata": {},
          "execution_count": 19
        }
      ]
    },
    {
      "cell_type": "code",
      "source": [
        "t.float()@c # we got the same c[3] = t@c"
      ],
      "metadata": {
        "colab": {
          "base_uri": "https://localhost:8080/"
        },
        "id": "eWu1QRabzvW8",
        "outputId": "99ddfb9a-6dde-4cc0-fc34-5fbd0d3d91e9"
      },
      "execution_count": 20,
      "outputs": [
        {
          "output_type": "execute_result",
          "data": {
            "text/plain": [
              "tensor([0.3647, 0.5556])"
            ]
          },
          "metadata": {},
          "execution_count": 20
        }
      ]
    },
    {
      "cell_type": "code",
      "source": [
        "a = torch.tensor([1,0,1,0])"
      ],
      "metadata": {
        "id": "zwh8rD1rz2a6"
      },
      "execution_count": 21,
      "outputs": []
    },
    {
      "cell_type": "code",
      "source": [
        "b = torch.tensor([[1,2],[3,4],[5,6],[7,8]])"
      ],
      "metadata": {
        "id": "3TEo6UXg0X6q"
      },
      "execution_count": 22,
      "outputs": []
    },
    {
      "cell_type": "code",
      "source": [
        "a@b"
      ],
      "metadata": {
        "colab": {
          "base_uri": "https://localhost:8080/"
        },
        "id": "cqMVBMd20h06",
        "outputId": "c11d1bb0-ff95-42eb-90d0-277b686d8231"
      },
      "execution_count": 23,
      "outputs": [
        {
          "output_type": "execute_result",
          "data": {
            "text/plain": [
              "tensor([6, 8])"
            ]
          },
          "metadata": {},
          "execution_count": 23
        }
      ]
    },
    {
      "cell_type": "code",
      "source": [
        "C = torch.randn((27,2))"
      ],
      "metadata": {
        "id": "i_xEuUdX0ivx"
      },
      "execution_count": 95,
      "outputs": []
    },
    {
      "cell_type": "code",
      "source": [
        "C"
      ],
      "metadata": {
        "colab": {
          "base_uri": "https://localhost:8080/"
        },
        "id": "1XHcNwWgRcPc",
        "outputId": "ce90ac5c-a22b-4bd7-c2d1-99c62751d94c"
      },
      "execution_count": 25,
      "outputs": [
        {
          "output_type": "execute_result",
          "data": {
            "text/plain": [
              "tensor([[ 0.9217,  2.5061],\n",
              "        [ 1.0063, -0.3698],\n",
              "        [ 0.3817, -0.4298],\n",
              "        [ 0.4084, -1.4505],\n",
              "        [ 0.9814, -0.0555],\n",
              "        [-0.6049, -1.3640],\n",
              "        [-0.4504, -1.4509],\n",
              "        [ 1.6899,  0.1297],\n",
              "        [ 0.3501,  0.0372],\n",
              "        [ 0.1818,  0.7559],\n",
              "        [-1.6460, -0.8525],\n",
              "        [ 1.2439,  1.3356],\n",
              "        [-0.7875, -1.2503],\n",
              "        [ 0.3622,  1.0434],\n",
              "        [ 1.7906,  0.6263],\n",
              "        [-0.2222,  0.7003],\n",
              "        [ 0.4812,  0.3756],\n",
              "        [ 1.6206, -1.5410],\n",
              "        [-2.4549,  1.2999],\n",
              "        [ 1.6216,  0.2640],\n",
              "        [-0.3794,  1.3907],\n",
              "        [-0.5453,  1.3777],\n",
              "        [-1.0380,  0.1971],\n",
              "        [-0.6295,  0.1064],\n",
              "        [-1.2217,  1.5101],\n",
              "        [-0.7965,  0.8667],\n",
              "        [ 2.1781, -0.6542]])"
            ]
          },
          "metadata": {},
          "execution_count": 25
        }
      ]
    },
    {
      "cell_type": "code",
      "source": [
        "C.shape\n"
      ],
      "metadata": {
        "colab": {
          "base_uri": "https://localhost:8080/"
        },
        "id": "nFmfFC20RczU",
        "outputId": "4d02cbc6-4320-4065-e07d-762cb2764f7f"
      },
      "execution_count": 26,
      "outputs": [
        {
          "output_type": "execute_result",
          "data": {
            "text/plain": [
              "torch.Size([27, 2])"
            ]
          },
          "metadata": {},
          "execution_count": 26
        }
      ]
    },
    {
      "cell_type": "code",
      "source": [
        "C[5]"
      ],
      "metadata": {
        "colab": {
          "base_uri": "https://localhost:8080/"
        },
        "id": "HbQAw5qDRqUw",
        "outputId": "5a2bdc4e-a5cf-480a-9dd3-d5173ed5e7d2"
      },
      "execution_count": 27,
      "outputs": [
        {
          "output_type": "execute_result",
          "data": {
            "text/plain": [
              "tensor([-0.6049, -1.3640])"
            ]
          },
          "metadata": {},
          "execution_count": 27
        }
      ]
    },
    {
      "cell_type": "code",
      "source": [
        "X.shape"
      ],
      "metadata": {
        "colab": {
          "base_uri": "https://localhost:8080/"
        },
        "id": "pC_8-33oRwiI",
        "outputId": "18166229-4d71-400c-c7c1-9e8367bc2f67"
      },
      "execution_count": 28,
      "outputs": [
        {
          "output_type": "execute_result",
          "data": {
            "text/plain": [
              "torch.Size([40, 3])"
            ]
          },
          "metadata": {},
          "execution_count": 28
        }
      ]
    },
    {
      "cell_type": "code",
      "source": [
        "C[X].shape"
      ],
      "metadata": {
        "colab": {
          "base_uri": "https://localhost:8080/"
        },
        "id": "oVf_vP2iRrVC",
        "outputId": "2608b814-5444-4d7a-f133-c6ffd6b5da3b"
      },
      "execution_count": 29,
      "outputs": [
        {
          "output_type": "execute_result",
          "data": {
            "text/plain": [
              "torch.Size([40, 3, 2])"
            ]
          },
          "metadata": {},
          "execution_count": 29
        }
      ]
    },
    {
      "cell_type": "code",
      "source": [
        "X"
      ],
      "metadata": {
        "colab": {
          "base_uri": "https://localhost:8080/"
        },
        "id": "Bj21rxGxSGA2",
        "outputId": "79e6d971-0540-4d1a-98c8-4cea9f510200"
      },
      "execution_count": 30,
      "outputs": [
        {
          "output_type": "execute_result",
          "data": {
            "text/plain": [
              "tensor([[ 0,  0,  0],\n",
              "        [ 0,  0,  1],\n",
              "        [ 0,  1,  1],\n",
              "        [ 1,  1,  3],\n",
              "        [ 1,  3,  8],\n",
              "        [ 3,  8,  1],\n",
              "        [ 8,  1, 12],\n",
              "        [ 0,  0,  0],\n",
              "        [ 0,  0,  1],\n",
              "        [ 0,  1,  1],\n",
              "        [ 1,  1,  4],\n",
              "        [ 1,  4,  8],\n",
              "        [ 4,  8,  1],\n",
              "        [ 8,  1, 18],\n",
              "        [ 1, 18, 19],\n",
              "        [18, 19,  8],\n",
              "        [ 0,  0,  0],\n",
              "        [ 0,  0,  1],\n",
              "        [ 0,  1,  1],\n",
              "        [ 1,  1,  4],\n",
              "        [ 1,  4,  8],\n",
              "        [ 4,  8,  1],\n",
              "        [ 8,  1, 22],\n",
              "        [ 1, 22,  9],\n",
              "        [ 0,  0,  0],\n",
              "        [ 0,  0,  1],\n",
              "        [ 0,  1,  1],\n",
              "        [ 1,  1,  4],\n",
              "        [ 1,  4,  8],\n",
              "        [ 4,  8,  9],\n",
              "        [ 8,  9, 18],\n",
              "        [ 9, 18,  1],\n",
              "        [ 0,  0,  0],\n",
              "        [ 0,  0,  1],\n",
              "        [ 0,  1,  1],\n",
              "        [ 1,  1,  4],\n",
              "        [ 1,  4,  9],\n",
              "        [ 4,  9,  4],\n",
              "        [ 9,  4,  5],\n",
              "        [ 4,  5, 22]])"
            ]
          },
          "metadata": {},
          "execution_count": 30
        }
      ]
    },
    {
      "cell_type": "code",
      "source": [
        "X[14,2]"
      ],
      "metadata": {
        "colab": {
          "base_uri": "https://localhost:8080/"
        },
        "id": "Usq3lm5KRu9h",
        "outputId": "896f3cfc-c721-42a7-dadf-6844092852eb"
      },
      "execution_count": 31,
      "outputs": [
        {
          "output_type": "execute_result",
          "data": {
            "text/plain": [
              "tensor(19)"
            ]
          },
          "metadata": {},
          "execution_count": 31
        }
      ]
    },
    {
      "cell_type": "code",
      "source": [
        "C[X][14,2] # this is all about the indexing"
      ],
      "metadata": {
        "colab": {
          "base_uri": "https://localhost:8080/"
        },
        "id": "D-LRKz91R8Wd",
        "outputId": "7ebc43d0-4409-4a90-ead7-5e9889c10396"
      },
      "execution_count": 32,
      "outputs": [
        {
          "output_type": "execute_result",
          "data": {
            "text/plain": [
              "tensor([1.6216, 0.2640])"
            ]
          },
          "metadata": {},
          "execution_count": 32
        }
      ]
    },
    {
      "cell_type": "code",
      "source": [
        "C[19]"
      ],
      "metadata": {
        "colab": {
          "base_uri": "https://localhost:8080/"
        },
        "id": "MgpqDheVSATl",
        "outputId": "ca662a7c-39e2-4536-b262-65f7848bc7ac"
      },
      "execution_count": 33,
      "outputs": [
        {
          "output_type": "execute_result",
          "data": {
            "text/plain": [
              "tensor([1.6216, 0.2640])"
            ]
          },
          "metadata": {},
          "execution_count": 33
        }
      ]
    },
    {
      "cell_type": "code",
      "source": [
        "emb = C[X]\n",
        "emb.shape"
      ],
      "metadata": {
        "colab": {
          "base_uri": "https://localhost:8080/"
        },
        "id": "DgCpZyV6SBlv",
        "outputId": "07fcf13d-5d1d-4b60-e70d-1e182a836385"
      },
      "execution_count": 96,
      "outputs": [
        {
          "output_type": "execute_result",
          "data": {
            "text/plain": [
              "torch.Size([16382, 3, 2])"
            ]
          },
          "metadata": {},
          "execution_count": 96
        }
      ]
    },
    {
      "cell_type": "code",
      "source": [
        "w1 = torch.randn((6,100))\n",
        "b1 = torch.randn(100)"
      ],
      "metadata": {
        "id": "8eXMuJQ9SqQq"
      },
      "execution_count": 97,
      "outputs": []
    },
    {
      "cell_type": "code",
      "source": [
        "h = torch.tanh(emb.view(-1,6)@w1+b1)"
      ],
      "metadata": {
        "id": "yaO39e3xY3CT"
      },
      "execution_count": 36,
      "outputs": []
    },
    {
      "cell_type": "code",
      "source": [
        "h"
      ],
      "metadata": {
        "colab": {
          "base_uri": "https://localhost:8080/"
        },
        "id": "zN5PRbDZZAtZ",
        "outputId": "233be120-ef3b-467a-c1b8-0721f4e1f4bd"
      },
      "execution_count": 37,
      "outputs": [
        {
          "output_type": "execute_result",
          "data": {
            "text/plain": [
              "tensor([[-1.0000,  0.9998, -1.0000,  ..., -0.9975, -0.9903, -1.0000],\n",
              "        [ 0.7334,  0.9984, -0.9910,  ..., -0.9187, -0.9397, -1.0000],\n",
              "        [ 0.9936,  0.9998, -0.6026,  ..., -0.7893,  0.7041, -0.7928],\n",
              "        ...,\n",
              "        [-0.9810,  0.8918, -0.7852,  ...,  0.2934,  0.8944, -0.9973],\n",
              "        [ 1.0000,  0.9697, -0.0893,  ...,  0.2294, -0.7643, -0.5562],\n",
              "        [ 0.8534,  0.9535,  0.7604,  ..., -0.7628,  0.8532,  0.7970]])"
            ]
          },
          "metadata": {},
          "execution_count": 37
        }
      ]
    },
    {
      "cell_type": "code",
      "source": [
        "h.shape # 100 activations for 40 examples for there are 100 neurons in our hidden layer and there are 40 examples"
      ],
      "metadata": {
        "colab": {
          "base_uri": "https://localhost:8080/"
        },
        "id": "e7xQ0bssZBL9",
        "outputId": "6e3f4024-ef8c-42e4-d8e4-9fd7346fa401"
      },
      "execution_count": 38,
      "outputs": [
        {
          "output_type": "execute_result",
          "data": {
            "text/plain": [
              "torch.Size([40, 100])"
            ]
          },
          "metadata": {},
          "execution_count": 38
        }
      ]
    },
    {
      "cell_type": "code",
      "source": [
        "h[0] # activation of 100 neurons for the first input"
      ],
      "metadata": {
        "colab": {
          "base_uri": "https://localhost:8080/"
        },
        "id": "HjcO7x4ZaYr-",
        "outputId": "4afdd19e-c5a1-475d-8d87-edc5d61faf8e"
      },
      "execution_count": 39,
      "outputs": [
        {
          "output_type": "execute_result",
          "data": {
            "text/plain": [
              "tensor([-1.0000,  0.9998, -1.0000,  0.5783, -1.0000, -1.0000, -1.0000, -0.9879,\n",
              "         1.0000,  0.3149, -0.9989, -1.0000, -1.0000,  0.9994, -1.0000,  0.9993,\n",
              "         0.9821, -0.0408,  0.6834, -0.9956,  0.0995,  1.0000, -0.9989,  0.9858,\n",
              "         1.0000, -0.9974, -0.9969, -0.9089,  0.9979, -0.9994,  0.9772,  0.9926,\n",
              "         0.6845, -0.9746,  1.0000,  0.9931, -0.9971,  0.8649, -0.9870, -0.2394,\n",
              "        -0.9178, -0.9670, -0.8310,  1.0000, -0.4672, -1.0000,  0.8339,  0.9568,\n",
              "         0.9219, -0.9971, -0.7773,  1.0000,  0.9989,  0.8568,  0.1586, -0.9904,\n",
              "         0.9995, -1.0000, -0.5903,  0.8766, -0.8781,  1.0000, -1.0000,  0.9479,\n",
              "        -0.8715,  1.0000, -0.9112, -0.5795,  0.9823, -0.9002, -0.1215,  0.9994,\n",
              "         0.9973,  0.7959, -0.9998, -0.7772, -0.8649, -0.6257,  1.0000,  0.8943,\n",
              "         1.0000, -0.9621, -0.9979, -1.0000,  0.1353,  0.9151,  1.0000, -0.9400,\n",
              "         0.9070,  1.0000,  0.7399,  1.0000, -1.0000, -0.6124,  0.3347, -1.0000,\n",
              "         1.0000, -0.9975, -0.9903, -1.0000])"
            ]
          },
          "metadata": {},
          "execution_count": 39
        }
      ]
    },
    {
      "cell_type": "code",
      "source": [
        "h[:,0] ## activation of the first neuron for 40 examples"
      ],
      "metadata": {
        "colab": {
          "base_uri": "https://localhost:8080/"
        },
        "id": "vyCJxx3NZCsm",
        "outputId": "b165b983-ba69-410e-d6ae-89ffdd9952ab"
      },
      "execution_count": 40,
      "outputs": [
        {
          "output_type": "execute_result",
          "data": {
            "text/plain": [
              "tensor([-1.0000,  0.7334,  0.9936,  0.9795, -0.7482, -0.9616,  0.9999, -1.0000,\n",
              "         0.7334,  0.9936, -0.9876, -0.9784, -0.7704, -0.4467, -0.9980,  1.0000,\n",
              "        -1.0000,  0.7334,  0.9936, -0.9876, -0.9784, -0.7704,  0.7947, -0.9968,\n",
              "        -1.0000,  0.7334,  0.9936, -0.9876, -0.9784, -0.9976, -0.6580,  0.9878,\n",
              "        -1.0000,  0.7334,  0.9936, -0.9876, -0.9995, -0.9810,  1.0000,  0.8534])"
            ]
          },
          "metadata": {},
          "execution_count": 40
        }
      ]
    },
    {
      "cell_type": "code",
      "source": [
        "w2 = torch.randn((100,27)) # 100 is the number of inputs and 27 is the number of neurons in the next layer\n",
        "# this is our ouput layer and has 27 neurons as we have 27 outputs\n",
        "b2 = torch.randn(27)"
      ],
      "metadata": {
        "id": "-75CSRYOamdv"
      },
      "execution_count": 41,
      "outputs": []
    },
    {
      "cell_type": "code",
      "source": [
        "logits = h@w2+b2"
      ],
      "metadata": {
        "id": "F6iY7s3VbLaI"
      },
      "execution_count": 42,
      "outputs": []
    },
    {
      "cell_type": "code",
      "source": [
        "logits.shape"
      ],
      "metadata": {
        "colab": {
          "base_uri": "https://localhost:8080/"
        },
        "id": "JP7HK8zDbkwa",
        "outputId": "e5600c66-7a5a-43a3-e61e-9193709d6837"
      },
      "execution_count": 43,
      "outputs": [
        {
          "output_type": "execute_result",
          "data": {
            "text/plain": [
              "torch.Size([40, 27])"
            ]
          },
          "metadata": {},
          "execution_count": 43
        }
      ]
    },
    {
      "cell_type": "code",
      "source": [
        "counts = logits.exp()\n",
        "probs = counts / counts.sum(1,keepdims = True)\n",
        "probs.shape # there are 40 training examples and we have 27 outputs for one single training example"
      ],
      "metadata": {
        "colab": {
          "base_uri": "https://localhost:8080/"
        },
        "id": "Ad4EEDH5bg20",
        "outputId": "9a4803cf-4bb4-475e-cfd1-93281ff2e136"
      },
      "execution_count": 44,
      "outputs": [
        {
          "output_type": "execute_result",
          "data": {
            "text/plain": [
              "torch.Size([40, 27])"
            ]
          },
          "metadata": {},
          "execution_count": 44
        }
      ]
    },
    {
      "cell_type": "code",
      "source": [
        "# we want the probability assigned to the real next chracter\n",
        "Y"
      ],
      "metadata": {
        "colab": {
          "base_uri": "https://localhost:8080/"
        },
        "id": "FZpRrqWKbsQC",
        "outputId": "a582e697-faad-4217-8aa5-b13d32c13e5d"
      },
      "execution_count": 45,
      "outputs": [
        {
          "output_type": "execute_result",
          "data": {
            "text/plain": [
              "tensor([ 1,  1,  3,  8,  1, 12,  0,  1,  1,  4,  8,  1, 18, 19,  8,  0,  1,  1,\n",
              "         4,  8,  1, 22,  9,  0,  1,  1,  4,  8,  9, 18,  1,  0,  1,  1,  4,  9,\n",
              "         4,  5, 22,  0])"
            ]
          },
          "metadata": {},
          "execution_count": 45
        }
      ]
    },
    {
      "cell_type": "code",
      "source": [
        "# so Y is the next right token/character to come next\n",
        "probs[torch.arange(40),Y] # these are the probs assigned by our model to the correct next character"
      ],
      "metadata": {
        "colab": {
          "base_uri": "https://localhost:8080/"
        },
        "id": "Jt4wv_9OcNo7",
        "outputId": "093e0538-880e-49e9-8543-ce29e4979263"
      },
      "execution_count": 71,
      "outputs": [
        {
          "output_type": "execute_result",
          "data": {
            "text/plain": [
              "tensor([3.3598e-11, 1.9768e-08, 2.0984e-05, 2.4494e-01, 6.6873e-05, 3.3669e-07,\n",
              "        7.2495e-06, 3.3598e-11, 1.9768e-08, 4.5371e-12, 1.2810e-06, 3.9147e-10,\n",
              "        6.2545e-05, 2.1668e-06, 2.8837e-13, 2.7465e-13, 3.3598e-11, 1.9768e-08,\n",
              "        4.5371e-12, 1.2810e-06, 3.9147e-10, 2.2277e-06, 4.9442e-10, 4.4980e-11,\n",
              "        3.3598e-11, 1.9768e-08, 4.5371e-12, 1.2810e-06, 3.2524e-09, 8.4743e-08,\n",
              "        3.8729e-05, 1.4232e-09, 3.3598e-11, 1.9768e-08, 4.5371e-12, 5.7234e-08,\n",
              "        4.9336e-09, 6.6754e-09, 3.3915e-09, 3.1535e-08])"
            ]
          },
          "metadata": {},
          "execution_count": 71
        }
      ]
    },
    {
      "cell_type": "code",
      "source": [
        "loss = -probs[torch.arange(40),Y].log().mean()\n",
        "loss"
      ],
      "metadata": {
        "colab": {
          "base_uri": "https://localhost:8080/"
        },
        "id": "4et6PuZpcYNB",
        "outputId": "3ae038f8-4569-4efa-c62a-8f87c80e7e99"
      },
      "execution_count": 72,
      "outputs": [
        {
          "output_type": "execute_result",
          "data": {
            "text/plain": [
              "tensor(18.5714)"
            ]
          },
          "metadata": {},
          "execution_count": 72
        }
      ]
    },
    {
      "cell_type": "markdown",
      "source": [
        "## summary"
      ],
      "metadata": {
        "id": "F2r6HuL-dn6i"
      }
    },
    {
      "cell_type": "code",
      "source": [
        "g = torch.Generator().manual_seed(2147) # for reproducibility\n",
        "C = torch.randn((27, 2), generator=g)\n",
        "w1 = torch.randn((6, 100), generator=g)\n",
        "b1 = torch.randn(100, generator=g  )\n",
        "w2 = torch.randn((100, 27), generator=g )\n",
        "b2 = torch.randn(27, generator=g)\n",
        "parameters = [C, w1, b1, w2, b2]"
      ],
      "metadata": {
        "id": "N-zy0cd6ghHF"
      },
      "execution_count": 143,
      "outputs": []
    },
    {
      "cell_type": "code",
      "source": [
        "for p in parameters:\n",
        "  p.requires_grad = True"
      ],
      "metadata": {
        "id": "_srxqsI6EGVJ"
      },
      "execution_count": 144,
      "outputs": []
    },
    {
      "cell_type": "code",
      "source": [
        "sum(p.nelement() for p in parameters) # number of parameters in total"
      ],
      "metadata": {
        "colab": {
          "base_uri": "https://localhost:8080/"
        },
        "id": "rxPX3US5ghxG",
        "outputId": "80ea99ec-89c7-4ac0-a6de-2a6c7c3d6814"
      },
      "execution_count": 137,
      "outputs": [
        {
          "output_type": "execute_result",
          "data": {
            "text/plain": [
              "3481"
            ]
          },
          "metadata": {},
          "execution_count": 137
        }
      ]
    },
    {
      "cell_type": "code",
      "source": [
        "k_vales = []\n",
        "loss_vales = []\n",
        "for k in range(40):\n",
        "  emb = C[X]\n",
        "  h = torch.tanh(emb.view(-1,6)@w1+b1)\n",
        "  logits = h@w2+b2\n",
        "  # counts = logits.exp()\n",
        "  probs = counts / counts.sum(1,keepdims = True)\n",
        "  # loss = -probs.log().mean()\n",
        "  loss = f.cross_entropy(logits,Y)\n",
        "\n",
        "  # backward pass\n",
        "  for p in parameters:\n",
        "    p.grad = None\n",
        "  loss.backward()\n",
        "  # gradient descent\n",
        "  for p in parameters:\n",
        "    p.data+=-0.4*p.grad\n",
        "  print(k,loss.item())\n",
        "  k_vales.append(k)\n",
        "  loss_vales.append(loss.item())\n"
      ],
      "metadata": {
        "colab": {
          "base_uri": "https://localhost:8080/"
        },
        "collapsed": true,
        "id": "hx9SXZk7gkcd",
        "outputId": "2a9256dd-3a00-489a-e87e-01788394f63a"
      },
      "execution_count": 109,
      "outputs": [
        {
          "output_type": "stream",
          "name": "stdout",
          "text": [
            "0 3.0776028633117676\n",
            "1 2.6170454025268555\n",
            "2 2.50870418548584\n",
            "3 2.496213674545288\n",
            "4 2.491098642349243\n",
            "5 2.4868288040161133\n",
            "6 2.4852964878082275\n",
            "7 2.482588529586792\n",
            "8 2.482762336730957\n",
            "9 2.480666399002075\n",
            "10 2.482431411743164\n",
            "11 2.4804632663726807\n",
            "12 2.484006404876709\n",
            "13 2.481621742248535\n",
            "14 2.4871013164520264\n",
            "15 2.4836151599884033\n",
            "16 2.490961790084839\n",
            "17 2.485722541809082\n",
            "18 2.494584798812866\n",
            "19 2.4872817993164062\n",
            "20 2.4971723556518555\n",
            "21 2.48797345161438\n",
            "22 2.498483419418335\n",
            "23 2.4878528118133545\n",
            "24 2.4987435340881348\n",
            "25 2.4871604442596436\n",
            "26 2.4983246326446533\n",
            "27 2.486138343811035\n",
            "28 2.497530698776245\n",
            "29 2.4849517345428467\n",
            "30 2.4965507984161377\n",
            "31 2.4836955070495605\n",
            "32 2.4954843521118164\n",
            "33 2.4824166297912598\n",
            "34 2.4943792819976807\n",
            "35 2.481135129928589\n",
            "36 2.493255853652954\n",
            "37 2.479860782623291\n",
            "38 2.492124557495117\n",
            "39 2.47859525680542\n"
          ]
        }
      ]
    },
    {
      "cell_type": "markdown",
      "source": [
        "### Choosing the correct value of the learning rate"
      ],
      "metadata": {
        "id": "gQRuC6V6FxLF"
      }
    },
    {
      "cell_type": "code",
      "source": [
        "lre = torch.linspace(-3,0,1000)\n",
        "lrs = 10**lre\n",
        "lrs"
      ],
      "metadata": {
        "colab": {
          "base_uri": "https://localhost:8080/"
        },
        "collapsed": true,
        "id": "w8u8T6yEPLzO",
        "outputId": "d3c948e6-a979-4b06-f771-dfdd0f4b11f8"
      },
      "execution_count": 138,
      "outputs": [
        {
          "output_type": "execute_result",
          "data": {
            "text/plain": [
              "tensor([0.0010, 0.0010, 0.0010, 0.0010, 0.0010, 0.0010, 0.0010, 0.0010, 0.0011,\n",
              "        0.0011, 0.0011, 0.0011, 0.0011, 0.0011, 0.0011, 0.0011, 0.0011, 0.0011,\n",
              "        0.0011, 0.0011, 0.0011, 0.0012, 0.0012, 0.0012, 0.0012, 0.0012, 0.0012,\n",
              "        0.0012, 0.0012, 0.0012, 0.0012, 0.0012, 0.0012, 0.0013, 0.0013, 0.0013,\n",
              "        0.0013, 0.0013, 0.0013, 0.0013, 0.0013, 0.0013, 0.0013, 0.0013, 0.0014,\n",
              "        0.0014, 0.0014, 0.0014, 0.0014, 0.0014, 0.0014, 0.0014, 0.0014, 0.0014,\n",
              "        0.0015, 0.0015, 0.0015, 0.0015, 0.0015, 0.0015, 0.0015, 0.0015, 0.0015,\n",
              "        0.0015, 0.0016, 0.0016, 0.0016, 0.0016, 0.0016, 0.0016, 0.0016, 0.0016,\n",
              "        0.0016, 0.0017, 0.0017, 0.0017, 0.0017, 0.0017, 0.0017, 0.0017, 0.0017,\n",
              "        0.0018, 0.0018, 0.0018, 0.0018, 0.0018, 0.0018, 0.0018, 0.0018, 0.0019,\n",
              "        0.0019, 0.0019, 0.0019, 0.0019, 0.0019, 0.0019, 0.0019, 0.0020, 0.0020,\n",
              "        0.0020, 0.0020, 0.0020, 0.0020, 0.0020, 0.0021, 0.0021, 0.0021, 0.0021,\n",
              "        0.0021, 0.0021, 0.0021, 0.0022, 0.0022, 0.0022, 0.0022, 0.0022, 0.0022,\n",
              "        0.0022, 0.0023, 0.0023, 0.0023, 0.0023, 0.0023, 0.0023, 0.0024, 0.0024,\n",
              "        0.0024, 0.0024, 0.0024, 0.0024, 0.0025, 0.0025, 0.0025, 0.0025, 0.0025,\n",
              "        0.0025, 0.0026, 0.0026, 0.0026, 0.0026, 0.0026, 0.0027, 0.0027, 0.0027,\n",
              "        0.0027, 0.0027, 0.0027, 0.0028, 0.0028, 0.0028, 0.0028, 0.0028, 0.0029,\n",
              "        0.0029, 0.0029, 0.0029, 0.0029, 0.0030, 0.0030, 0.0030, 0.0030, 0.0030,\n",
              "        0.0031, 0.0031, 0.0031, 0.0031, 0.0032, 0.0032, 0.0032, 0.0032, 0.0032,\n",
              "        0.0033, 0.0033, 0.0033, 0.0033, 0.0034, 0.0034, 0.0034, 0.0034, 0.0034,\n",
              "        0.0035, 0.0035, 0.0035, 0.0035, 0.0036, 0.0036, 0.0036, 0.0036, 0.0037,\n",
              "        0.0037, 0.0037, 0.0037, 0.0038, 0.0038, 0.0038, 0.0039, 0.0039, 0.0039,\n",
              "        0.0039, 0.0040, 0.0040, 0.0040, 0.0040, 0.0041, 0.0041, 0.0041, 0.0042,\n",
              "        0.0042, 0.0042, 0.0042, 0.0043, 0.0043, 0.0043, 0.0044, 0.0044, 0.0044,\n",
              "        0.0045, 0.0045, 0.0045, 0.0045, 0.0046, 0.0046, 0.0046, 0.0047, 0.0047,\n",
              "        0.0047, 0.0048, 0.0048, 0.0048, 0.0049, 0.0049, 0.0049, 0.0050, 0.0050,\n",
              "        0.0050, 0.0051, 0.0051, 0.0051, 0.0052, 0.0052, 0.0053, 0.0053, 0.0053,\n",
              "        0.0054, 0.0054, 0.0054, 0.0055, 0.0055, 0.0056, 0.0056, 0.0056, 0.0057,\n",
              "        0.0057, 0.0058, 0.0058, 0.0058, 0.0059, 0.0059, 0.0060, 0.0060, 0.0060,\n",
              "        0.0061, 0.0061, 0.0062, 0.0062, 0.0062, 0.0063, 0.0063, 0.0064, 0.0064,\n",
              "        0.0065, 0.0065, 0.0066, 0.0066, 0.0067, 0.0067, 0.0067, 0.0068, 0.0068,\n",
              "        0.0069, 0.0069, 0.0070, 0.0070, 0.0071, 0.0071, 0.0072, 0.0072, 0.0073,\n",
              "        0.0073, 0.0074, 0.0074, 0.0075, 0.0075, 0.0076, 0.0076, 0.0077, 0.0077,\n",
              "        0.0078, 0.0079, 0.0079, 0.0080, 0.0080, 0.0081, 0.0081, 0.0082, 0.0082,\n",
              "        0.0083, 0.0084, 0.0084, 0.0085, 0.0085, 0.0086, 0.0086, 0.0087, 0.0088,\n",
              "        0.0088, 0.0089, 0.0090, 0.0090, 0.0091, 0.0091, 0.0092, 0.0093, 0.0093,\n",
              "        0.0094, 0.0095, 0.0095, 0.0096, 0.0097, 0.0097, 0.0098, 0.0099, 0.0099,\n",
              "        0.0100, 0.0101, 0.0101, 0.0102, 0.0103, 0.0104, 0.0104, 0.0105, 0.0106,\n",
              "        0.0106, 0.0107, 0.0108, 0.0109, 0.0109, 0.0110, 0.0111, 0.0112, 0.0112,\n",
              "        0.0113, 0.0114, 0.0115, 0.0116, 0.0116, 0.0117, 0.0118, 0.0119, 0.0120,\n",
              "        0.0121, 0.0121, 0.0122, 0.0123, 0.0124, 0.0125, 0.0126, 0.0127, 0.0127,\n",
              "        0.0128, 0.0129, 0.0130, 0.0131, 0.0132, 0.0133, 0.0134, 0.0135, 0.0136,\n",
              "        0.0137, 0.0137, 0.0138, 0.0139, 0.0140, 0.0141, 0.0142, 0.0143, 0.0144,\n",
              "        0.0145, 0.0146, 0.0147, 0.0148, 0.0149, 0.0150, 0.0151, 0.0152, 0.0154,\n",
              "        0.0155, 0.0156, 0.0157, 0.0158, 0.0159, 0.0160, 0.0161, 0.0162, 0.0163,\n",
              "        0.0165, 0.0166, 0.0167, 0.0168, 0.0169, 0.0170, 0.0171, 0.0173, 0.0174,\n",
              "        0.0175, 0.0176, 0.0178, 0.0179, 0.0180, 0.0181, 0.0182, 0.0184, 0.0185,\n",
              "        0.0186, 0.0188, 0.0189, 0.0190, 0.0192, 0.0193, 0.0194, 0.0196, 0.0197,\n",
              "        0.0198, 0.0200, 0.0201, 0.0202, 0.0204, 0.0205, 0.0207, 0.0208, 0.0210,\n",
              "        0.0211, 0.0212, 0.0214, 0.0215, 0.0217, 0.0218, 0.0220, 0.0221, 0.0223,\n",
              "        0.0225, 0.0226, 0.0228, 0.0229, 0.0231, 0.0232, 0.0234, 0.0236, 0.0237,\n",
              "        0.0239, 0.0241, 0.0242, 0.0244, 0.0246, 0.0247, 0.0249, 0.0251, 0.0253,\n",
              "        0.0254, 0.0256, 0.0258, 0.0260, 0.0261, 0.0263, 0.0265, 0.0267, 0.0269,\n",
              "        0.0271, 0.0273, 0.0274, 0.0276, 0.0278, 0.0280, 0.0282, 0.0284, 0.0286,\n",
              "        0.0288, 0.0290, 0.0292, 0.0294, 0.0296, 0.0298, 0.0300, 0.0302, 0.0304,\n",
              "        0.0307, 0.0309, 0.0311, 0.0313, 0.0315, 0.0317, 0.0320, 0.0322, 0.0324,\n",
              "        0.0326, 0.0328, 0.0331, 0.0333, 0.0335, 0.0338, 0.0340, 0.0342, 0.0345,\n",
              "        0.0347, 0.0350, 0.0352, 0.0354, 0.0357, 0.0359, 0.0362, 0.0364, 0.0367,\n",
              "        0.0369, 0.0372, 0.0375, 0.0377, 0.0380, 0.0382, 0.0385, 0.0388, 0.0390,\n",
              "        0.0393, 0.0396, 0.0399, 0.0401, 0.0404, 0.0407, 0.0410, 0.0413, 0.0416,\n",
              "        0.0418, 0.0421, 0.0424, 0.0427, 0.0430, 0.0433, 0.0436, 0.0439, 0.0442,\n",
              "        0.0445, 0.0448, 0.0451, 0.0455, 0.0458, 0.0461, 0.0464, 0.0467, 0.0471,\n",
              "        0.0474, 0.0477, 0.0480, 0.0484, 0.0487, 0.0491, 0.0494, 0.0497, 0.0501,\n",
              "        0.0504, 0.0508, 0.0511, 0.0515, 0.0518, 0.0522, 0.0526, 0.0529, 0.0533,\n",
              "        0.0537, 0.0540, 0.0544, 0.0548, 0.0552, 0.0556, 0.0559, 0.0563, 0.0567,\n",
              "        0.0571, 0.0575, 0.0579, 0.0583, 0.0587, 0.0591, 0.0595, 0.0599, 0.0604,\n",
              "        0.0608, 0.0612, 0.0616, 0.0621, 0.0625, 0.0629, 0.0634, 0.0638, 0.0642,\n",
              "        0.0647, 0.0651, 0.0656, 0.0660, 0.0665, 0.0670, 0.0674, 0.0679, 0.0684,\n",
              "        0.0688, 0.0693, 0.0698, 0.0703, 0.0708, 0.0713, 0.0718, 0.0723, 0.0728,\n",
              "        0.0733, 0.0738, 0.0743, 0.0748, 0.0753, 0.0758, 0.0764, 0.0769, 0.0774,\n",
              "        0.0780, 0.0785, 0.0790, 0.0796, 0.0802, 0.0807, 0.0813, 0.0818, 0.0824,\n",
              "        0.0830, 0.0835, 0.0841, 0.0847, 0.0853, 0.0859, 0.0865, 0.0871, 0.0877,\n",
              "        0.0883, 0.0889, 0.0895, 0.0901, 0.0908, 0.0914, 0.0920, 0.0927, 0.0933,\n",
              "        0.0940, 0.0946, 0.0953, 0.0959, 0.0966, 0.0973, 0.0979, 0.0986, 0.0993,\n",
              "        0.1000, 0.1007, 0.1014, 0.1021, 0.1028, 0.1035, 0.1042, 0.1050, 0.1057,\n",
              "        0.1064, 0.1072, 0.1079, 0.1087, 0.1094, 0.1102, 0.1109, 0.1117, 0.1125,\n",
              "        0.1133, 0.1140, 0.1148, 0.1156, 0.1164, 0.1172, 0.1181, 0.1189, 0.1197,\n",
              "        0.1205, 0.1214, 0.1222, 0.1231, 0.1239, 0.1248, 0.1256, 0.1265, 0.1274,\n",
              "        0.1283, 0.1292, 0.1301, 0.1310, 0.1319, 0.1328, 0.1337, 0.1346, 0.1356,\n",
              "        0.1365, 0.1374, 0.1384, 0.1394, 0.1403, 0.1413, 0.1423, 0.1433, 0.1443,\n",
              "        0.1453, 0.1463, 0.1473, 0.1483, 0.1493, 0.1504, 0.1514, 0.1525, 0.1535,\n",
              "        0.1546, 0.1557, 0.1567, 0.1578, 0.1589, 0.1600, 0.1611, 0.1623, 0.1634,\n",
              "        0.1645, 0.1657, 0.1668, 0.1680, 0.1691, 0.1703, 0.1715, 0.1727, 0.1739,\n",
              "        0.1751, 0.1763, 0.1775, 0.1788, 0.1800, 0.1812, 0.1825, 0.1838, 0.1850,\n",
              "        0.1863, 0.1876, 0.1889, 0.1902, 0.1916, 0.1929, 0.1942, 0.1956, 0.1969,\n",
              "        0.1983, 0.1997, 0.2010, 0.2024, 0.2038, 0.2053, 0.2067, 0.2081, 0.2096,\n",
              "        0.2110, 0.2125, 0.2140, 0.2154, 0.2169, 0.2184, 0.2200, 0.2215, 0.2230,\n",
              "        0.2246, 0.2261, 0.2277, 0.2293, 0.2309, 0.2325, 0.2341, 0.2357, 0.2373,\n",
              "        0.2390, 0.2406, 0.2423, 0.2440, 0.2457, 0.2474, 0.2491, 0.2508, 0.2526,\n",
              "        0.2543, 0.2561, 0.2579, 0.2597, 0.2615, 0.2633, 0.2651, 0.2669, 0.2688,\n",
              "        0.2707, 0.2725, 0.2744, 0.2763, 0.2783, 0.2802, 0.2821, 0.2841, 0.2861,\n",
              "        0.2880, 0.2900, 0.2921, 0.2941, 0.2961, 0.2982, 0.3002, 0.3023, 0.3044,\n",
              "        0.3065, 0.3087, 0.3108, 0.3130, 0.3151, 0.3173, 0.3195, 0.3217, 0.3240,\n",
              "        0.3262, 0.3285, 0.3308, 0.3331, 0.3354, 0.3377, 0.3400, 0.3424, 0.3448,\n",
              "        0.3472, 0.3496, 0.3520, 0.3544, 0.3569, 0.3594, 0.3619, 0.3644, 0.3669,\n",
              "        0.3695, 0.3720, 0.3746, 0.3772, 0.3798, 0.3825, 0.3851, 0.3878, 0.3905,\n",
              "        0.3932, 0.3959, 0.3987, 0.4014, 0.4042, 0.4070, 0.4098, 0.4127, 0.4155,\n",
              "        0.4184, 0.4213, 0.4243, 0.4272, 0.4302, 0.4331, 0.4362, 0.4392, 0.4422,\n",
              "        0.4453, 0.4484, 0.4515, 0.4546, 0.4578, 0.4610, 0.4642, 0.4674, 0.4706,\n",
              "        0.4739, 0.4772, 0.4805, 0.4838, 0.4872, 0.4906, 0.4940, 0.4974, 0.5008,\n",
              "        0.5043, 0.5078, 0.5113, 0.5149, 0.5185, 0.5221, 0.5257, 0.5293, 0.5330,\n",
              "        0.5367, 0.5404, 0.5442, 0.5479, 0.5517, 0.5556, 0.5594, 0.5633, 0.5672,\n",
              "        0.5712, 0.5751, 0.5791, 0.5831, 0.5872, 0.5913, 0.5954, 0.5995, 0.6036,\n",
              "        0.6078, 0.6120, 0.6163, 0.6206, 0.6249, 0.6292, 0.6336, 0.6380, 0.6424,\n",
              "        0.6469, 0.6513, 0.6559, 0.6604, 0.6650, 0.6696, 0.6743, 0.6789, 0.6837,\n",
              "        0.6884, 0.6932, 0.6980, 0.7028, 0.7077, 0.7126, 0.7176, 0.7225, 0.7275,\n",
              "        0.7326, 0.7377, 0.7428, 0.7480, 0.7531, 0.7584, 0.7636, 0.7689, 0.7743,\n",
              "        0.7796, 0.7850, 0.7905, 0.7960, 0.8015, 0.8071, 0.8127, 0.8183, 0.8240,\n",
              "        0.8297, 0.8355, 0.8412, 0.8471, 0.8530, 0.8589, 0.8648, 0.8708, 0.8769,\n",
              "        0.8830, 0.8891, 0.8953, 0.9015, 0.9077, 0.9140, 0.9204, 0.9268, 0.9332,\n",
              "        0.9397, 0.9462, 0.9528, 0.9594, 0.9660, 0.9727, 0.9795, 0.9863, 0.9931,\n",
              "        1.0000])"
            ]
          },
          "metadata": {},
          "execution_count": 138
        }
      ]
    },
    {
      "cell_type": "code",
      "source": [
        "lr_values = []\n",
        "loss_values = []\n",
        "for i in range(1000):\n",
        "\n",
        "  emb = C[X]\n",
        "  h = torch.tanh(emb.view(-1,6)@w1+b1)\n",
        "  logits = h@w2+b2\n",
        "  # counts = logits.exp()\n",
        "  # probs = counts / counts.sum(1,keepdims = True)\n",
        "  # loss = -probs.log().mean()\n",
        "  loss = f.cross_entropy(logits,Y)\n",
        "\n",
        "  # backward pass\n",
        "  for p in parameters:\n",
        "    p.grad = None\n",
        "  loss.backward()\n",
        "  # gradient descent\n",
        "  for p in parameters:\n",
        "    p.data+=-lrs[i]*p.grad\n",
        "\n",
        "  lr_values.append(lrs[i])\n",
        "  loss_values.append(loss.item())\n"
      ],
      "metadata": {
        "id": "U8K0nbAZPcqs"
      },
      "execution_count": 140,
      "outputs": []
    },
    {
      "cell_type": "code",
      "source": [
        "plt.plot(lr_values,loss_values)"
      ],
      "metadata": {
        "colab": {
          "base_uri": "https://localhost:8080/",
          "height": 447
        },
        "id": "WIEpSsYxPs2A",
        "outputId": "c787cd5b-a477-4f7e-aafb-5ddec68bf9f7"
      },
      "execution_count": 141,
      "outputs": [
        {
          "output_type": "execute_result",
          "data": {
            "text/plain": [
              "[<matplotlib.lines.Line2D at 0x7867eff023c0>]"
            ]
          },
          "metadata": {},
          "execution_count": 141
        },
        {
          "output_type": "display_data",
          "data": {
            "text/plain": [
              "<Figure size 640x480 with 1 Axes>"
            ],
            "image/png": "[encoded data removed]"
          },
          "metadata": {}
        }
      ]
    },
    {
      "cell_type": "code",
      "source": [
        "# so around 0.2"
      ],
      "metadata": {
        "id": "MiH5VhBjR0sc"
      },
      "execution_count": 142,
      "outputs": []
    },
    {
      "cell_type": "code",
      "source": [
        "\n",
        "for i in range(1000):\n",
        "\n",
        "  emb = C[X]\n",
        "  h = torch.tanh(emb.view(-1,6)@w1+b1)\n",
        "  logits = h@w2+b2\n",
        "  # counts = logits.exp()\n",
        "  # probs = counts / counts.sum(1,keepdims = True)\n",
        "  # loss = -probs.log().mean()\n",
        "  loss = f.cross_entropy(logits,Y)\n",
        "\n",
        "  # backward pass\n",
        "  for p in parameters:\n",
        "    p.grad = None\n",
        "  loss.backward()\n",
        "  # gradient descent\n",
        "  for p in parameters:\n",
        "    p.data+=-0.2*p.grad\n",
        "print(loss.item())"
      ],
      "metadata": {
        "colab": {
          "base_uri": "https://localhost:8080/"
        },
        "collapsed": true,
        "id": "KTJzZS1sR3kf",
        "outputId": "f39067fc-f7de-49f0-e393-b26c386d5875"
      },
      "execution_count": 147,
      "outputs": [
        {
          "output_type": "stream",
          "name": "stdout",
          "text": [
            "2.243673086166382\n"
          ]
        }
      ]
    },
    {
      "cell_type": "code",
      "source": [
        "# now decreasing the loss in the end of training\n",
        "\n",
        "for i in range(1000):\n",
        "\n",
        "  emb = C[X]\n",
        "  h = torch.tanh(emb.view(-1,6)@w1+b1)\n",
        "  logits = h@w2+b2\n",
        "  # counts = logits.exp()\n",
        "  # probs = counts / counts.sum(1,keepdims = True)\n",
        "  # loss = -probs.log().mean()\n",
        "  loss = f.cross_entropy(logits,Y)\n",
        "\n",
        "  # backward pass\n",
        "  for p in parameters:\n",
        "    p.grad = None\n",
        "  loss.backward()\n",
        "  # gradient descent\n",
        "  for p in parameters:\n",
        "    p.data+=-0.14*p.grad\n",
        "print(loss.item())"
      ],
      "metadata": {
        "colab": {
          "base_uri": "https://localhost:8080/"
        },
        "id": "yk843tjPShBQ",
        "outputId": "ba819897-0685-4f8a-fa39-d9994ce2e241"
      },
      "execution_count": 151,
      "outputs": [
        {
          "output_type": "stream",
          "name": "stdout",
          "text": [
            "2.2080161571502686\n"
          ]
        }
      ]
    },
    {
      "cell_type": "markdown",
      "source": [
        "### Breaking data into train,test and validation set"
      ],
      "metadata": {
        "id": "UhTf1Oz6T1eb"
      }
    },
    {
      "cell_type": "code",
      "source": [
        "block_size = 3 # context length: how many characters do we take to predict the next one?\n",
        "\n",
        "def build_dataset(words):\n",
        "  X, Y = [], []\n",
        "  for w in words:\n",
        "\n",
        "    #print(w)\n",
        "    context = [0] * block_size\n",
        "    for ch in w + '.':\n",
        "      ix = stoi[ch]\n",
        "      X.append(context)\n",
        "      Y.append(ix)\n",
        "      #print(''.join(itos[i] for i in context), '--->', itos[ix])\n",
        "      context = context[1:] + [ix] # crop and append\n",
        "\n",
        "  X = torch.tensor(X)\n",
        "  Y = torch.tensor(Y)\n",
        "  print(X.shape, Y.shape)\n",
        "  return X, Y\n",
        "\n",
        "import random\n",
        "random.seed(42)\n",
        "random.shuffle(words)\n",
        "n1 = int(0.8*len(words))\n",
        "n2 = int(0.9*len(words))\n",
        "\n",
        "Xtr, Ytr = build_dataset(words[:n1])\n",
        "Xdev, Ydev = build_dataset(words[n1:n2])\n",
        "Xte, Yte = build_dataset(words[n2:])"
      ],
      "metadata": {
        "colab": {
          "base_uri": "https://localhost:8080/"
        },
        "id": "W3F8Eo1MSrMf",
        "outputId": "65d240ef-6410-429b-bd61-4958c8c5bd54"
      },
      "execution_count": 152,
      "outputs": [
        {
          "output_type": "stream",
          "name": "stdout",
          "text": [
            "torch.Size([13163, 3]) torch.Size([13163])\n",
            "torch.Size([1611, 3]) torch.Size([1611])\n",
            "torch.Size([1608, 3]) torch.Size([1608])\n"
          ]
        }
      ]
    },
    {
      "cell_type": "code",
      "source": [
        "# trainins set examples\n",
        "n1"
      ],
      "metadata": {
        "colab": {
          "base_uri": "https://localhost:8080/"
        },
        "id": "fh118yfhUf44",
        "outputId": "1405b380-380f-4a9e-bba4-dcca3c5e48b1"
      },
      "execution_count": 153,
      "outputs": [
        {
          "output_type": "execute_result",
          "data": {
            "text/plain": [
              "1756"
            ]
          },
          "metadata": {},
          "execution_count": 153
        }
      ]
    },
    {
      "cell_type": "code",
      "source": [
        "# validation examples\n",
        "n2-n1"
      ],
      "metadata": {
        "colab": {
          "base_uri": "https://localhost:8080/"
        },
        "id": "DM61e9fPUlXB",
        "outputId": "2df59ce0-c650-4e89-d746-92732718ac0d"
      },
      "execution_count": 154,
      "outputs": [
        {
          "output_type": "execute_result",
          "data": {
            "text/plain": [
              "219"
            ]
          },
          "metadata": {},
          "execution_count": 154
        }
      ]
    },
    {
      "cell_type": "code",
      "source": [
        "# test examples\n",
        "len(words)-n2"
      ],
      "metadata": {
        "colab": {
          "base_uri": "https://localhost:8080/"
        },
        "id": "zV22pCUmUpyg",
        "outputId": "9e1e55db-d878-45e5-8580-fc417d9e0a57"
      },
      "execution_count": 156,
      "outputs": [
        {
          "output_type": "execute_result",
          "data": {
            "text/plain": [
              "220"
            ]
          },
          "metadata": {},
          "execution_count": 156
        }
      ]
    },
    {
      "cell_type": "markdown",
      "source": [
        "### Using batches to train the model"
      ],
      "metadata": {
        "id": "mL2VcBnpUu0J"
      }
    },
    {
      "cell_type": "code",
      "source": [
        "stepi,lossi = [],[]"
      ],
      "metadata": {
        "id": "52Ndx5qdVK8N"
      },
      "execution_count": 161,
      "outputs": []
    },
    {
      "cell_type": "code",
      "source": [
        "g = torch.Generator().manual_seed(2147) # for reproducibility\n",
        "C = torch.randn((27, 2), generator=g)\n",
        "w1 = torch.randn((6, 100), generator=g)\n",
        "b1 = torch.randn(100, generator=g  )\n",
        "w2 = torch.randn((100, 27), generator=g )\n",
        "b2 = torch.randn(27, generator=g)\n",
        "parameters = [C, w1, b1, w2, b2]"
      ],
      "metadata": {
        "id": "JkCAMrRvViwV"
      },
      "execution_count": 162,
      "outputs": []
    },
    {
      "cell_type": "code",
      "source": [
        "for p in parameters:\n",
        "  p.requires_grad = True"
      ],
      "metadata": {
        "id": "sl6dJ8Q0V6y0"
      },
      "execution_count": 163,
      "outputs": []
    },
    {
      "cell_type": "code",
      "source": [
        "for i in range(1000):\n",
        "\n",
        "  # minibatch construct\n",
        "  ix = torch.randint(0, Xtr.shape[0], (32,))\n",
        "\n",
        "  # forward pass\n",
        "  emb = C[Xtr[ix]] # (32, 3, 10)\n",
        "  h = torch.tanh(emb.view(-1, 6) @ w1 + b1) # (32, 200)\n",
        "  logits = h @ w2 + b2 # (32, 27)\n",
        "  loss = F.cross_entropy(logits, Ytr[ix])\n",
        "  #print(loss.item())\n",
        "\n",
        "  # backward pass\n",
        "  for p in parameters:\n",
        "    p.grad = None\n",
        "  loss.backward()\n",
        "\n",
        "  # update\n",
        "  #lr = lrs[i]\n",
        "  lr = 0.2\n",
        "  for p in parameters:\n",
        "    p.data += -lr * p.grad\n",
        "\n",
        "\n",
        "  stepi.append(i)\n",
        "  lossi.append(loss.item())\n",
        "print(loss.item())"
      ],
      "metadata": {
        "colab": {
          "base_uri": "https://localhost:8080/"
        },
        "id": "IEV9g61KVEu2",
        "outputId": "c3603d9d-a66f-46f9-de01-62badbad0cad"
      },
      "execution_count": 165,
      "outputs": [
        {
          "output_type": "stream",
          "name": "stdout",
          "text": [
            "2.293818712234497\n"
          ]
        }
      ]
    },
    {
      "cell_type": "code",
      "source": [
        "# evaluating the loss on validation set\n",
        "emb = C[Xdev] # (32, 3, 10)\n",
        "h = torch.tanh(emb.view(-1, 6) @ w1 + b1) # (32, 200)\n",
        "logits = h @ w2 + b2 # (32, 27)\n",
        "loss = F.cross_entropy(logits, Ydev)\n",
        "print(loss.item())"
      ],
      "metadata": {
        "colab": {
          "base_uri": "https://localhost:8080/"
        },
        "id": "rJkoQFSYVwKh",
        "outputId": "5022ac57-a46a-42b1-e329-bab7986775c5"
      },
      "execution_count": 168,
      "outputs": [
        {
          "output_type": "stream",
          "name": "stdout",
          "text": [
            "2.5933234691619873\n"
          ]
        }
      ]
    },
    {
      "cell_type": "code",
      "source": [
        "# calculating loss at the test set\n",
        "emb = C[Xte] # (32, 3, 10)\n",
        "h = torch.tanh(emb.view(-1, 6) @ w1 + b1) # (32, 200)\n",
        "logits = h @ w2 + b2 # (32, 27)\n",
        "loss = F.cross_entropy(logits, Yte)\n",
        "print(loss.item())"
      ],
      "metadata": {
        "colab": {
          "base_uri": "https://localhost:8080/"
        },
        "id": "JcarrIHRWmpE",
        "outputId": "a1f7d33b-521b-49f6-c719-091acdf6c70d"
      },
      "execution_count": 169,
      "outputs": [
        {
          "output_type": "stream",
          "name": "stdout",
          "text": [
            "2.5093555450439453\n"
          ]
        }
      ]
    },
    {
      "cell_type": "code",
      "source": [],
      "metadata": {
        "id": "Rsrii1R2XKLf"
      },
      "execution_count": null,
      "outputs": []
    },
    {
      "cell_type": "markdown",
      "source": [
        "### Incereasing the neurons in the hidden layer"
      ],
      "metadata": {
        "id": "9KU5Ly6uYraE"
      }
    },
    {
      "cell_type": "code",
      "source": [
        "g = torch.Generator().manual_seed(2147) # for reproducibility\n",
        "C = torch.randn((27, 2), generator=g)\n",
        "w1 = torch.randn((6, 300), generator=g) # makinng the number of neurons to 300 instead of 100\n",
        "b1 = torch.randn(300, generator=g  )\n",
        "w2 = torch.randn((300, 27), generator=g )\n",
        "b2 = torch.randn(27, generator=g)\n",
        "parameters = [C, w1, b1, w2, b2]\n",
        "for p in parameters:\n",
        "  p.requires_grad = True\n",
        "print(sum(p.nelement() for p in parameters))"
      ],
      "metadata": {
        "colab": {
          "base_uri": "https://localhost:8080/"
        },
        "id": "jIDHIrqYYvcr",
        "outputId": "afdb49c9-b961-4f3a-f6dc-0b5cce0bcfc9"
      },
      "execution_count": 173,
      "outputs": [
        {
          "output_type": "stream",
          "name": "stdout",
          "text": [
            "10281\n"
          ]
        }
      ]
    },
    {
      "cell_type": "code",
      "source": [
        "stepi = []\n",
        "lossi= []\n",
        "for i in range(10000):\n",
        "\n",
        "  # minibatch construct\n",
        "  ix = torch.randint(0, Xtr.shape[0], (32,))\n",
        "\n",
        "  # forward pass\n",
        "  emb = C[Xtr[ix]] # (32, 3, 10)\n",
        "  h = torch.tanh(emb.view(-1, 6) @ w1 + b1) # (32, 200)\n",
        "  logits = h @ w2 + b2 # (32, 27)\n",
        "  loss = F.cross_entropy(logits, Ytr[ix])\n",
        "  #print(loss.item())\n",
        "\n",
        "  # backward pass\n",
        "  for p in parameters:\n",
        "    p.grad = None\n",
        "  loss.backward()\n",
        "\n",
        "  # update\n",
        "  #lr = lrs[i]\n",
        "  lr = 0.2\n",
        "  for p in parameters:\n",
        "    p.data += -lr * p.grad\n",
        "\n",
        "\n",
        "  stepi.append(i)\n",
        "  lossi.append(loss.item())\n",
        "print(loss.item())"
      ],
      "metadata": {
        "colab": {
          "base_uri": "https://localhost:8080/"
        },
        "id": "YUtxz-d0ZCoL",
        "outputId": "a89e6979-e6fd-44bf-a6c4-cf93fc1ef707"
      },
      "execution_count": 174,
      "outputs": [
        {
          "output_type": "stream",
          "name": "stdout",
          "text": [
            "2.300715684890747\n"
          ]
        }
      ]
    },
    {
      "cell_type": "code",
      "source": [
        "stepi = []\n",
        "lossi= []\n",
        "for i in range(10000):\n",
        "\n",
        "  # minibatch construct\n",
        "  ix = torch.randint(0, Xtr.shape[0], (32,))\n",
        "\n",
        "  # forward pass\n",
        "  emb = C[Xtr[ix]] # (32, 3, 10)\n",
        "  h = torch.tanh(emb.view(-1, 6) @ w1 + b1) # (32, 200)\n",
        "  logits = h @ w2 + b2 # (32, 27)\n",
        "  loss = F.cross_entropy(logits, Ytr[ix])\n",
        "  #print(loss.item())\n",
        "\n",
        "  # backward pass\n",
        "  for p in parameters:\n",
        "    p.grad = None\n",
        "  loss.backward()\n",
        "\n",
        "  # update\n",
        "  #lr = lrs[i]\n",
        "  lr = 0.08\n",
        "  for p in parameters:\n",
        "    p.data += -lr * p.grad\n",
        "\n",
        "\n",
        "  stepi.append(i)\n",
        "  lossi.append(loss.item())\n",
        "print(loss.item())"
      ],
      "metadata": {
        "colab": {
          "base_uri": "https://localhost:8080/"
        },
        "id": "Jxs0oq0CZkQ7",
        "outputId": "7a993d6b-155d-42e8-dd0f-4780df269278"
      },
      "execution_count": 183,
      "outputs": [
        {
          "output_type": "stream",
          "name": "stdout",
          "text": [
            "2.1751997470855713\n"
          ]
        }
      ]
    },
    {
      "cell_type": "code",
      "source": [
        "plt.plot(stepi,lossi)"
      ],
      "metadata": {
        "colab": {
          "base_uri": "https://localhost:8080/",
          "height": 447
        },
        "id": "kmg0Z3_nZGbF",
        "outputId": "9a89bc13-20c7-4c61-8932-619afa46163e"
      },
      "execution_count": 184,
      "outputs": [
        {
          "output_type": "execute_result",
          "data": {
            "text/plain": [
              "[<matplotlib.lines.Line2D at 0x7867eec96f30>]"
            ]
          },
          "metadata": {},
          "execution_count": 184
        },
        {
          "output_type": "display_data",
          "data": {
            "text/plain": [
              "<Figure size 640x480 with 1 Axes>"
            ],
            "image/png": "[encoded data removed]"
          },
          "metadata": {}
        }
      ]
    },
    {
      "cell_type": "code",
      "source": [
        "# evaluating the loss on validation set\n",
        "emb = C[Xdev] # (32, 3, 10)\n",
        "h = torch.tanh(emb.view(-1, 6) @ w1 + b1) # (32, 200)\n",
        "logits = h @ w2 + b2 # (32, 27)\n",
        "loss = F.cross_entropy(logits, Ydev)\n",
        "print(loss.item())"
      ],
      "metadata": {
        "colab": {
          "base_uri": "https://localhost:8080/"
        },
        "id": "lK5s1cXsZf84",
        "outputId": "dea78f73-2df0-4635-e715-ee33a40fcd72"
      },
      "execution_count": 185,
      "outputs": [
        {
          "output_type": "stream",
          "name": "stdout",
          "text": [
            "2.3407180309295654\n"
          ]
        }
      ]
    },
    {
      "cell_type": "markdown",
      "source": [
        "### Visualising the embdding matrix C for all the characters a to z"
      ],
      "metadata": {
        "id": "zOQ7xwinaQAU"
      }
    },
    {
      "cell_type": "code",
      "source": [
        "# visualize dimensions 0 and 1 of the embedding matrix C for all characters\n",
        "plt.figure(figsize=(8,8))\n",
        "plt.scatter(C[:,0].data, C[:,1].data, s=200)\n",
        "for i in range(C.shape[0]):\n",
        "    plt.text(C[i,0].item(), C[i,1].item(), itos[i], ha=\"center\", va=\"center\", color='white')\n",
        "plt.grid('minor')"
      ],
      "metadata": {
        "colab": {
          "base_uri": "https://localhost:8080/",
          "height": 676
        },
        "id": "r6Xg-6QvZJL0",
        "outputId": "cc47d68b-104e-4ce8-ea28-1610431ec2d5"
      },
      "execution_count": 187,
      "outputs": [
        {
          "output_type": "display_data",
          "data": {
            "text/plain": [
              "<Figure size 800x800 with 1 Axes>"
            ],
            "image/png": "[encoded data removed]"
          },
          "metadata": {}
        }
      ]
    },
    {
      "cell_type": "code",
      "source": [
        "## notice how vowels a,e,i,o,u are kind of grouped together"
      ],
      "metadata": {
        "id": "9R_ufaUWaMGD"
      },
      "execution_count": 188,
      "outputs": []
    },
    {
      "cell_type": "markdown",
      "source": [
        "### Expanding the embedding size"
      ],
      "metadata": {
        "id": "gS-g0r4vagi-"
      }
    },
    {
      "cell_type": "code",
      "source": [
        "g = torch.Generator().manual_seed(2147) # for reproducibility\n",
        "C = torch.randn((27, 3), generator=g) # now we are using 3 instead of 2 for each character\n",
        "w1 = torch.randn((9, 300), generator=g) # so this layer will receive 3*3  inputs\n",
        "b1 = torch.randn(300, generator=g  )\n",
        "w2 = torch.randn((300, 27), generator=g )\n",
        "b2 = torch.randn(27, generator=g)\n",
        "parameters = [C, w1, b1, w2, b2]\n",
        "for p in parameters:\n",
        "  p.requires_grad = True\n",
        "print(sum(p.nelement() for p in parameters))"
      ],
      "metadata": {
        "colab": {
          "base_uri": "https://localhost:8080/"
        },
        "id": "adGUT0vMfHQu",
        "outputId": "6bd0a360-fa72-4464-f5b1-b8ca6963d656"
      },
      "execution_count": 227,
      "outputs": [
        {
          "output_type": "stream",
          "name": "stdout",
          "text": [
            "11208\n"
          ]
        }
      ]
    },
    {
      "cell_type": "code",
      "source": [
        "stepi = []\n",
        "lossi= []\n",
        "for i in range(10000):\n",
        "\n",
        "  # minibatch construct\n",
        "  ix = torch.randint(0, Xtr.shape[0], (32,))\n",
        "\n",
        "  # forward pass\n",
        "  emb = C[Xtr[ix]] # (32, 3, 10)\n",
        "  h = torch.tanh(emb.view(-1, 9) @ w1 + b1) # (32, 200)\n",
        "  logits = h @ w2 + b2 # (32, 27)\n",
        "  loss = F.cross_entropy(logits, Ytr[ix])\n",
        "  #print(loss.item())\n",
        "\n",
        "  # backward pass\n",
        "  for p in parameters:\n",
        "    p.grad = None\n",
        "  loss.backward()\n",
        "\n",
        "  # update\n",
        "  #lr = lrs[i]\n",
        "  lr = 0.2 if i<8000 else 0.02\n",
        "  for p in parameters:\n",
        "    p.data += -lr * p.grad\n",
        "\n",
        "\n",
        "  stepi.append(i)\n",
        "  lossi.append(loss.log10().item())\n",
        "print(loss.item())"
      ],
      "metadata": {
        "colab": {
          "base_uri": "https://localhost:8080/"
        },
        "id": "1q_a6Bd_fRZy",
        "outputId": "5c1c2b9a-87db-4e96-f83f-eb906739a90f"
      },
      "execution_count": 228,
      "outputs": [
        {
          "output_type": "stream",
          "name": "stdout",
          "text": [
            "1.855973243713379\n"
          ]
        }
      ]
    },
    {
      "cell_type": "code",
      "source": [
        "plt.plot(stepi,lossi)"
      ],
      "metadata": {
        "colab": {
          "base_uri": "https://localhost:8080/",
          "height": 447
        },
        "id": "wV-73Cy0fkPz",
        "outputId": "d093a42c-0159-4b41-8711-c68c4c9f0ebf"
      },
      "execution_count": 229,
      "outputs": [
        {
          "output_type": "execute_result",
          "data": {
            "text/plain": [
              "[<matplotlib.lines.Line2D at 0x7867d88e57c0>]"
            ]
          },
          "metadata": {},
          "execution_count": 229
        },
        {
          "output_type": "display_data",
          "data": {
            "text/plain": [
              "<Figure size 640x480 with 1 Axes>"
            ],
            "image/png": "[encoded data removed]"
          },
          "metadata": {}
        }
      ]
    },
    {
      "cell_type": "code",
      "source": [
        "# evaluating the loss on validation set\n",
        "emb = C[Xdev] # (32, 3, 10)\n",
        "h = torch.tanh(emb.view(-1, 9) @ w1 + b1) # (32, 200) we have to change the view to (-1,9)\n",
        "logits = h @ w2 + b2 # (32, 27)\n",
        "loss = F.cross_entropy(logits, Ydev)\n",
        "print(loss.item())"
      ],
      "metadata": {
        "colab": {
          "base_uri": "https://localhost:8080/"
        },
        "id": "ehy5_c3_fhMS",
        "outputId": "ab1be64a-8595-4e25-8e62-74c43e2705db"
      },
      "execution_count": 215,
      "outputs": [
        {
          "output_type": "stream",
          "name": "stdout",
          "text": [
            "2.2179598808288574\n"
          ]
        }
      ]
    },
    {
      "cell_type": "code",
      "source": [
        "  # enables interactive 3D plots in notebooks\n",
        "\n",
        "import matplotlib.pyplot as plt\n",
        "from mpl_toolkits.mplot3d import Axes3D\n",
        "\n",
        "fig = plt.figure(figsize=(8, 8))\n",
        "ax = fig.add_subplot(111, projection='3d')\n",
        "\n",
        "# 3D scatter\n",
        "ax.scatter(C[:, 0].data, C[:, 1].data, C[:, 2].data, s=200, color='cornflowerblue')\n",
        "\n",
        "# Label each point\n",
        "for i in range(C.shape[0]):\n",
        "    ax.text(\n",
        "        C[i, 0].item(),\n",
        "        C[i, 1].item(),\n",
        "        C[i, 2].item(),\n",
        "        itos[i],\n",
        "        ha='center',\n",
        "        va='center',\n",
        "        color='white',\n",
        "        fontsize=10,\n",
        "        weight='bold'\n",
        "    )\n",
        "\n",
        "ax.set_title(\"3D Character Embeddings\", fontsize=14)\n",
        "ax.set_xlabel('dim 1')\n",
        "ax.set_ylabel('dim 2')\n",
        "ax.set_zlabel('dim 3')\n",
        "ax.grid(True, linestyle='--', alpha=0.5)\n",
        "\n",
        "plt.show()\n"
      ],
      "metadata": {
        "colab": {
          "base_uri": "https://localhost:8080/",
          "height": 676
        },
        "id": "Ngf-8rOEguEA",
        "outputId": "05664756-9673-4bbc-de7f-d4103ecaab47"
      },
      "execution_count": 216,
      "outputs": [
        {
          "output_type": "display_data",
          "data": {
            "text/plain": [
              "<Figure size 800x800 with 1 Axes>"
            ],
            "image/png": "[encoded data removed]"
          },
          "metadata": {}
        }
      ]
    },
    {
      "cell_type": "markdown",
      "source": [
        "### Using 10 dimensional embeddings"
      ],
      "metadata": {
        "id": "x4C6GvlViXKf"
      }
    },
    {
      "cell_type": "code",
      "source": [
        "g = torch.Generator().manual_seed(2147) # for reproducibility\n",
        "C = torch.randn((27, 10), generator=g) # now we are using 10 instead of 2 for each character\n",
        "w1 = torch.randn((30, 300), generator=g) # so this layer will receive 3*10  inputs\n",
        "b1 = torch.randn(300, generator=g  )\n",
        "w2 = torch.randn((300, 27), generator=g )\n",
        "b2 = torch.randn(27, generator=g)\n",
        "parameters = [C, w1, b1, w2, b2]\n",
        "for p in parameters:\n",
        "  p.requires_grad = True\n",
        "print(sum(p.nelement() for p in parameters))\n",
        "\n"
      ],
      "metadata": {
        "colab": {
          "base_uri": "https://localhost:8080/"
        },
        "id": "WE7ayLWdibq0",
        "outputId": "7822a60b-0e2f-47f8-9382-ac36fb22df57"
      },
      "execution_count": 218,
      "outputs": [
        {
          "output_type": "stream",
          "name": "stdout",
          "text": [
            "17697\n"
          ]
        }
      ]
    },
    {
      "cell_type": "code",
      "source": [
        "stepi = []\n",
        "lossi= []\n",
        "for i in range(10000):\n",
        "\n",
        "  # minibatch construct\n",
        "  ix = torch.randint(0, Xtr.shape[0], (32,))\n",
        "\n",
        "  # forward pass\n",
        "  emb = C[Xtr[ix]] # (32, 3, 10)\n",
        "  h = torch.tanh(emb.view(-1, 30) @ w1 + b1) # (32, 200) h here should be -1,30 now\n",
        "  logits = h @ w2 + b2 # (32, 27)\n",
        "  loss = F.cross_entropy(logits, Ytr[ix])\n",
        "  #print(loss.item())\n",
        "\n",
        "  # backward pass\n",
        "  for p in parameters:\n",
        "    p.grad = None\n",
        "  loss.backward()\n",
        "\n",
        "  # update\n",
        "  #lr = lrs[i]\n",
        "  lr = 0.2 if i<8000 else 0.02\n",
        "  for p in parameters:\n",
        "    p.data += -lr * p.grad\n",
        "\n",
        "\n",
        "  stepi.append(i)\n",
        "  lossi.append(loss.log10().item())\n",
        "print(loss.item())"
      ],
      "metadata": {
        "colab": {
          "base_uri": "https://localhost:8080/"
        },
        "id": "H41-zkeCim2a",
        "outputId": "da9b51bc-e82c-4cd2-fb02-9af613d9e6e7"
      },
      "execution_count": 220,
      "outputs": [
        {
          "output_type": "stream",
          "name": "stdout",
          "text": [
            "2.429971694946289\n"
          ]
        }
      ]
    },
    {
      "cell_type": "code",
      "source": [
        "plt.plot(stepi,lossi)"
      ],
      "metadata": {
        "colab": {
          "base_uri": "https://localhost:8080/",
          "height": 447
        },
        "id": "4i5N3u2WiweK",
        "outputId": "725a6f62-3a9c-4542-c8da-a3464e3cbb60"
      },
      "execution_count": 221,
      "outputs": [
        {
          "output_type": "execute_result",
          "data": {
            "text/plain": [
              "[<matplotlib.lines.Line2D at 0x7867e6772930>]"
            ]
          },
          "metadata": {},
          "execution_count": 221
        },
        {
          "output_type": "display_data",
          "data": {
            "text/plain": [
              "<Figure size 640x480 with 1 Axes>"
            ],
            "image/png": "[encoded data removed]"
          },
          "metadata": {}
        }
      ]
    },
    {
      "cell_type": "code",
      "source": [
        "# evaluating the loss on validation set\n",
        "emb = C[Xdev] # (32, 3, 10)\n",
        "h = torch.tanh(emb.view(-1, 30) @ w1 + b1) # (32, 200) we have to change the view to (-1,9)\n",
        "logits = h @ w2 + b2 # (32, 27)\n",
        "loss = F.cross_entropy(logits, Ydev)\n",
        "print(loss.item())"
      ],
      "metadata": {
        "colab": {
          "base_uri": "https://localhost:8080/"
        },
        "id": "JwXhk54giwhk",
        "outputId": "c5aba33f-8e49-4914-dd08-8913b4114073"
      },
      "execution_count": 222,
      "outputs": [
        {
          "output_type": "stream",
          "name": "stdout",
          "text": [
            "2.727308988571167\n"
          ]
        }
      ]
    },
    {
      "cell_type": "code",
      "source": [
        "# sample from the model\n",
        "g = torch.Generator().manual_seed(99+1)\n",
        "\n",
        "for _ in range(20):\n",
        "\n",
        "    out = []\n",
        "    context = [0] * block_size # initialize with all ...\n",
        "    while True:\n",
        "      emb = C[torch.tensor([context])] # (1,block_size,d)\n",
        "      h = torch.tanh(emb.view(1, -1) @ w1 + b1)\n",
        "      logits = h @ w2 + b2\n",
        "      probs = F.softmax(logits, dim=1)\n",
        "      ix = torch.multinomial(probs, num_samples=1, generator=g).item()\n",
        "      context = context[1:] + [ix]\n",
        "      out.append(ix)\n",
        "      if ix == 0:\n",
        "        break\n",
        "\n",
        "    print(''.join(itos[i] for i in out))"
      ],
      "metadata": {
        "colab": {
          "base_uri": "https://localhost:8080/"
        },
        "id": "16RB2XK0jaCI",
        "outputId": "542add92-d21b-4020-d885-07d12e7d28cb"
      },
      "execution_count": 236,
      "outputs": [
        {
          "output_type": "stream",
          "name": "stdout",
          "text": [
            "bcibouba\n",
            "lpboa\n",
            ".bkbswja\n",
            "wbja\n",
            "tbivtiwba\n",
            "tjeexjtia\n",
            "tiba\n",
            "bcivcsbkvohibboa\n",
            "boojwba\n",
            "qsbta\n",
            "ijtzbnbka\n",
            "nboa\n",
            "bokjmja\n",
            "hbsja\n",
            "wbsuiba\n",
            "tibvjcbsba\n",
            "sfinbtibbozba\n",
            "lfwbouia\n",
            "tijua\n",
            "rzja\n"
          ]
        }
      ]
    },
    {
      "cell_type": "code",
      "source": [],
      "metadata": {
        "id": "OneEfVHZmSK2"
      },
      "execution_count": null,
      "outputs": []
    }
  ]
}
{
  "nbformat": 4,
  "nbformat_minor": 0,
  "metadata": {
    "colab": {
      "provenance": []
    },
    "kernelspec": {
      "name": "python3",
      "display_name": "Python 3"
    },
    "language_info": {
      "name": "python"
    }
  },
  "cells": [
    {
      "cell_type": "code",
      "source": [
        "import math\n",
        "import numpy as np\n",
        "import pandas as pd\n",
        "import matplotlib.pyplot as plt\n",
        "%matplotlib inline\n"
      ],
      "metadata": {
        "id": "1vWJW4sRAJnI"
      },
      "execution_count": null,
      "outputs": []
    },
    {
      "cell_type": "code",
      "source": [
        "def f (x):\n",
        "  return 3*x**2-4*x+5"
      ],
      "metadata": {
        "id": "qJpVXj5zAWkc"
      },
      "execution_count": null,
      "outputs": []
    },
    {
      "cell_type": "code",
      "source": [
        "f(3)"
      ],
      "metadata": {
        "colab": {
          "base_uri": "https://localhost:8080/"
        },
        "id": "iLkixm6OAduu",
        "outputId": "5b65d0cf-4f0f-4c2b-d61f-166f94f434d8"
      },
      "execution_count": null,
      "outputs": [
        {
          "output_type": "execute_result",
          "data": {
            "text/plain": [
              "20"
            ]
          },
          "metadata": {},
          "execution_count": 198
        }
      ]
    },
    {
      "cell_type": "code",
      "source": [
        "xs = np.arange(-5,5,0.25)\n",
        "ys = f(xs)\n",
        "plt.plot(xs,ys)"
      ],
      "metadata": {
        "colab": {
          "base_uri": "https://localhost:8080/",
          "height": 447
        },
        "id": "Y2PJXgtDAeYn",
        "outputId": "6008c2b8-2704-4de3-c62e-263016b26157"
      },
      "execution_count": null,
      "outputs": [
        {
          "output_type": "execute_result",
          "data": {
            "text/plain": [
              "[<matplotlib.lines.Line2D at 0x780b35c254c0>]"
            ]
          },
          "metadata": {},
          "execution_count": 199
        },
        {
          "output_type": "display_data",
          "data": {
            "text/plain": [
              "<Figure size 640x480 with 1 Axes>"
            ],
            "image/png": "[encoded data removed]"
          },
          "metadata": {}
        }
      ]
    },
    {
      "cell_type": "code",
      "source": [
        "h = 0.0001\n",
        "x = 1\n",
        "print(f(x))\n",
        "print(f(x+h))\n",
        "(f(x+h)-f(x))/h"
      ],
      "metadata": {
        "colab": {
          "base_uri": "https://localhost:8080/"
        },
        "id": "m-VOYgSbAnBI",
        "outputId": "48dd97f3-0db2-4ea9-9f9d-301e29b33c9b"
      },
      "execution_count": null,
      "outputs": [
        {
          "output_type": "stream",
          "name": "stdout",
          "text": [
            "4\n",
            "4.00020003\n"
          ]
        },
        {
          "output_type": "execute_result",
          "data": {
            "text/plain": [
              "2.0003000000023974"
            ]
          },
          "metadata": {},
          "execution_count": 200
        }
      ]
    },
    {
      "cell_type": "code",
      "source": [
        "a = 2.0\n",
        "b = -3.0\n",
        "c = 10.0\n",
        "d = a*b+c\n",
        "print(d)"
      ],
      "metadata": {
        "colab": {
          "base_uri": "https://localhost:8080/"
        },
        "id": "KJewbTcaAz_e",
        "outputId": "b46cdfe8-c1f7-4ff7-f7bf-03fcbb45daab"
      },
      "execution_count": null,
      "outputs": [
        {
          "output_type": "stream",
          "name": "stdout",
          "text": [
            "4.0\n"
          ]
        }
      ]
    },
    {
      "cell_type": "code",
      "source": [
        "h = 0.001\n",
        "# inputs\n",
        "a = 2.0\n",
        "b = -3.0\n",
        "c = 10.0\n",
        "d1 = a*b+c\n",
        "a+=h\n",
        "d2 = a*b+c\n",
        "print((d2-d1)/h)"
      ],
      "metadata": {
        "colab": {
          "base_uri": "https://localhost:8080/"
        },
        "id": "hFEOuQ0JBOXn",
        "outputId": "772285e5-1529-4ac4-bf22-b7f3ac81dac2"
      },
      "execution_count": null,
      "outputs": [
        {
          "output_type": "stream",
          "name": "stdout",
          "text": [
            "-3.0000000000001137\n"
          ]
        }
      ]
    },
    {
      "cell_type": "code",
      "source": [
        "class Value:\n",
        "\n",
        "  def __init__(self, data, _children=(), _op='', label=''):\n",
        "    self.data = data\n",
        "    self.grad = 0.0\n",
        "    self._backward = lambda: None\n",
        "    self._prev = set(_children)\n",
        "    self._op = _op\n",
        "    self.label = label\n",
        "\n",
        "  def __repr__(self):\n",
        "    return f\"Value(data={self.data})\"\n",
        "\n",
        "  def __add__(self, other):\n",
        "    other = other if isinstance(other, Value) else Value(other)\n",
        "    out = Value(self.data + other.data, (self, other), '+')\n",
        "\n",
        "    def _backward():\n",
        "      self.grad += 1.0 * out.grad\n",
        "      other.grad += 1.0 * out.grad\n",
        "    out._backward = _backward\n",
        "\n",
        "    return out\n",
        "\n",
        "  def __mul__(self, other):\n",
        "    other = other if isinstance(other, Value) else Value(other)\n",
        "    out = Value(self.data * other.data, (self, other), '*')\n",
        "\n",
        "    def _backward():\n",
        "      self.grad += other.data * out.grad\n",
        "      other.grad += self.data * out.grad\n",
        "    out._backward = _backward\n",
        "\n",
        "    return out\n",
        "\n",
        "  def __pow__(self, other):\n",
        "    assert isinstance(other, (int, float)), \"only supporting int/float powers for now\"\n",
        "    out = Value(self.data**other, (self,), f'**{other}')\n",
        "\n",
        "    def _backward():\n",
        "        self.grad += other * (self.data ** (other - 1)) * out.grad\n",
        "    out._backward = _backward\n",
        "\n",
        "    return out\n",
        "\n",
        "  def __rmul__(self, other): # other * self\n",
        "    return self * other\n",
        "\n",
        "  def __truediv__(self, other): # self / other\n",
        "    return self * other**-1\n",
        "\n",
        "  def __neg__(self): # -self\n",
        "    return self * -1\n",
        "\n",
        "  def __sub__(self, other): # self - other\n",
        "    return self + (-other)\n",
        "\n",
        "  def __radd__(self, other): # other + self\n",
        "    return self + other\n",
        "\n",
        "  def tanh(self):\n",
        "    x = self.data\n",
        "    t = (math.exp(2*x) - 1)/(math.exp(2*x) + 1)\n",
        "    out = Value(t, (self, ), 'tanh')\n",
        "\n",
        "    def _backward():\n",
        "      self.grad += (1 - t**2) * out.grad\n",
        "    out._backward = _backward\n",
        "\n",
        "    return out\n",
        "\n",
        "  def exp(self):\n",
        "    x = self.data\n",
        "    out = Value(math.exp(x), (self, ), 'exp')\n",
        "\n",
        "    def _backward():\n",
        "      self.grad += out.data * out.grad # NOTE: in the video I incorrectly used = instead of +=. Fixed here.\n",
        "    out._backward = _backward\n",
        "\n",
        "    return out\n",
        "\n",
        "\n",
        "  def backward(self):\n",
        "\n",
        "    topo = []\n",
        "    visited = set()\n",
        "    def build_topo(v):\n",
        "      if v not in visited:\n",
        "        visited.add(v)\n",
        "        for child in v._prev:\n",
        "          build_topo(child)\n",
        "        topo.append(v)\n",
        "    build_topo(self)\n",
        "\n",
        "    self.grad = 1.0\n",
        "    for node in reversed(topo):\n",
        "      node._backward()"
      ],
      "metadata": {
        "id": "5Rc24R3nCGTz"
      },
      "execution_count": null,
      "outputs": []
    },
    {
      "cell_type": "code",
      "source": [
        "a = Value(2.0)\n",
        "b = Value(3.0)\n",
        "a-b"
      ],
      "metadata": {
        "colab": {
          "base_uri": "https://localhost:8080/"
        },
        "id": "6Q9FYHPE4qPX",
        "outputId": "cee791a8-5ec9-4f3d-b962-d5e927566a59"
      },
      "execution_count": null,
      "outputs": [
        {
          "output_type": "execute_result",
          "data": {
            "text/plain": [
              "Value(data=-1.0)"
            ]
          },
          "metadata": {},
          "execution_count": 204
        }
      ]
    },
    {
      "cell_type": "code",
      "source": [
        "a = Value(2.0, label='a')\n",
        "b = Value(-3.0, label='b')\n",
        "c = Value(10.0, label='c')\n",
        "e = a*b; e.label = 'e'\n",
        "d = e + c; d.label = 'd'\n",
        "f = Value(-2.0, label='f')\n",
        "L = d * f; L.label = 'L'\n",
        "L\n"
      ],
      "metadata": {
        "colab": {
          "base_uri": "https://localhost:8080/"
        },
        "id": "zCdcBcyFCxs7",
        "outputId": "e860c3e4-5392-4ec9-b4e7-595786e5ce49"
      },
      "execution_count": null,
      "outputs": [
        {
          "output_type": "execute_result",
          "data": {
            "text/plain": [
              "Value(data=-8.0)"
            ]
          },
          "metadata": {},
          "execution_count": 205
        }
      ]
    },
    {
      "cell_type": "code",
      "source": [
        "d._prev"
      ],
      "metadata": {
        "colab": {
          "base_uri": "https://localhost:8080/"
        },
        "id": "YEtqfFqVEp98",
        "outputId": "00d94abe-c236-46f2-bb9b-724ec35955de"
      },
      "execution_count": null,
      "outputs": [
        {
          "output_type": "execute_result",
          "data": {
            "text/plain": [
              "{Value(data=-6.0), Value(data=10.0)}"
            ]
          },
          "metadata": {},
          "execution_count": 206
        }
      ]
    },
    {
      "cell_type": "code",
      "source": [
        "from graphviz import Digraph\n",
        "\n",
        "def trace(root):\n",
        "  # builds a set of all nodes and edges in a graph\n",
        "  nodes, edges = set(), set()\n",
        "  def build(v):\n",
        "    if v not in nodes:\n",
        "      nodes.add(v)\n",
        "      for child in v._prev:\n",
        "        edges.add((child, v))\n",
        "        build(child)\n",
        "  build(root)\n",
        "  return nodes, edges\n",
        "\n",
        "def draw_dot(root):\n",
        "  dot = Digraph(format='svg', graph_attr={'rankdir': 'LR'}) # LR = left to right\n",
        "\n",
        "  nodes, edges = trace(root)\n",
        "  for n in nodes:\n",
        "    uid = str(id(n))\n",
        "    # for any value in the graph, create a rectangular ('record') node for it\n",
        "    dot.node(name = uid, label = \"{ %s | data %.4f | grad %.4f }\" % (n.label, n.data, n.grad), shape='record')\n",
        "    if n._op:\n",
        "      # if this value is a result of some operation, create an op node for it\n",
        "      dot.node(name = uid + n._op, label = n._op)\n",
        "      # and connect this node to it\n",
        "      dot.edge(uid + n._op, uid)\n",
        "\n",
        "  for n1, n2 in edges:\n",
        "    # connect n1 to the op node of n2\n",
        "    dot.edge(str(id(n1)), str(id(n2)) + n2._op)\n",
        "\n",
        "  return dot"
      ],
      "metadata": {
        "id": "Eb8XcfugMRmk"
      },
      "execution_count": null,
      "outputs": []
    },
    {
      "cell_type": "code",
      "source": [
        "draw_dot(L)"
      ],
      "metadata": {
        "colab": {
          "base_uri": "https://localhost:8080/",
          "height": 249
        },
        "id": "H08yGrgYdAmF",
        "outputId": "e18048a4-dd68-43b0-a951-c2641cab4766"
      },
      "execution_count": null,
      "outputs": [
        {
          "output_type": "execute_result",
          "data": {
            "image/svg+xml": "<?xml version=\"1.0\" encoding=\"UTF-8\" standalone=\"no\"?>\n<!DOCTYPE svg PUBLIC \"-//W3C//DTD SVG 1.1//EN\"\n \"http://www.w3.org/Graphics/SVG/1.1/DTD/svg11.dtd\">\n<!-- Generated by graphviz version 2.43.0 (0)\n -->\n<!-- Title: %3 Pages: 1 -->\n<svg width=\"1148pt\" height=\"156pt\"\n viewBox=\"0.00 0.00 1148.00 156.00\" xmlns=\"http://www.w3.org/2000/svg\" xmlns:xlink=\"http://www.w3.org/1999/xlink\">\n<g id=\"graph0\" class=\"graph\" transform=\"scale(1 1) rotate(0) translate(4 152)\">\n<title>%3</title>\n<polygon fill=\"white\" stroke=\"transparent\" points=\"-4,4 -4,-152 1144,-152 1144,4 -4,4\"/>\n<!-- 131989545687024 -->\n<g id=\"node1\" class=\"node\">\n<title>131989545687024</title>\n<polygon fill=\"none\" stroke=\"black\" points=\"2.5,-111.5 2.5,-147.5 187.5,-147.5 187.5,-111.5 2.5,-111.5\"/>\n<text text-anchor=\"middle\" x=\"14\" y=\"-125.8\" font-family=\"Times,serif\" font-size=\"14.00\">a</text>\n<polyline fill=\"none\" stroke=\"black\" points=\"25.5,-111.5 25.5,-147.5 \"/>\n<text text-anchor=\"middle\" x=\"65.5\" y=\"-125.8\" font-family=\"Times,serif\" font-size=\"14.00\">data 2.0000</text>\n<polyline fill=\"none\" stroke=\"black\" points=\"105.5,-111.5 105.5,-147.5 \"/>\n<text text-anchor=\"middle\" x=\"146.5\" y=\"-125.8\" font-family=\"Times,serif\" font-size=\"14.00\">grad 0.0000</text>\n</g>\n<!-- 131989545682416* -->\n<g id=\"node10\" class=\"node\">\n<title>131989545682416*</title>\n<ellipse fill=\"none\" stroke=\"black\" cx=\"253\" cy=\"-101.5\" rx=\"27\" ry=\"18\"/>\n<text text-anchor=\"middle\" x=\"253\" y=\"-97.8\" font-family=\"Times,serif\" font-size=\"14.00\">*</text>\n</g>\n<!-- 131989545687024&#45;&gt;131989545682416* -->\n<g id=\"edge7\" class=\"edge\">\n<title>131989545687024&#45;&gt;131989545682416*</title>\n<path fill=\"none\" stroke=\"black\" d=\"M187.65,-113.05C197.94,-111.2 207.91,-109.41 216.81,-107.82\"/>\n<polygon fill=\"black\" stroke=\"black\" points=\"217.48,-111.25 226.71,-106.04 216.25,-104.36 217.48,-111.25\"/>\n</g>\n<!-- 131989545687792 -->\n<g id=\"node2\" class=\"node\">\n<title>131989545687792</title>\n<polygon fill=\"none\" stroke=\"black\" points=\"0,-56.5 0,-92.5 190,-92.5 190,-56.5 0,-56.5\"/>\n<text text-anchor=\"middle\" x=\"11.5\" y=\"-70.8\" font-family=\"Times,serif\" font-size=\"14.00\">b</text>\n<polyline fill=\"none\" stroke=\"black\" points=\"23,-56.5 23,-92.5 \"/>\n<text text-anchor=\"middle\" x=\"65.5\" y=\"-70.8\" font-family=\"Times,serif\" font-size=\"14.00\">data &#45;3.0000</text>\n<polyline fill=\"none\" stroke=\"black\" points=\"108,-56.5 108,-92.5 \"/>\n<text text-anchor=\"middle\" x=\"149\" y=\"-70.8\" font-family=\"Times,serif\" font-size=\"14.00\">grad 0.0000</text>\n</g>\n<!-- 131989545687792&#45;&gt;131989545682416* -->\n<g id=\"edge6\" class=\"edge\">\n<title>131989545687792&#45;&gt;131989545682416*</title>\n<path fill=\"none\" stroke=\"black\" d=\"M190.34,-90.83C199.62,-92.44 208.58,-93.99 216.66,-95.38\"/>\n<polygon fill=\"black\" stroke=\"black\" points=\"216.27,-98.87 226.72,-97.12 217.46,-91.97 216.27,-98.87\"/>\n</g>\n<!-- 131989545691392 -->\n<g id=\"node3\" class=\"node\">\n<title>131989545691392</title>\n<polygon fill=\"none\" stroke=\"black\" points=\"948,-27.5 948,-63.5 1140,-63.5 1140,-27.5 948,-27.5\"/>\n<text text-anchor=\"middle\" x=\"960.5\" y=\"-41.8\" font-family=\"Times,serif\" font-size=\"14.00\">L</text>\n<polyline fill=\"none\" stroke=\"black\" points=\"973,-27.5 973,-63.5 \"/>\n<text text-anchor=\"middle\" x=\"1015.5\" y=\"-41.8\" font-family=\"Times,serif\" font-size=\"14.00\">data &#45;8.0000</text>\n<polyline fill=\"none\" stroke=\"black\" points=\"1058,-27.5 1058,-63.5 \"/>\n<text text-anchor=\"middle\" x=\"1099\" y=\"-41.8\" font-family=\"Times,serif\" font-size=\"14.00\">grad 0.0000</text>\n</g>\n<!-- 131989545691392* -->\n<g id=\"node4\" class=\"node\">\n<title>131989545691392*</title>\n<ellipse fill=\"none\" stroke=\"black\" cx=\"885\" cy=\"-45.5\" rx=\"27\" ry=\"18\"/>\n<text text-anchor=\"middle\" x=\"885\" y=\"-41.8\" font-family=\"Times,serif\" font-size=\"14.00\">*</text>\n</g>\n<!-- 131989545691392*&#45;&gt;131989545691392 -->\n<g id=\"edge1\" class=\"edge\">\n<title>131989545691392*&#45;&gt;131989545691392</title>\n<path fill=\"none\" stroke=\"black\" d=\"M912.28,-45.5C919.78,-45.5 928.44,-45.5 937.67,-45.5\"/>\n<polygon fill=\"black\" stroke=\"black\" points=\"937.87,-49 947.87,-45.5 937.87,-42 937.87,-49\"/>\n</g>\n<!-- 131989545685296 -->\n<g id=\"node5\" class=\"node\">\n<title>131989545685296</title>\n<polygon fill=\"none\" stroke=\"black\" points=\"635.5,-55.5 635.5,-91.5 820.5,-91.5 820.5,-55.5 635.5,-55.5\"/>\n<text text-anchor=\"middle\" x=\"647\" y=\"-69.8\" font-family=\"Times,serif\" font-size=\"14.00\">d</text>\n<polyline fill=\"none\" stroke=\"black\" points=\"658.5,-55.5 658.5,-91.5 \"/>\n<text text-anchor=\"middle\" x=\"698.5\" y=\"-69.8\" font-family=\"Times,serif\" font-size=\"14.00\">data 4.0000</text>\n<polyline fill=\"none\" stroke=\"black\" points=\"738.5,-55.5 738.5,-91.5 \"/>\n<text text-anchor=\"middle\" x=\"779.5\" y=\"-69.8\" font-family=\"Times,serif\" font-size=\"14.00\">grad 0.0000</text>\n</g>\n<!-- 131989545685296&#45;&gt;131989545691392* -->\n<g id=\"edge4\" class=\"edge\">\n<title>131989545685296&#45;&gt;131989545691392*</title>\n<path fill=\"none\" stroke=\"black\" d=\"M820.51,-56.97C830.48,-55.17 840.13,-53.42 848.77,-51.86\"/>\n<polygon fill=\"black\" stroke=\"black\" points=\"849.55,-55.28 858.77,-50.06 848.3,-48.39 849.55,-55.28\"/>\n</g>\n<!-- 131989545685296+ -->\n<g id=\"node6\" class=\"node\">\n<title>131989545685296+</title>\n<ellipse fill=\"none\" stroke=\"black\" cx=\"571\" cy=\"-73.5\" rx=\"27\" ry=\"18\"/>\n<text text-anchor=\"middle\" x=\"571\" y=\"-69.8\" font-family=\"Times,serif\" font-size=\"14.00\">+</text>\n</g>\n<!-- 131989545685296+&#45;&gt;131989545685296 -->\n<g id=\"edge2\" class=\"edge\">\n<title>131989545685296+&#45;&gt;131989545685296</title>\n<path fill=\"none\" stroke=\"black\" d=\"M598.29,-73.5C606.26,-73.5 615.54,-73.5 625.39,-73.5\"/>\n<polygon fill=\"black\" stroke=\"black\" points=\"625.41,-77 635.41,-73.5 625.41,-70 625.41,-77\"/>\n</g>\n<!-- 131989545690000 -->\n<g id=\"node7\" class=\"node\">\n<title>131989545690000</title>\n<polygon fill=\"none\" stroke=\"black\" points=\"634,-0.5 634,-36.5 822,-36.5 822,-0.5 634,-0.5\"/>\n<text text-anchor=\"middle\" x=\"644.5\" y=\"-14.8\" font-family=\"Times,serif\" font-size=\"14.00\">f</text>\n<polyline fill=\"none\" stroke=\"black\" points=\"655,-0.5 655,-36.5 \"/>\n<text text-anchor=\"middle\" x=\"697.5\" y=\"-14.8\" font-family=\"Times,serif\" font-size=\"14.00\">data &#45;2.0000</text>\n<polyline fill=\"none\" stroke=\"black\" points=\"740,-0.5 740,-36.5 \"/>\n<text text-anchor=\"middle\" x=\"781\" y=\"-14.8\" font-family=\"Times,serif\" font-size=\"14.00\">grad 0.0000</text>\n</g>\n<!-- 131989545690000&#45;&gt;131989545691392* -->\n<g id=\"edge8\" class=\"edge\">\n<title>131989545690000&#45;&gt;131989545691392*</title>\n<path fill=\"none\" stroke=\"black\" d=\"M822.29,-34.75C831.57,-36.37 840.52,-37.93 848.61,-39.33\"/>\n<polygon fill=\"black\" stroke=\"black\" points=\"848.22,-42.82 858.68,-41.09 849.42,-35.92 848.22,-42.82\"/>\n</g>\n<!-- 131989545690048 -->\n<g id=\"node8\" class=\"node\">\n<title>131989545690048</title>\n<polygon fill=\"none\" stroke=\"black\" points=\"316,-28.5 316,-64.5 508,-64.5 508,-28.5 316,-28.5\"/>\n<text text-anchor=\"middle\" x=\"327.5\" y=\"-42.8\" font-family=\"Times,serif\" font-size=\"14.00\">c</text>\n<polyline fill=\"none\" stroke=\"black\" points=\"339,-28.5 339,-64.5 \"/>\n<text text-anchor=\"middle\" x=\"382.5\" y=\"-42.8\" font-family=\"Times,serif\" font-size=\"14.00\">data 10.0000</text>\n<polyline fill=\"none\" stroke=\"black\" points=\"426,-28.5 426,-64.5 \"/>\n<text text-anchor=\"middle\" x=\"467\" y=\"-42.8\" font-family=\"Times,serif\" font-size=\"14.00\">grad 0.0000</text>\n</g>\n<!-- 131989545690048&#45;&gt;131989545685296+ -->\n<g id=\"edge5\" class=\"edge\">\n<title>131989545690048&#45;&gt;131989545685296+</title>\n<path fill=\"none\" stroke=\"black\" d=\"M508.4,-62.91C517.69,-64.5 526.64,-66.04 534.71,-67.43\"/>\n<polygon fill=\"black\" stroke=\"black\" points=\"534.32,-70.91 544.76,-69.16 535.5,-64.02 534.32,-70.91\"/>\n</g>\n<!-- 131989545682416 -->\n<g id=\"node9\" class=\"node\">\n<title>131989545682416</title>\n<polygon fill=\"none\" stroke=\"black\" points=\"317,-83.5 317,-119.5 507,-119.5 507,-83.5 317,-83.5\"/>\n<text text-anchor=\"middle\" x=\"328.5\" y=\"-97.8\" font-family=\"Times,serif\" font-size=\"14.00\">e</text>\n<polyline fill=\"none\" stroke=\"black\" points=\"340,-83.5 340,-119.5 \"/>\n<text text-anchor=\"middle\" x=\"382.5\" y=\"-97.8\" font-family=\"Times,serif\" font-size=\"14.00\">data &#45;6.0000</text>\n<polyline fill=\"none\" stroke=\"black\" points=\"425,-83.5 425,-119.5 \"/>\n<text text-anchor=\"middle\" x=\"466\" y=\"-97.8\" font-family=\"Times,serif\" font-size=\"14.00\">grad 0.0000</text>\n</g>\n<!-- 131989545682416&#45;&gt;131989545685296+ -->\n<g id=\"edge9\" class=\"edge\">\n<title>131989545682416&#45;&gt;131989545685296+</title>\n<path fill=\"none\" stroke=\"black\" d=\"M507.05,-84.73C516.89,-82.97 526.39,-81.28 534.9,-79.76\"/>\n<polygon fill=\"black\" stroke=\"black\" points=\"535.52,-83.2 544.75,-78 534.29,-76.31 535.52,-83.2\"/>\n</g>\n<!-- 131989545682416*&#45;&gt;131989545682416 -->\n<g id=\"edge3\" class=\"edge\">\n<title>131989545682416*&#45;&gt;131989545682416</title>\n<path fill=\"none\" stroke=\"black\" d=\"M280.28,-101.5C288.05,-101.5 297.08,-101.5 306.68,-101.5\"/>\n<polygon fill=\"black\" stroke=\"black\" points=\"306.88,-105 316.88,-101.5 306.88,-98 306.88,-105\"/>\n</g>\n</g>\n</svg>\n",
            "text/plain": [
              "<graphviz.graphs.Digraph at 0x780b35cb0e30>"
            ]
          },
          "metadata": {},
          "execution_count": 208
        }
      ]
    },
    {
      "cell_type": "code",
      "source": [
        "# inputs x1,x2\n",
        "x1 = Value(2.0, label='x1')\n",
        "x2 = Value(0.0, label='x2')\n",
        "# weights w1,w2\n",
        "w1 = Value(-3.0, label='w1')\n",
        "w2 = Value(1.0, label='w2')\n",
        "# bias of the neuron\n",
        "b = Value(6.8813735870195432, label='b')\n",
        "# x1*w1 + x2*w2 + b\n",
        "x1w1 = x1*w1; x1w1.label = 'x1*w1'\n",
        "x2w2 = x2*w2; x2w2.label = 'x2*w2'\n",
        "x1w1x2w2 = x1w1 + x2w2; x1w1x2w2.label = 'x1*w1 + x2*w2'\n",
        "n = x1w1x2w2 + b; n.label = 'n'\n",
        "o = n.tanh(); o.label = 'o'\n",
        "o.backward()\n",
        "draw_dot(o)"
      ],
      "metadata": {
        "colab": {
          "base_uri": "https://localhost:8080/",
          "height": 321
        },
        "id": "IEeSssBozn76",
        "outputId": "9d21a1cc-a0c0-401f-a803-76c6bc41ec24"
      },
      "execution_count": null,
      "outputs": [
        {
          "output_type": "execute_result",
          "data": {
            "image/svg+xml": "<?xml version=\"1.0\" encoding=\"UTF-8\" standalone=\"no\"?>\n<!DOCTYPE svg PUBLIC \"-//W3C//DTD SVG 1.1//EN\"\n \"http://www.w3.org/Graphics/SVG/1.1/DTD/svg11.dtd\">\n<!-- Generated by graphviz version 2.43.0 (0)\n -->\n<!-- Title: %3 Pages: 1 -->\n<svg width=\"1575pt\" height=\"210pt\"\n viewBox=\"0.00 0.00 1575.00 210.00\" xmlns=\"http://www.w3.org/2000/svg\" xmlns:xlink=\"http://www.w3.org/1999/xlink\">\n<g id=\"graph0\" class=\"graph\" transform=\"scale(1 1) rotate(0) translate(4 206)\">\n<title>%3</title>\n<polygon fill=\"white\" stroke=\"transparent\" points=\"-4,4 -4,-206 1571,-206 1571,4 -4,4\"/>\n<!-- 131989542470144 -->\n<g id=\"node1\" class=\"node\">\n<title>131989542470144</title>\n<polygon fill=\"none\" stroke=\"black\" points=\"326,-55.5 326,-91.5 546,-91.5 546,-55.5 326,-55.5\"/>\n<text text-anchor=\"middle\" x=\"352.5\" y=\"-69.8\" font-family=\"Times,serif\" font-size=\"14.00\">x1*w1</text>\n<polyline fill=\"none\" stroke=\"black\" points=\"379,-55.5 379,-91.5 \"/>\n<text text-anchor=\"middle\" x=\"421.5\" y=\"-69.8\" font-family=\"Times,serif\" font-size=\"14.00\">data &#45;6.0000</text>\n<polyline fill=\"none\" stroke=\"black\" points=\"464,-55.5 464,-91.5 \"/>\n<text text-anchor=\"middle\" x=\"505\" y=\"-69.8\" font-family=\"Times,serif\" font-size=\"14.00\">grad 0.5000</text>\n</g>\n<!-- 131989542472640+ -->\n<g id=\"node13\" class=\"node\">\n<title>131989542472640+</title>\n<ellipse fill=\"none\" stroke=\"black\" cx=\"609\" cy=\"-100.5\" rx=\"27\" ry=\"18\"/>\n<text text-anchor=\"middle\" x=\"609\" y=\"-96.8\" font-family=\"Times,serif\" font-size=\"14.00\">+</text>\n</g>\n<!-- 131989542470144&#45;&gt;131989542472640+ -->\n<g id=\"edge7\" class=\"edge\">\n<title>131989542470144&#45;&gt;131989542472640+</title>\n<path fill=\"none\" stroke=\"black\" d=\"M546.27,-90.75C555.64,-92.23 564.6,-93.65 572.65,-94.92\"/>\n<polygon fill=\"black\" stroke=\"black\" points=\"572.23,-98.4 582.65,-96.5 573.32,-91.48 572.23,-98.4\"/>\n</g>\n<!-- 131989542470144* -->\n<g id=\"node2\" class=\"node\">\n<title>131989542470144*</title>\n<ellipse fill=\"none\" stroke=\"black\" cx=\"263\" cy=\"-73.5\" rx=\"27\" ry=\"18\"/>\n<text text-anchor=\"middle\" x=\"263\" y=\"-69.8\" font-family=\"Times,serif\" font-size=\"14.00\">*</text>\n</g>\n<!-- 131989542470144*&#45;&gt;131989542470144 -->\n<g id=\"edge1\" class=\"edge\">\n<title>131989542470144*&#45;&gt;131989542470144</title>\n<path fill=\"none\" stroke=\"black\" d=\"M290.34,-73.5C297.77,-73.5 306.37,-73.5 315.6,-73.5\"/>\n<polygon fill=\"black\" stroke=\"black\" points=\"315.84,-77 325.84,-73.5 315.84,-70 315.84,-77\"/>\n</g>\n<!-- 131989542471680 -->\n<g id=\"node3\" class=\"node\">\n<title>131989542471680</title>\n<polygon fill=\"none\" stroke=\"black\" points=\"2.5,-165.5 2.5,-201.5 197.5,-201.5 197.5,-165.5 2.5,-165.5\"/>\n<text text-anchor=\"middle\" x=\"19\" y=\"-179.8\" font-family=\"Times,serif\" font-size=\"14.00\">w2</text>\n<polyline fill=\"none\" stroke=\"black\" points=\"35.5,-165.5 35.5,-201.5 \"/>\n<text text-anchor=\"middle\" x=\"75.5\" y=\"-179.8\" font-family=\"Times,serif\" font-size=\"14.00\">data 1.0000</text>\n<polyline fill=\"none\" stroke=\"black\" points=\"115.5,-165.5 115.5,-201.5 \"/>\n<text text-anchor=\"middle\" x=\"156.5\" y=\"-179.8\" font-family=\"Times,serif\" font-size=\"14.00\">grad 0.0000</text>\n</g>\n<!-- 131989542472160* -->\n<g id=\"node15\" class=\"node\">\n<title>131989542472160*</title>\n<ellipse fill=\"none\" stroke=\"black\" cx=\"263\" cy=\"-128.5\" rx=\"27\" ry=\"18\"/>\n<text text-anchor=\"middle\" x=\"263\" y=\"-124.8\" font-family=\"Times,serif\" font-size=\"14.00\">*</text>\n</g>\n<!-- 131989542471680&#45;&gt;131989542472160* -->\n<g id=\"edge11\" class=\"edge\">\n<title>131989542471680&#45;&gt;131989542472160*</title>\n<path fill=\"none\" stroke=\"black\" d=\"M172.53,-165.44C181.84,-162.67 191.2,-159.67 200,-156.5 210.53,-152.71 221.75,-147.9 231.72,-143.33\"/>\n<polygon fill=\"black\" stroke=\"black\" points=\"233.25,-146.48 240.82,-139.07 230.28,-140.14 233.25,-146.48\"/>\n</g>\n<!-- 131989542472256 -->\n<g id=\"node4\" class=\"node\">\n<title>131989542472256</title>\n<polygon fill=\"none\" stroke=\"black\" points=\"1382,-109.5 1382,-145.5 1567,-145.5 1567,-109.5 1382,-109.5\"/>\n<text text-anchor=\"middle\" x=\"1393.5\" y=\"-123.8\" font-family=\"Times,serif\" font-size=\"14.00\">o</text>\n<polyline fill=\"none\" stroke=\"black\" points=\"1405,-109.5 1405,-145.5 \"/>\n<text text-anchor=\"middle\" x=\"1445\" y=\"-123.8\" font-family=\"Times,serif\" font-size=\"14.00\">data 0.7071</text>\n<polyline fill=\"none\" stroke=\"black\" points=\"1485,-109.5 1485,-145.5 \"/>\n<text text-anchor=\"middle\" x=\"1526\" y=\"-123.8\" font-family=\"Times,serif\" font-size=\"14.00\">grad 1.0000</text>\n</g>\n<!-- 131989542472256tanh -->\n<g id=\"node5\" class=\"node\">\n<title>131989542472256tanh</title>\n<ellipse fill=\"none\" stroke=\"black\" cx=\"1319\" cy=\"-127.5\" rx=\"27\" ry=\"18\"/>\n<text text-anchor=\"middle\" x=\"1319\" y=\"-123.8\" font-family=\"Times,serif\" font-size=\"14.00\">tanh</text>\n</g>\n<!-- 131989542472256tanh&#45;&gt;131989542472256 -->\n<g id=\"edge2\" class=\"edge\">\n<title>131989542472256tanh&#45;&gt;131989542472256</title>\n<path fill=\"none\" stroke=\"black\" d=\"M1346.04,-127.5C1353.58,-127.5 1362.3,-127.5 1371.57,-127.5\"/>\n<polygon fill=\"black\" stroke=\"black\" points=\"1371.81,-131 1381.81,-127.5 1371.81,-124 1371.81,-131\"/>\n</g>\n<!-- 131989542471776 -->\n<g id=\"node6\" class=\"node\">\n<title>131989542471776</title>\n<polygon fill=\"none\" stroke=\"black\" points=\"716,-137.5 716,-173.5 901,-173.5 901,-137.5 716,-137.5\"/>\n<text text-anchor=\"middle\" x=\"727.5\" y=\"-151.8\" font-family=\"Times,serif\" font-size=\"14.00\">b</text>\n<polyline fill=\"none\" stroke=\"black\" points=\"739,-137.5 739,-173.5 \"/>\n<text text-anchor=\"middle\" x=\"779\" y=\"-151.8\" font-family=\"Times,serif\" font-size=\"14.00\">data 6.8814</text>\n<polyline fill=\"none\" stroke=\"black\" points=\"819,-137.5 819,-173.5 \"/>\n<text text-anchor=\"middle\" x=\"860\" y=\"-151.8\" font-family=\"Times,serif\" font-size=\"14.00\">grad 0.5000</text>\n</g>\n<!-- 131989542472592+ -->\n<g id=\"node11\" class=\"node\">\n<title>131989542472592+</title>\n<ellipse fill=\"none\" stroke=\"black\" cx=\"1008\" cy=\"-127.5\" rx=\"27\" ry=\"18\"/>\n<text text-anchor=\"middle\" x=\"1008\" y=\"-123.8\" font-family=\"Times,serif\" font-size=\"14.00\">+</text>\n</g>\n<!-- 131989542471776&#45;&gt;131989542472592+ -->\n<g id=\"edge14\" class=\"edge\">\n<title>131989542471776&#45;&gt;131989542472592+</title>\n<path fill=\"none\" stroke=\"black\" d=\"M901.02,-142.52C926,-138.98 951.59,-135.36 971.37,-132.55\"/>\n<polygon fill=\"black\" stroke=\"black\" points=\"972.03,-135.99 981.43,-131.12 971.04,-129.06 972.03,-135.99\"/>\n</g>\n<!-- 131989542471392 -->\n<g id=\"node7\" class=\"node\">\n<title>131989542471392</title>\n<polygon fill=\"none\" stroke=\"black\" points=\"2,-55.5 2,-91.5 198,-91.5 198,-55.5 2,-55.5\"/>\n<text text-anchor=\"middle\" x=\"17\" y=\"-69.8\" font-family=\"Times,serif\" font-size=\"14.00\">x1</text>\n<polyline fill=\"none\" stroke=\"black\" points=\"32,-55.5 32,-91.5 \"/>\n<text text-anchor=\"middle\" x=\"72\" y=\"-69.8\" font-family=\"Times,serif\" font-size=\"14.00\">data 2.0000</text>\n<polyline fill=\"none\" stroke=\"black\" points=\"112,-55.5 112,-91.5 \"/>\n<text text-anchor=\"middle\" x=\"155\" y=\"-69.8\" font-family=\"Times,serif\" font-size=\"14.00\">grad &#45;1.5000</text>\n</g>\n<!-- 131989542471392&#45;&gt;131989542470144* -->\n<g id=\"edge10\" class=\"edge\">\n<title>131989542471392&#45;&gt;131989542470144*</title>\n<path fill=\"none\" stroke=\"black\" d=\"M198.37,-73.5C208.05,-73.5 217.4,-73.5 225.8,-73.5\"/>\n<polygon fill=\"black\" stroke=\"black\" points=\"225.91,-77 235.91,-73.5 225.91,-70 225.91,-77\"/>\n</g>\n<!-- 131989542470960 -->\n<g id=\"node8\" class=\"node\">\n<title>131989542470960</title>\n<polygon fill=\"none\" stroke=\"black\" points=\"4,-110.5 4,-146.5 196,-146.5 196,-110.5 4,-110.5\"/>\n<text text-anchor=\"middle\" x=\"19\" y=\"-124.8\" font-family=\"Times,serif\" font-size=\"14.00\">x2</text>\n<polyline fill=\"none\" stroke=\"black\" points=\"34,-110.5 34,-146.5 \"/>\n<text text-anchor=\"middle\" x=\"74\" y=\"-124.8\" font-family=\"Times,serif\" font-size=\"14.00\">data 0.0000</text>\n<polyline fill=\"none\" stroke=\"black\" points=\"114,-110.5 114,-146.5 \"/>\n<text text-anchor=\"middle\" x=\"155\" y=\"-124.8\" font-family=\"Times,serif\" font-size=\"14.00\">grad 0.5000</text>\n</g>\n<!-- 131989542470960&#45;&gt;131989542472160* -->\n<g id=\"edge9\" class=\"edge\">\n<title>131989542470960&#45;&gt;131989542472160*</title>\n<path fill=\"none\" stroke=\"black\" d=\"M196.05,-128.5C206.52,-128.5 216.65,-128.5 225.71,-128.5\"/>\n<polygon fill=\"black\" stroke=\"black\" points=\"225.79,-132 235.79,-128.5 225.79,-125 225.79,-132\"/>\n</g>\n<!-- 131989542472016 -->\n<g id=\"node9\" class=\"node\">\n<title>131989542472016</title>\n<polygon fill=\"none\" stroke=\"black\" points=\"0,-0.5 0,-36.5 200,-36.5 200,-0.5 0,-0.5\"/>\n<text text-anchor=\"middle\" x=\"16.5\" y=\"-14.8\" font-family=\"Times,serif\" font-size=\"14.00\">w1</text>\n<polyline fill=\"none\" stroke=\"black\" points=\"33,-0.5 33,-36.5 \"/>\n<text text-anchor=\"middle\" x=\"75.5\" y=\"-14.8\" font-family=\"Times,serif\" font-size=\"14.00\">data &#45;3.0000</text>\n<polyline fill=\"none\" stroke=\"black\" points=\"118,-0.5 118,-36.5 \"/>\n<text text-anchor=\"middle\" x=\"159\" y=\"-14.8\" font-family=\"Times,serif\" font-size=\"14.00\">grad 1.0000</text>\n</g>\n<!-- 131989542472016&#45;&gt;131989542470144* -->\n<g id=\"edge8\" class=\"edge\">\n<title>131989542472016&#45;&gt;131989542470144*</title>\n<path fill=\"none\" stroke=\"black\" d=\"M169.28,-36.5C179.65,-39.61 190.16,-42.98 200,-46.5 210.28,-50.17 221.28,-54.74 231.11,-59.07\"/>\n<polygon fill=\"black\" stroke=\"black\" points=\"229.93,-62.37 240.48,-63.27 232.79,-55.99 229.93,-62.37\"/>\n</g>\n<!-- 131989542472592 -->\n<g id=\"node10\" class=\"node\">\n<title>131989542472592</title>\n<polygon fill=\"none\" stroke=\"black\" points=\"1071,-109.5 1071,-145.5 1256,-145.5 1256,-109.5 1071,-109.5\"/>\n<text text-anchor=\"middle\" x=\"1082.5\" y=\"-123.8\" font-family=\"Times,serif\" font-size=\"14.00\">n</text>\n<polyline fill=\"none\" stroke=\"black\" points=\"1094,-109.5 1094,-145.5 \"/>\n<text text-anchor=\"middle\" x=\"1134\" y=\"-123.8\" font-family=\"Times,serif\" font-size=\"14.00\">data 0.8814</text>\n<polyline fill=\"none\" stroke=\"black\" points=\"1174,-109.5 1174,-145.5 \"/>\n<text text-anchor=\"middle\" x=\"1215\" y=\"-123.8\" font-family=\"Times,serif\" font-size=\"14.00\">grad 0.5000</text>\n</g>\n<!-- 131989542472592&#45;&gt;131989542472256tanh -->\n<g id=\"edge12\" class=\"edge\">\n<title>131989542472592&#45;&gt;131989542472256tanh</title>\n<path fill=\"none\" stroke=\"black\" d=\"M1256.01,-127.5C1265.01,-127.5 1273.74,-127.5 1281.66,-127.5\"/>\n<polygon fill=\"black\" stroke=\"black\" points=\"1281.91,-131 1291.91,-127.5 1281.91,-124 1281.91,-131\"/>\n</g>\n<!-- 131989542472592+&#45;&gt;131989542472592 -->\n<g id=\"edge3\" class=\"edge\">\n<title>131989542472592+&#45;&gt;131989542472592</title>\n<path fill=\"none\" stroke=\"black\" d=\"M1035.04,-127.5C1042.58,-127.5 1051.3,-127.5 1060.57,-127.5\"/>\n<polygon fill=\"black\" stroke=\"black\" points=\"1060.81,-131 1070.81,-127.5 1060.81,-124 1060.81,-131\"/>\n</g>\n<!-- 131989542472640 -->\n<g id=\"node12\" class=\"node\">\n<title>131989542472640</title>\n<polygon fill=\"none\" stroke=\"black\" points=\"672,-82.5 672,-118.5 945,-118.5 945,-82.5 672,-82.5\"/>\n<text text-anchor=\"middle\" x=\"725\" y=\"-96.8\" font-family=\"Times,serif\" font-size=\"14.00\">x1*w1 + x2*w2</text>\n<polyline fill=\"none\" stroke=\"black\" points=\"778,-82.5 778,-118.5 \"/>\n<text text-anchor=\"middle\" x=\"820.5\" y=\"-96.8\" font-family=\"Times,serif\" font-size=\"14.00\">data &#45;6.0000</text>\n<polyline fill=\"none\" stroke=\"black\" points=\"863,-82.5 863,-118.5 \"/>\n<text text-anchor=\"middle\" x=\"904\" y=\"-96.8\" font-family=\"Times,serif\" font-size=\"14.00\">grad 0.5000</text>\n</g>\n<!-- 131989542472640&#45;&gt;131989542472592+ -->\n<g id=\"edge13\" class=\"edge\">\n<title>131989542472640&#45;&gt;131989542472592+</title>\n<path fill=\"none\" stroke=\"black\" d=\"M941.24,-118.51C952.12,-120 962.4,-121.4 971.45,-122.64\"/>\n<polygon fill=\"black\" stroke=\"black\" points=\"971.11,-126.13 981.49,-124.01 972.05,-119.19 971.11,-126.13\"/>\n</g>\n<!-- 131989542472640+&#45;&gt;131989542472640 -->\n<g id=\"edge4\" class=\"edge\">\n<title>131989542472640+&#45;&gt;131989542472640</title>\n<path fill=\"none\" stroke=\"black\" d=\"M636.23,-100.5C643.7,-100.5 652.41,-100.5 661.87,-100.5\"/>\n<polygon fill=\"black\" stroke=\"black\" points=\"661.98,-104 671.98,-100.5 661.98,-97 661.98,-104\"/>\n</g>\n<!-- 131989542472160 -->\n<g id=\"node14\" class=\"node\">\n<title>131989542472160</title>\n<polygon fill=\"none\" stroke=\"black\" points=\"328.5,-110.5 328.5,-146.5 543.5,-146.5 543.5,-110.5 328.5,-110.5\"/>\n<text text-anchor=\"middle\" x=\"355\" y=\"-124.8\" font-family=\"Times,serif\" font-size=\"14.00\">x2*w2</text>\n<polyline fill=\"none\" stroke=\"black\" points=\"381.5,-110.5 381.5,-146.5 \"/>\n<text text-anchor=\"middle\" x=\"421.5\" y=\"-124.8\" font-family=\"Times,serif\" font-size=\"14.00\">data 0.0000</text>\n<polyline fill=\"none\" stroke=\"black\" points=\"461.5,-110.5 461.5,-146.5 \"/>\n<text text-anchor=\"middle\" x=\"502.5\" y=\"-124.8\" font-family=\"Times,serif\" font-size=\"14.00\">grad 0.5000</text>\n</g>\n<!-- 131989542472160&#45;&gt;131989542472640+ -->\n<g id=\"edge6\" class=\"edge\">\n<title>131989542472160&#45;&gt;131989542472640+</title>\n<path fill=\"none\" stroke=\"black\" d=\"M543.84,-111.01C554.01,-109.34 563.76,-107.74 572.44,-106.32\"/>\n<polygon fill=\"black\" stroke=\"black\" points=\"573.17,-109.75 582.47,-104.68 572.04,-102.84 573.17,-109.75\"/>\n</g>\n<!-- 131989542472160*&#45;&gt;131989542472160 -->\n<g id=\"edge5\" class=\"edge\">\n<title>131989542472160*&#45;&gt;131989542472160</title>\n<path fill=\"none\" stroke=\"black\" d=\"M290.34,-128.5C298.51,-128.5 308.08,-128.5 318.36,-128.5\"/>\n<polygon fill=\"black\" stroke=\"black\" points=\"318.39,-132 328.39,-128.5 318.39,-125 318.39,-132\"/>\n</g>\n</g>\n</svg>\n",
            "text/plain": [
              "<graphviz.graphs.Digraph at 0x780b35cb2390>"
            ]
          },
          "metadata": {},
          "execution_count": 209
        }
      ]
    },
    {
      "cell_type": "code",
      "source": [
        "# inputs x1,x2\n",
        "x1 = Value(2.0, label='x1')\n",
        "x2 = Value(0.0, label='x2')\n",
        "# weights w1,w2\n",
        "w1 = Value(-3.0, label='w1')\n",
        "w2 = Value(1.0, label='w2')\n",
        "# bias of the neuron\n",
        "b = Value(6.8813735870195432, label='b')\n",
        "# x1*w1 + x2*w2 + b\n",
        "x1w1 = x1*w1; x1w1.label = 'x1*w1'\n",
        "x2w2 = x2*w2; x2w2.label = 'x2*w2'\n",
        "x1w1x2w2 = x1w1 + x2w2; x1w1x2w2.label = 'x1*w1 + x2*w2'\n",
        "n = x1w1x2w2 + b; n.label = 'n'\n",
        "# ----\n",
        "e = (2*n).exp()\n",
        "e.label = 'e'\n",
        "o = (e - 1) / (e + 1)\n",
        "# ----\n",
        "o.label = 'o'\n",
        "o.backward()\n",
        "draw_dot(o)"
      ],
      "metadata": {
        "colab": {
          "base_uri": "https://localhost:8080/",
          "height": 356
        },
        "id": "VFiF7cM15jxn",
        "outputId": "0f2fab92-3d19-4254-b394-c9ff4ca20729"
      },
      "execution_count": null,
      "outputs": [
        {
          "output_type": "execute_result",
          "data": {
            "image/svg+xml": "<?xml version=\"1.0\" encoding=\"UTF-8\" standalone=\"no\"?>\n<!DOCTYPE svg PUBLIC \"-//W3C//DTD SVG 1.1//EN\"\n \"http://www.w3.org/Graphics/SVG/1.1/DTD/svg11.dtd\">\n<!-- Generated by graphviz version 2.43.0 (0)\n -->\n<!-- Title: %3 Pages: 1 -->\n<svg width=\"2944pt\" height=\"236pt\"\n viewBox=\"0.00 0.00 2944.00 236.00\" xmlns=\"http://www.w3.org/2000/svg\" xmlns:xlink=\"http://www.w3.org/1999/xlink\">\n<g id=\"graph0\" class=\"graph\" transform=\"scale(1 1) rotate(0) translate(4 232)\">\n<title>%3</title>\n<polygon fill=\"white\" stroke=\"transparent\" points=\"-4,4 -4,-232 2940,-232 2940,4 -4,4\"/>\n<!-- 131989542480896 -->\n<g id=\"node1\" class=\"node\">\n<title>131989542480896</title>\n<polygon fill=\"none\" stroke=\"black\" points=\"1382,-136.5 1382,-172.5 1564,-172.5 1564,-136.5 1382,-136.5\"/>\n<text text-anchor=\"middle\" x=\"1392\" y=\"-150.8\" font-family=\"Times,serif\" font-size=\"14.00\"> </text>\n<polyline fill=\"none\" stroke=\"black\" points=\"1402,-136.5 1402,-172.5 \"/>\n<text text-anchor=\"middle\" x=\"1442\" y=\"-150.8\" font-family=\"Times,serif\" font-size=\"14.00\">data 1.7627</text>\n<polyline fill=\"none\" stroke=\"black\" points=\"1482,-136.5 1482,-172.5 \"/>\n<text text-anchor=\"middle\" x=\"1523\" y=\"-150.8\" font-family=\"Times,serif\" font-size=\"14.00\">grad 0.2500</text>\n</g>\n<!-- 131989542481136exp -->\n<g id=\"node15\" class=\"node\">\n<title>131989542481136exp</title>\n<ellipse fill=\"none\" stroke=\"black\" cx=\"1627\" cy=\"-154.5\" rx=\"27\" ry=\"18\"/>\n<text text-anchor=\"middle\" x=\"1627\" y=\"-150.8\" font-family=\"Times,serif\" font-size=\"14.00\">exp</text>\n</g>\n<!-- 131989542480896&#45;&gt;131989542481136exp -->\n<g id=\"edge21\" class=\"edge\">\n<title>131989542480896&#45;&gt;131989542481136exp</title>\n<path fill=\"none\" stroke=\"black\" d=\"M1564.18,-154.5C1573.14,-154.5 1581.83,-154.5 1589.73,-154.5\"/>\n<polygon fill=\"black\" stroke=\"black\" points=\"1589.96,-158 1599.96,-154.5 1589.96,-151 1589.96,-158\"/>\n</g>\n<!-- 131989542480896* -->\n<g id=\"node2\" class=\"node\">\n<title>131989542480896*</title>\n<ellipse fill=\"none\" stroke=\"black\" cx=\"1319\" cy=\"-154.5\" rx=\"27\" ry=\"18\"/>\n<text text-anchor=\"middle\" x=\"1319\" y=\"-150.8\" font-family=\"Times,serif\" font-size=\"14.00\">*</text>\n</g>\n<!-- 131989542480896*&#45;&gt;131989542480896 -->\n<g id=\"edge1\" class=\"edge\">\n<title>131989542480896*&#45;&gt;131989542480896</title>\n<path fill=\"none\" stroke=\"black\" d=\"M1346.13,-154.5C1353.67,-154.5 1362.39,-154.5 1371.64,-154.5\"/>\n<polygon fill=\"black\" stroke=\"black\" points=\"1371.87,-158 1381.87,-154.5 1371.87,-151 1371.87,-158\"/>\n</g>\n<!-- 131989542479360 -->\n<g id=\"node3\" class=\"node\">\n<title>131989542479360</title>\n<polygon fill=\"none\" stroke=\"black\" points=\"2.5,-165.5 2.5,-201.5 197.5,-201.5 197.5,-165.5 2.5,-165.5\"/>\n<text text-anchor=\"middle\" x=\"19\" y=\"-179.8\" font-family=\"Times,serif\" font-size=\"14.00\">w2</text>\n<polyline fill=\"none\" stroke=\"black\" points=\"35.5,-165.5 35.5,-201.5 \"/>\n<text text-anchor=\"middle\" x=\"75.5\" y=\"-179.8\" font-family=\"Times,serif\" font-size=\"14.00\">data 1.0000</text>\n<polyline fill=\"none\" stroke=\"black\" points=\"115.5,-165.5 115.5,-201.5 \"/>\n<text text-anchor=\"middle\" x=\"156.5\" y=\"-179.8\" font-family=\"Times,serif\" font-size=\"14.00\">grad 0.0000</text>\n</g>\n<!-- 131989542480080* -->\n<g id=\"node13\" class=\"node\">\n<title>131989542480080*</title>\n<ellipse fill=\"none\" stroke=\"black\" cx=\"263\" cy=\"-128.5\" rx=\"27\" ry=\"18\"/>\n<text text-anchor=\"middle\" x=\"263\" y=\"-124.8\" font-family=\"Times,serif\" font-size=\"14.00\">*</text>\n</g>\n<!-- 131989542479360&#45;&gt;131989542480080* -->\n<g id=\"edge14\" class=\"edge\">\n<title>131989542479360&#45;&gt;131989542480080*</title>\n<path fill=\"none\" stroke=\"black\" d=\"M172.53,-165.44C181.84,-162.67 191.2,-159.67 200,-156.5 210.53,-152.71 221.75,-147.9 231.72,-143.33\"/>\n<polygon fill=\"black\" stroke=\"black\" points=\"233.25,-146.48 240.82,-139.07 230.28,-140.14 233.25,-146.48\"/>\n</g>\n<!-- 131989542479888 -->\n<g id=\"node4\" class=\"node\">\n<title>131989542479888</title>\n<polygon fill=\"none\" stroke=\"black\" points=\"4,-110.5 4,-146.5 196,-146.5 196,-110.5 4,-110.5\"/>\n<text text-anchor=\"middle\" x=\"19\" y=\"-124.8\" font-family=\"Times,serif\" font-size=\"14.00\">x2</text>\n<polyline fill=\"none\" stroke=\"black\" points=\"34,-110.5 34,-146.5 \"/>\n<text text-anchor=\"middle\" x=\"74\" y=\"-124.8\" font-family=\"Times,serif\" font-size=\"14.00\">data 0.0000</text>\n<polyline fill=\"none\" stroke=\"black\" points=\"114,-110.5 114,-146.5 \"/>\n<text text-anchor=\"middle\" x=\"155\" y=\"-124.8\" font-family=\"Times,serif\" font-size=\"14.00\">grad 0.5000</text>\n</g>\n<!-- 131989542479888&#45;&gt;131989542480080* -->\n<g id=\"edge15\" class=\"edge\">\n<title>131989542479888&#45;&gt;131989542480080*</title>\n<path fill=\"none\" stroke=\"black\" d=\"M196.05,-128.5C206.52,-128.5 216.65,-128.5 225.71,-128.5\"/>\n<polygon fill=\"black\" stroke=\"black\" points=\"225.79,-132 235.79,-128.5 225.79,-125 225.79,-132\"/>\n</g>\n<!-- 131989542479408 -->\n<g id=\"node5\" class=\"node\">\n<title>131989542479408</title>\n<polygon fill=\"none\" stroke=\"black\" points=\"0,-55.5 0,-91.5 200,-91.5 200,-55.5 0,-55.5\"/>\n<text text-anchor=\"middle\" x=\"16.5\" y=\"-69.8\" font-family=\"Times,serif\" font-size=\"14.00\">w1</text>\n<polyline fill=\"none\" stroke=\"black\" points=\"33,-55.5 33,-91.5 \"/>\n<text text-anchor=\"middle\" x=\"75.5\" y=\"-69.8\" font-family=\"Times,serif\" font-size=\"14.00\">data &#45;3.0000</text>\n<polyline fill=\"none\" stroke=\"black\" points=\"118,-55.5 118,-91.5 \"/>\n<text text-anchor=\"middle\" x=\"159\" y=\"-69.8\" font-family=\"Times,serif\" font-size=\"14.00\">grad 1.0000</text>\n</g>\n<!-- 131989542479696* -->\n<g id=\"node21\" class=\"node\">\n<title>131989542479696*</title>\n<ellipse fill=\"none\" stroke=\"black\" cx=\"263\" cy=\"-73.5\" rx=\"27\" ry=\"18\"/>\n<text text-anchor=\"middle\" x=\"263\" y=\"-69.8\" font-family=\"Times,serif\" font-size=\"14.00\">*</text>\n</g>\n<!-- 131989542479408&#45;&gt;131989542479696* -->\n<g id=\"edge13\" class=\"edge\">\n<title>131989542479408&#45;&gt;131989542479696*</title>\n<path fill=\"none\" stroke=\"black\" d=\"M200.21,-73.5C209.2,-73.5 217.86,-73.5 225.7,-73.5\"/>\n<polygon fill=\"black\" stroke=\"black\" points=\"225.85,-77 235.85,-73.5 225.85,-70 225.85,-77\"/>\n</g>\n<!-- 131989542481472 -->\n<g id=\"node6\" class=\"node\">\n<title>131989542481472</title>\n<polygon fill=\"none\" stroke=\"black\" points=\"1690.5,-81.5 1690.5,-117.5 1876.5,-117.5 1876.5,-81.5 1690.5,-81.5\"/>\n<text text-anchor=\"middle\" x=\"1700.5\" y=\"-95.8\" font-family=\"Times,serif\" font-size=\"14.00\"> </text>\n<polyline fill=\"none\" stroke=\"black\" points=\"1710.5,-81.5 1710.5,-117.5 \"/>\n<text text-anchor=\"middle\" x=\"1750.5\" y=\"-95.8\" font-family=\"Times,serif\" font-size=\"14.00\">data 1.0000</text>\n<polyline fill=\"none\" stroke=\"black\" points=\"1790.5,-81.5 1790.5,-117.5 \"/>\n<text text-anchor=\"middle\" x=\"1833.5\" y=\"-95.8\" font-family=\"Times,serif\" font-size=\"14.00\">grad &#45;0.1036</text>\n</g>\n<!-- 131989542481520+ -->\n<g id=\"node10\" class=\"node\">\n<title>131989542481520+</title>\n<ellipse fill=\"none\" stroke=\"black\" cx=\"1940\" cy=\"-126.5\" rx=\"27\" ry=\"18\"/>\n<text text-anchor=\"middle\" x=\"1940\" y=\"-122.8\" font-family=\"Times,serif\" font-size=\"14.00\">+</text>\n</g>\n<!-- 131989542481472&#45;&gt;131989542481520+ -->\n<g id=\"edge17\" class=\"edge\">\n<title>131989542481472&#45;&gt;131989542481520+</title>\n<path fill=\"none\" stroke=\"black\" d=\"M1876.6,-115.6C1886.15,-117.26 1895.37,-118.88 1903.68,-120.33\"/>\n<polygon fill=\"black\" stroke=\"black\" points=\"1903.2,-123.8 1913.65,-122.07 1904.4,-116.9 1903.2,-123.8\"/>\n</g>\n<!-- 131989542482000 -->\n<g id=\"node7\" class=\"node\">\n<title>131989542482000</title>\n<polygon fill=\"none\" stroke=\"black\" points=\"2751,-135.5 2751,-171.5 2936,-171.5 2936,-135.5 2751,-135.5\"/>\n<text text-anchor=\"middle\" x=\"2762.5\" y=\"-149.8\" font-family=\"Times,serif\" font-size=\"14.00\">o</text>\n<polyline fill=\"none\" stroke=\"black\" points=\"2774,-135.5 2774,-171.5 \"/>\n<text text-anchor=\"middle\" x=\"2814\" y=\"-149.8\" font-family=\"Times,serif\" font-size=\"14.00\">data 0.7071</text>\n<polyline fill=\"none\" stroke=\"black\" points=\"2854,-135.5 2854,-171.5 \"/>\n<text text-anchor=\"middle\" x=\"2895\" y=\"-149.8\" font-family=\"Times,serif\" font-size=\"14.00\">grad 1.0000</text>\n</g>\n<!-- 131989542482000* -->\n<g id=\"node8\" class=\"node\">\n<title>131989542482000*</title>\n<ellipse fill=\"none\" stroke=\"black\" cx=\"2688\" cy=\"-153.5\" rx=\"27\" ry=\"18\"/>\n<text text-anchor=\"middle\" x=\"2688\" y=\"-149.8\" font-family=\"Times,serif\" font-size=\"14.00\">*</text>\n</g>\n<!-- 131989542482000*&#45;&gt;131989542482000 -->\n<g id=\"edge2\" class=\"edge\">\n<title>131989542482000*&#45;&gt;131989542482000</title>\n<path fill=\"none\" stroke=\"black\" d=\"M2715.04,-153.5C2722.58,-153.5 2731.3,-153.5 2740.57,-153.5\"/>\n<polygon fill=\"black\" stroke=\"black\" points=\"2740.81,-157 2750.81,-153.5 2740.81,-150 2740.81,-157\"/>\n</g>\n<!-- 131989542481520 -->\n<g id=\"node9\" class=\"node\">\n<title>131989542481520</title>\n<polygon fill=\"none\" stroke=\"black\" points=\"2003,-108.5 2003,-144.5 2189,-144.5 2189,-108.5 2003,-108.5\"/>\n<text text-anchor=\"middle\" x=\"2013\" y=\"-122.8\" font-family=\"Times,serif\" font-size=\"14.00\"> </text>\n<polyline fill=\"none\" stroke=\"black\" points=\"2023,-108.5 2023,-144.5 \"/>\n<text text-anchor=\"middle\" x=\"2063\" y=\"-122.8\" font-family=\"Times,serif\" font-size=\"14.00\">data 6.8284</text>\n<polyline fill=\"none\" stroke=\"black\" points=\"2103,-108.5 2103,-144.5 \"/>\n<text text-anchor=\"middle\" x=\"2146\" y=\"-122.8\" font-family=\"Times,serif\" font-size=\"14.00\">grad &#45;0.1036</text>\n</g>\n<!-- 131989542481712**&#45;1 -->\n<g id=\"node19\" class=\"node\">\n<title>131989542481712**&#45;1</title>\n<ellipse fill=\"none\" stroke=\"black\" cx=\"2316\" cy=\"-126.5\" rx=\"27\" ry=\"18\"/>\n<text text-anchor=\"middle\" x=\"2316\" y=\"-122.8\" font-family=\"Times,serif\" font-size=\"14.00\">**&#45;1</text>\n</g>\n<!-- 131989542481520&#45;&gt;131989542481712**&#45;1 -->\n<g id=\"edge24\" class=\"edge\">\n<title>131989542481520&#45;&gt;131989542481712**&#45;1</title>\n<path fill=\"none\" stroke=\"black\" d=\"M2189.14,-126.5C2220.72,-126.5 2254.24,-126.5 2278.74,-126.5\"/>\n<polygon fill=\"black\" stroke=\"black\" points=\"2278.98,-130 2288.98,-126.5 2278.98,-123 2278.98,-130\"/>\n</g>\n<!-- 131989542481520+&#45;&gt;131989542481520 -->\n<g id=\"edge3\" class=\"edge\">\n<title>131989542481520+&#45;&gt;131989542481520</title>\n<path fill=\"none\" stroke=\"black\" d=\"M1967.12,-126.5C1974.62,-126.5 1983.29,-126.5 1992.5,-126.5\"/>\n<polygon fill=\"black\" stroke=\"black\" points=\"1992.69,-130 2002.69,-126.5 1992.69,-123 1992.69,-130\"/>\n</g>\n<!-- 131989542479504 -->\n<g id=\"node11\" class=\"node\">\n<title>131989542479504</title>\n<polygon fill=\"none\" stroke=\"black\" points=\"716,-137.5 716,-173.5 901,-173.5 901,-137.5 716,-137.5\"/>\n<text text-anchor=\"middle\" x=\"727.5\" y=\"-151.8\" font-family=\"Times,serif\" font-size=\"14.00\">b</text>\n<polyline fill=\"none\" stroke=\"black\" points=\"739,-137.5 739,-173.5 \"/>\n<text text-anchor=\"middle\" x=\"779\" y=\"-151.8\" font-family=\"Times,serif\" font-size=\"14.00\">data 6.8814</text>\n<polyline fill=\"none\" stroke=\"black\" points=\"819,-137.5 819,-173.5 \"/>\n<text text-anchor=\"middle\" x=\"860\" y=\"-151.8\" font-family=\"Times,serif\" font-size=\"14.00\">grad 0.5000</text>\n</g>\n<!-- 131989542480320+ -->\n<g id=\"node26\" class=\"node\">\n<title>131989542480320+</title>\n<ellipse fill=\"none\" stroke=\"black\" cx=\"1008\" cy=\"-127.5\" rx=\"27\" ry=\"18\"/>\n<text text-anchor=\"middle\" x=\"1008\" y=\"-123.8\" font-family=\"Times,serif\" font-size=\"14.00\">+</text>\n</g>\n<!-- 131989542479504&#45;&gt;131989542480320+ -->\n<g id=\"edge20\" class=\"edge\">\n<title>131989542479504&#45;&gt;131989542480320+</title>\n<path fill=\"none\" stroke=\"black\" d=\"M901.02,-142.52C926,-138.98 951.59,-135.36 971.37,-132.55\"/>\n<polygon fill=\"black\" stroke=\"black\" points=\"972.03,-135.99 981.43,-131.12 971.04,-129.06 972.03,-135.99\"/>\n</g>\n<!-- 131989542480080 -->\n<g id=\"node12\" class=\"node\">\n<title>131989542480080</title>\n<polygon fill=\"none\" stroke=\"black\" points=\"328.5,-110.5 328.5,-146.5 543.5,-146.5 543.5,-110.5 328.5,-110.5\"/>\n<text text-anchor=\"middle\" x=\"355\" y=\"-124.8\" font-family=\"Times,serif\" font-size=\"14.00\">x2*w2</text>\n<polyline fill=\"none\" stroke=\"black\" points=\"381.5,-110.5 381.5,-146.5 \"/>\n<text text-anchor=\"middle\" x=\"421.5\" y=\"-124.8\" font-family=\"Times,serif\" font-size=\"14.00\">data 0.0000</text>\n<polyline fill=\"none\" stroke=\"black\" points=\"461.5,-110.5 461.5,-146.5 \"/>\n<text text-anchor=\"middle\" x=\"502.5\" y=\"-124.8\" font-family=\"Times,serif\" font-size=\"14.00\">grad 0.5000</text>\n</g>\n<!-- 131989542480272+ -->\n<g id=\"node23\" class=\"node\">\n<title>131989542480272+</title>\n<ellipse fill=\"none\" stroke=\"black\" cx=\"609\" cy=\"-100.5\" rx=\"27\" ry=\"18\"/>\n<text text-anchor=\"middle\" x=\"609\" y=\"-96.8\" font-family=\"Times,serif\" font-size=\"14.00\">+</text>\n</g>\n<!-- 131989542480080&#45;&gt;131989542480272+ -->\n<g id=\"edge25\" class=\"edge\">\n<title>131989542480080&#45;&gt;131989542480272+</title>\n<path fill=\"none\" stroke=\"black\" d=\"M543.84,-111.01C554.01,-109.34 563.76,-107.74 572.44,-106.32\"/>\n<polygon fill=\"black\" stroke=\"black\" points=\"573.17,-109.75 582.47,-104.68 572.04,-102.84 573.17,-109.75\"/>\n</g>\n<!-- 131989542480080*&#45;&gt;131989542480080 -->\n<g id=\"edge4\" class=\"edge\">\n<title>131989542480080*&#45;&gt;131989542480080</title>\n<path fill=\"none\" stroke=\"black\" d=\"M290.34,-128.5C298.51,-128.5 308.08,-128.5 318.36,-128.5\"/>\n<polygon fill=\"black\" stroke=\"black\" points=\"318.39,-132 328.39,-128.5 318.39,-125 318.39,-132\"/>\n</g>\n<!-- 131989542481136 -->\n<g id=\"node14\" class=\"node\">\n<title>131989542481136</title>\n<polygon fill=\"none\" stroke=\"black\" points=\"1691,-136.5 1691,-172.5 1876,-172.5 1876,-136.5 1691,-136.5\"/>\n<text text-anchor=\"middle\" x=\"1702.5\" y=\"-150.8\" font-family=\"Times,serif\" font-size=\"14.00\">e</text>\n<polyline fill=\"none\" stroke=\"black\" points=\"1714,-136.5 1714,-172.5 \"/>\n<text text-anchor=\"middle\" x=\"1754\" y=\"-150.8\" font-family=\"Times,serif\" font-size=\"14.00\">data 5.8284</text>\n<polyline fill=\"none\" stroke=\"black\" points=\"1794,-136.5 1794,-172.5 \"/>\n<text text-anchor=\"middle\" x=\"1835\" y=\"-150.8\" font-family=\"Times,serif\" font-size=\"14.00\">grad 0.0429</text>\n</g>\n<!-- 131989542481136&#45;&gt;131989542481520+ -->\n<g id=\"edge26\" class=\"edge\">\n<title>131989542481136&#45;&gt;131989542481520+</title>\n<path fill=\"none\" stroke=\"black\" d=\"M1876.16,-137.89C1885.84,-136.13 1895.22,-134.43 1903.64,-132.91\"/>\n<polygon fill=\"black\" stroke=\"black\" points=\"1904.53,-136.3 1913.75,-131.08 1903.28,-129.42 1904.53,-136.3\"/>\n</g>\n<!-- 131989542471440+ -->\n<g id=\"node17\" class=\"node\">\n<title>131989542471440+</title>\n<ellipse fill=\"none\" stroke=\"black\" cx=\"1940\" cy=\"-181.5\" rx=\"27\" ry=\"18\"/>\n<text text-anchor=\"middle\" x=\"1940\" y=\"-177.8\" font-family=\"Times,serif\" font-size=\"14.00\">+</text>\n</g>\n<!-- 131989542481136&#45;&gt;131989542471440+ -->\n<g id=\"edge18\" class=\"edge\">\n<title>131989542481136&#45;&gt;131989542471440+</title>\n<path fill=\"none\" stroke=\"black\" d=\"M1876.16,-170.52C1885.84,-172.21 1895.22,-173.85 1903.64,-175.32\"/>\n<polygon fill=\"black\" stroke=\"black\" points=\"1903.29,-178.81 1913.75,-177.09 1904.5,-171.92 1903.29,-178.81\"/>\n</g>\n<!-- 131989542481136exp&#45;&gt;131989542481136 -->\n<g id=\"edge5\" class=\"edge\">\n<title>131989542481136exp&#45;&gt;131989542481136</title>\n<path fill=\"none\" stroke=\"black\" d=\"M1654.21,-154.5C1662,-154.5 1671.05,-154.5 1680.67,-154.5\"/>\n<polygon fill=\"black\" stroke=\"black\" points=\"1680.87,-158 1690.87,-154.5 1680.87,-151 1680.87,-158\"/>\n</g>\n<!-- 131989542471440 -->\n<g id=\"node16\" class=\"node\">\n<title>131989542471440</title>\n<polygon fill=\"none\" stroke=\"black\" points=\"2225,-163.5 2225,-199.5 2407,-199.5 2407,-163.5 2225,-163.5\"/>\n<text text-anchor=\"middle\" x=\"2235\" y=\"-177.8\" font-family=\"Times,serif\" font-size=\"14.00\"> </text>\n<polyline fill=\"none\" stroke=\"black\" points=\"2245,-163.5 2245,-199.5 \"/>\n<text text-anchor=\"middle\" x=\"2285\" y=\"-177.8\" font-family=\"Times,serif\" font-size=\"14.00\">data 4.8284</text>\n<polyline fill=\"none\" stroke=\"black\" points=\"2325,-163.5 2325,-199.5 \"/>\n<text text-anchor=\"middle\" x=\"2366\" y=\"-177.8\" font-family=\"Times,serif\" font-size=\"14.00\">grad 0.1464</text>\n</g>\n<!-- 131989542471440&#45;&gt;131989542482000* -->\n<g id=\"edge28\" class=\"edge\">\n<title>131989542471440&#45;&gt;131989542482000*</title>\n<path fill=\"none\" stroke=\"black\" d=\"M2407.31,-174.9C2468.7,-170.37 2551.76,-164.19 2625,-158.5 2633.42,-157.85 2642.48,-157.13 2651.01,-156.44\"/>\n<polygon fill=\"black\" stroke=\"black\" points=\"2651.37,-159.92 2661.06,-155.63 2650.81,-152.94 2651.37,-159.92\"/>\n</g>\n<!-- 131989542471440+&#45;&gt;131989542471440 -->\n<g id=\"edge6\" class=\"edge\">\n<title>131989542471440+&#45;&gt;131989542471440</title>\n<path fill=\"none\" stroke=\"black\" d=\"M1967,-181.5C2017.46,-181.5 2131.06,-181.5 2214.81,-181.5\"/>\n<polygon fill=\"black\" stroke=\"black\" points=\"2214.87,-185 2224.87,-181.5 2214.87,-178 2214.87,-185\"/>\n</g>\n<!-- 131989542481712 -->\n<g id=\"node18\" class=\"node\">\n<title>131989542481712</title>\n<polygon fill=\"none\" stroke=\"black\" points=\"2443,-112.5 2443,-148.5 2625,-148.5 2625,-112.5 2443,-112.5\"/>\n<text text-anchor=\"middle\" x=\"2453\" y=\"-126.8\" font-family=\"Times,serif\" font-size=\"14.00\"> </text>\n<polyline fill=\"none\" stroke=\"black\" points=\"2463,-112.5 2463,-148.5 \"/>\n<text text-anchor=\"middle\" x=\"2503\" y=\"-126.8\" font-family=\"Times,serif\" font-size=\"14.00\">data 0.1464</text>\n<polyline fill=\"none\" stroke=\"black\" points=\"2543,-112.5 2543,-148.5 \"/>\n<text text-anchor=\"middle\" x=\"2584\" y=\"-126.8\" font-family=\"Times,serif\" font-size=\"14.00\">grad 4.8284</text>\n</g>\n<!-- 131989542481712&#45;&gt;131989542482000* -->\n<g id=\"edge12\" class=\"edge\">\n<title>131989542481712&#45;&gt;131989542482000*</title>\n<path fill=\"none\" stroke=\"black\" d=\"M2625.18,-144.15C2634.42,-145.54 2643.38,-146.9 2651.47,-148.12\"/>\n<polygon fill=\"black\" stroke=\"black\" points=\"2651.15,-151.61 2661.56,-149.65 2652.19,-144.69 2651.15,-151.61\"/>\n</g>\n<!-- 131989542481712**&#45;1&#45;&gt;131989542481712 -->\n<g id=\"edge7\" class=\"edge\">\n<title>131989542481712**&#45;1&#45;&gt;131989542481712</title>\n<path fill=\"none\" stroke=\"black\" d=\"M2343.05,-126.98C2365.53,-127.4 2399.48,-128.03 2432.5,-128.64\"/>\n<polygon fill=\"black\" stroke=\"black\" points=\"2432.64,-132.14 2442.7,-128.83 2432.77,-125.14 2432.64,-132.14\"/>\n</g>\n<!-- 131989542479696 -->\n<g id=\"node20\" class=\"node\">\n<title>131989542479696</title>\n<polygon fill=\"none\" stroke=\"black\" points=\"326,-55.5 326,-91.5 546,-91.5 546,-55.5 326,-55.5\"/>\n<text text-anchor=\"middle\" x=\"352.5\" y=\"-69.8\" font-family=\"Times,serif\" font-size=\"14.00\">x1*w1</text>\n<polyline fill=\"none\" stroke=\"black\" points=\"379,-55.5 379,-91.5 \"/>\n<text text-anchor=\"middle\" x=\"421.5\" y=\"-69.8\" font-family=\"Times,serif\" font-size=\"14.00\">data &#45;6.0000</text>\n<polyline fill=\"none\" stroke=\"black\" points=\"464,-55.5 464,-91.5 \"/>\n<text text-anchor=\"middle\" x=\"505\" y=\"-69.8\" font-family=\"Times,serif\" font-size=\"14.00\">grad 0.5000</text>\n</g>\n<!-- 131989542479696&#45;&gt;131989542480272+ -->\n<g id=\"edge19\" class=\"edge\">\n<title>131989542479696&#45;&gt;131989542480272+</title>\n<path fill=\"none\" stroke=\"black\" d=\"M546.27,-90.75C555.64,-92.23 564.6,-93.65 572.65,-94.92\"/>\n<polygon fill=\"black\" stroke=\"black\" points=\"572.23,-98.4 582.65,-96.5 573.32,-91.48 572.23,-98.4\"/>\n</g>\n<!-- 131989542479696*&#45;&gt;131989542479696 -->\n<g id=\"edge8\" class=\"edge\">\n<title>131989542479696*&#45;&gt;131989542479696</title>\n<path fill=\"none\" stroke=\"black\" d=\"M290.34,-73.5C297.77,-73.5 306.37,-73.5 315.6,-73.5\"/>\n<polygon fill=\"black\" stroke=\"black\" points=\"315.84,-77 325.84,-73.5 315.84,-70 315.84,-77\"/>\n</g>\n<!-- 131989542480272 -->\n<g id=\"node22\" class=\"node\">\n<title>131989542480272</title>\n<polygon fill=\"none\" stroke=\"black\" points=\"672,-82.5 672,-118.5 945,-118.5 945,-82.5 672,-82.5\"/>\n<text text-anchor=\"middle\" x=\"725\" y=\"-96.8\" font-family=\"Times,serif\" font-size=\"14.00\">x1*w1 + x2*w2</text>\n<polyline fill=\"none\" stroke=\"black\" points=\"778,-82.5 778,-118.5 \"/>\n<text text-anchor=\"middle\" x=\"820.5\" y=\"-96.8\" font-family=\"Times,serif\" font-size=\"14.00\">data &#45;6.0000</text>\n<polyline fill=\"none\" stroke=\"black\" points=\"863,-82.5 863,-118.5 \"/>\n<text text-anchor=\"middle\" x=\"904\" y=\"-96.8\" font-family=\"Times,serif\" font-size=\"14.00\">grad 0.5000</text>\n</g>\n<!-- 131989542480272&#45;&gt;131989542480320+ -->\n<g id=\"edge11\" class=\"edge\">\n<title>131989542480272&#45;&gt;131989542480320+</title>\n<path fill=\"none\" stroke=\"black\" d=\"M941.24,-118.51C952.12,-120 962.4,-121.4 971.45,-122.64\"/>\n<polygon fill=\"black\" stroke=\"black\" points=\"971.11,-126.13 981.49,-124.01 972.05,-119.19 971.11,-126.13\"/>\n</g>\n<!-- 131989542480272+&#45;&gt;131989542480272 -->\n<g id=\"edge9\" class=\"edge\">\n<title>131989542480272+&#45;&gt;131989542480272</title>\n<path fill=\"none\" stroke=\"black\" d=\"M636.23,-100.5C643.7,-100.5 652.41,-100.5 661.87,-100.5\"/>\n<polygon fill=\"black\" stroke=\"black\" points=\"661.98,-104 671.98,-100.5 661.98,-97 661.98,-104\"/>\n</g>\n<!-- 131989542480800 -->\n<g id=\"node24\" class=\"node\">\n<title>131989542480800</title>\n<polygon fill=\"none\" stroke=\"black\" points=\"1072.5,-164.5 1072.5,-200.5 1254.5,-200.5 1254.5,-164.5 1072.5,-164.5\"/>\n<text text-anchor=\"middle\" x=\"1082.5\" y=\"-178.8\" font-family=\"Times,serif\" font-size=\"14.00\"> </text>\n<polyline fill=\"none\" stroke=\"black\" points=\"1092.5,-164.5 1092.5,-200.5 \"/>\n<text text-anchor=\"middle\" x=\"1132.5\" y=\"-178.8\" font-family=\"Times,serif\" font-size=\"14.00\">data 2.0000</text>\n<polyline fill=\"none\" stroke=\"black\" points=\"1172.5,-164.5 1172.5,-200.5 \"/>\n<text text-anchor=\"middle\" x=\"1213.5\" y=\"-178.8\" font-family=\"Times,serif\" font-size=\"14.00\">grad 0.2203</text>\n</g>\n<!-- 131989542480800&#45;&gt;131989542480896* -->\n<g id=\"edge22\" class=\"edge\">\n<title>131989542480800&#45;&gt;131989542480896*</title>\n<path fill=\"none\" stroke=\"black\" d=\"M1254.68,-166.05C1264.61,-164.24 1274.23,-162.48 1282.84,-160.91\"/>\n<polygon fill=\"black\" stroke=\"black\" points=\"1283.6,-164.33 1292.81,-159.09 1282.35,-157.45 1283.6,-164.33\"/>\n</g>\n<!-- 131989542480320 -->\n<g id=\"node25\" class=\"node\">\n<title>131989542480320</title>\n<polygon fill=\"none\" stroke=\"black\" points=\"1071,-109.5 1071,-145.5 1256,-145.5 1256,-109.5 1071,-109.5\"/>\n<text text-anchor=\"middle\" x=\"1082.5\" y=\"-123.8\" font-family=\"Times,serif\" font-size=\"14.00\">n</text>\n<polyline fill=\"none\" stroke=\"black\" points=\"1094,-109.5 1094,-145.5 \"/>\n<text text-anchor=\"middle\" x=\"1134\" y=\"-123.8\" font-family=\"Times,serif\" font-size=\"14.00\">data 0.8814</text>\n<polyline fill=\"none\" stroke=\"black\" points=\"1174,-109.5 1174,-145.5 \"/>\n<text text-anchor=\"middle\" x=\"1215\" y=\"-123.8\" font-family=\"Times,serif\" font-size=\"14.00\">grad 0.5000</text>\n</g>\n<!-- 131989542480320&#45;&gt;131989542480896* -->\n<g id=\"edge23\" class=\"edge\">\n<title>131989542480320&#45;&gt;131989542480896*</title>\n<path fill=\"none\" stroke=\"black\" d=\"M1256.01,-143.6C1265.49,-145.26 1274.66,-146.88 1282.9,-148.33\"/>\n<polygon fill=\"black\" stroke=\"black\" points=\"1282.36,-151.78 1292.81,-150.07 1283.57,-144.89 1282.36,-151.78\"/>\n</g>\n<!-- 131989542480320+&#45;&gt;131989542480320 -->\n<g id=\"edge10\" class=\"edge\">\n<title>131989542480320+&#45;&gt;131989542480320</title>\n<path fill=\"none\" stroke=\"black\" d=\"M1035.04,-127.5C1042.58,-127.5 1051.3,-127.5 1060.57,-127.5\"/>\n<polygon fill=\"black\" stroke=\"black\" points=\"1060.81,-131 1070.81,-127.5 1060.81,-124 1060.81,-131\"/>\n</g>\n<!-- 131989542481376 -->\n<g id=\"node27\" class=\"node\">\n<title>131989542481376</title>\n<polygon fill=\"none\" stroke=\"black\" points=\"1690,-191.5 1690,-227.5 1877,-227.5 1877,-191.5 1690,-191.5\"/>\n<text text-anchor=\"middle\" x=\"1700\" y=\"-205.8\" font-family=\"Times,serif\" font-size=\"14.00\"> </text>\n<polyline fill=\"none\" stroke=\"black\" points=\"1710,-191.5 1710,-227.5 \"/>\n<text text-anchor=\"middle\" x=\"1752.5\" y=\"-205.8\" font-family=\"Times,serif\" font-size=\"14.00\">data &#45;1.0000</text>\n<polyline fill=\"none\" stroke=\"black\" points=\"1795,-191.5 1795,-227.5 \"/>\n<text text-anchor=\"middle\" x=\"1836\" y=\"-205.8\" font-family=\"Times,serif\" font-size=\"14.00\">grad 0.1464</text>\n</g>\n<!-- 131989542481376&#45;&gt;131989542471440+ -->\n<g id=\"edge16\" class=\"edge\">\n<title>131989542481376&#45;&gt;131989542471440+</title>\n<path fill=\"none\" stroke=\"black\" d=\"M1877.05,-192.73C1886.54,-191.01 1895.71,-189.35 1903.95,-187.85\"/>\n<polygon fill=\"black\" stroke=\"black\" points=\"1904.64,-191.28 1913.85,-186.06 1903.39,-184.4 1904.64,-191.28\"/>\n</g>\n<!-- 131989542614512 -->\n<g id=\"node28\" class=\"node\">\n<title>131989542614512</title>\n<polygon fill=\"none\" stroke=\"black\" points=\"2,-0.5 2,-36.5 198,-36.5 198,-0.5 2,-0.5\"/>\n<text text-anchor=\"middle\" x=\"17\" y=\"-14.8\" font-family=\"Times,serif\" font-size=\"14.00\">x1</text>\n<polyline fill=\"none\" stroke=\"black\" points=\"32,-0.5 32,-36.5 \"/>\n<text text-anchor=\"middle\" x=\"72\" y=\"-14.8\" font-family=\"Times,serif\" font-size=\"14.00\">data 2.0000</text>\n<polyline fill=\"none\" stroke=\"black\" points=\"112,-0.5 112,-36.5 \"/>\n<text text-anchor=\"middle\" x=\"155\" y=\"-14.8\" font-family=\"Times,serif\" font-size=\"14.00\">grad &#45;1.5000</text>\n</g>\n<!-- 131989542614512&#45;&gt;131989542479696* -->\n<g id=\"edge27\" class=\"edge\">\n<title>131989542614512&#45;&gt;131989542479696*</title>\n<path fill=\"none\" stroke=\"black\" d=\"M172.53,-36.56C181.84,-39.33 191.2,-42.33 200,-45.5 210.53,-49.29 221.75,-54.1 231.72,-58.67\"/>\n<polygon fill=\"black\" stroke=\"black\" points=\"230.28,-61.86 240.82,-62.93 233.25,-55.52 230.28,-61.86\"/>\n</g>\n</g>\n</svg>\n",
            "text/plain": [
              "<graphviz.graphs.Digraph at 0x780b35cb3110>"
            ]
          },
          "metadata": {},
          "execution_count": 210
        }
      ]
    },
    {
      "cell_type": "code",
      "source": [],
      "metadata": {
        "id": "Roic2pHC5kta"
      },
      "execution_count": null,
      "outputs": []
    },
    {
      "cell_type": "code",
      "source": [],
      "metadata": {
        "id": "kMRcoIwD5kzT"
      },
      "execution_count": null,
      "outputs": []
    },
    {
      "cell_type": "code",
      "source": [
        "o.backward()\n",
        "draw_dot(o)"
      ],
      "metadata": {
        "colab": {
          "base_uri": "https://localhost:8080/",
          "height": 356
        },
        "id": "hO8gfaekzrsY",
        "outputId": "4c0decad-0d5a-4e09-ab86-8fee1e0fe2e8"
      },
      "execution_count": null,
      "outputs": [
        {
          "output_type": "execute_result",
          "data": {
            "image/svg+xml": "<?xml version=\"1.0\" encoding=\"UTF-8\" standalone=\"no\"?>\n<!DOCTYPE svg PUBLIC \"-//W3C//DTD SVG 1.1//EN\"\n \"http://www.w3.org/Graphics/SVG/1.1/DTD/svg11.dtd\">\n<!-- Generated by graphviz version 2.43.0 (0)\n -->\n<!-- Title: %3 Pages: 1 -->\n<svg width=\"2944pt\" height=\"236pt\"\n viewBox=\"0.00 0.00 2944.00 236.00\" xmlns=\"http://www.w3.org/2000/svg\" xmlns:xlink=\"http://www.w3.org/1999/xlink\">\n<g id=\"graph0\" class=\"graph\" transform=\"scale(1 1) rotate(0) translate(4 232)\">\n<title>%3</title>\n<polygon fill=\"white\" stroke=\"transparent\" points=\"-4,4 -4,-232 2940,-232 2940,4 -4,4\"/>\n<!-- 131989542480896 -->\n<g id=\"node1\" class=\"node\">\n<title>131989542480896</title>\n<polygon fill=\"none\" stroke=\"black\" points=\"1382,-136.5 1382,-172.5 1564,-172.5 1564,-136.5 1382,-136.5\"/>\n<text text-anchor=\"middle\" x=\"1392\" y=\"-150.8\" font-family=\"Times,serif\" font-size=\"14.00\"> </text>\n<polyline fill=\"none\" stroke=\"black\" points=\"1402,-136.5 1402,-172.5 \"/>\n<text text-anchor=\"middle\" x=\"1442\" y=\"-150.8\" font-family=\"Times,serif\" font-size=\"14.00\">data 1.7627</text>\n<polyline fill=\"none\" stroke=\"black\" points=\"1482,-136.5 1482,-172.5 \"/>\n<text text-anchor=\"middle\" x=\"1523\" y=\"-150.8\" font-family=\"Times,serif\" font-size=\"14.00\">grad 0.3964</text>\n</g>\n<!-- 131989542481136exp -->\n<g id=\"node15\" class=\"node\">\n<title>131989542481136exp</title>\n<ellipse fill=\"none\" stroke=\"black\" cx=\"1627\" cy=\"-154.5\" rx=\"27\" ry=\"18\"/>\n<text text-anchor=\"middle\" x=\"1627\" y=\"-150.8\" font-family=\"Times,serif\" font-size=\"14.00\">exp</text>\n</g>\n<!-- 131989542480896&#45;&gt;131989542481136exp -->\n<g id=\"edge21\" class=\"edge\">\n<title>131989542480896&#45;&gt;131989542481136exp</title>\n<path fill=\"none\" stroke=\"black\" d=\"M1564.18,-154.5C1573.14,-154.5 1581.83,-154.5 1589.73,-154.5\"/>\n<polygon fill=\"black\" stroke=\"black\" points=\"1589.96,-158 1599.96,-154.5 1589.96,-151 1589.96,-158\"/>\n</g>\n<!-- 131989542480896* -->\n<g id=\"node2\" class=\"node\">\n<title>131989542480896*</title>\n<ellipse fill=\"none\" stroke=\"black\" cx=\"1319\" cy=\"-154.5\" rx=\"27\" ry=\"18\"/>\n<text text-anchor=\"middle\" x=\"1319\" y=\"-150.8\" font-family=\"Times,serif\" font-size=\"14.00\">*</text>\n</g>\n<!-- 131989542480896*&#45;&gt;131989542480896 -->\n<g id=\"edge1\" class=\"edge\">\n<title>131989542480896*&#45;&gt;131989542480896</title>\n<path fill=\"none\" stroke=\"black\" d=\"M1346.13,-154.5C1353.67,-154.5 1362.39,-154.5 1371.64,-154.5\"/>\n<polygon fill=\"black\" stroke=\"black\" points=\"1371.87,-158 1381.87,-154.5 1371.87,-151 1371.87,-158\"/>\n</g>\n<!-- 131989542479360 -->\n<g id=\"node3\" class=\"node\">\n<title>131989542479360</title>\n<polygon fill=\"none\" stroke=\"black\" points=\"2.5,-165.5 2.5,-201.5 197.5,-201.5 197.5,-165.5 2.5,-165.5\"/>\n<text text-anchor=\"middle\" x=\"19\" y=\"-179.8\" font-family=\"Times,serif\" font-size=\"14.00\">w2</text>\n<polyline fill=\"none\" stroke=\"black\" points=\"35.5,-165.5 35.5,-201.5 \"/>\n<text text-anchor=\"middle\" x=\"75.5\" y=\"-179.8\" font-family=\"Times,serif\" font-size=\"14.00\">data 1.0000</text>\n<polyline fill=\"none\" stroke=\"black\" points=\"115.5,-165.5 115.5,-201.5 \"/>\n<text text-anchor=\"middle\" x=\"156.5\" y=\"-179.8\" font-family=\"Times,serif\" font-size=\"14.00\">grad 0.0000</text>\n</g>\n<!-- 131989542480080* -->\n<g id=\"node13\" class=\"node\">\n<title>131989542480080*</title>\n<ellipse fill=\"none\" stroke=\"black\" cx=\"263\" cy=\"-128.5\" rx=\"27\" ry=\"18\"/>\n<text text-anchor=\"middle\" x=\"263\" y=\"-124.8\" font-family=\"Times,serif\" font-size=\"14.00\">*</text>\n</g>\n<!-- 131989542479360&#45;&gt;131989542480080* -->\n<g id=\"edge14\" class=\"edge\">\n<title>131989542479360&#45;&gt;131989542480080*</title>\n<path fill=\"none\" stroke=\"black\" d=\"M172.53,-165.44C181.84,-162.67 191.2,-159.67 200,-156.5 210.53,-152.71 221.75,-147.9 231.72,-143.33\"/>\n<polygon fill=\"black\" stroke=\"black\" points=\"233.25,-146.48 240.82,-139.07 230.28,-140.14 233.25,-146.48\"/>\n</g>\n<!-- 131989542479888 -->\n<g id=\"node4\" class=\"node\">\n<title>131989542479888</title>\n<polygon fill=\"none\" stroke=\"black\" points=\"4,-110.5 4,-146.5 196,-146.5 196,-110.5 4,-110.5\"/>\n<text text-anchor=\"middle\" x=\"19\" y=\"-124.8\" font-family=\"Times,serif\" font-size=\"14.00\">x2</text>\n<polyline fill=\"none\" stroke=\"black\" points=\"34,-110.5 34,-146.5 \"/>\n<text text-anchor=\"middle\" x=\"74\" y=\"-124.8\" font-family=\"Times,serif\" font-size=\"14.00\">data 0.0000</text>\n<polyline fill=\"none\" stroke=\"black\" points=\"114,-110.5 114,-146.5 \"/>\n<text text-anchor=\"middle\" x=\"155\" y=\"-124.8\" font-family=\"Times,serif\" font-size=\"14.00\">grad 2.7929</text>\n</g>\n<!-- 131989542479888&#45;&gt;131989542480080* -->\n<g id=\"edge15\" class=\"edge\">\n<title>131989542479888&#45;&gt;131989542480080*</title>\n<path fill=\"none\" stroke=\"black\" d=\"M196.05,-128.5C206.52,-128.5 216.65,-128.5 225.71,-128.5\"/>\n<polygon fill=\"black\" stroke=\"black\" points=\"225.79,-132 235.79,-128.5 225.79,-125 225.79,-132\"/>\n</g>\n<!-- 131989542479408 -->\n<g id=\"node5\" class=\"node\">\n<title>131989542479408</title>\n<polygon fill=\"none\" stroke=\"black\" points=\"0,-55.5 0,-91.5 200,-91.5 200,-55.5 0,-55.5\"/>\n<text text-anchor=\"middle\" x=\"16.5\" y=\"-69.8\" font-family=\"Times,serif\" font-size=\"14.00\">w1</text>\n<polyline fill=\"none\" stroke=\"black\" points=\"33,-55.5 33,-91.5 \"/>\n<text text-anchor=\"middle\" x=\"75.5\" y=\"-69.8\" font-family=\"Times,serif\" font-size=\"14.00\">data &#45;3.0000</text>\n<polyline fill=\"none\" stroke=\"black\" points=\"118,-55.5 118,-91.5 \"/>\n<text text-anchor=\"middle\" x=\"159\" y=\"-69.8\" font-family=\"Times,serif\" font-size=\"14.00\">grad 5.5858</text>\n</g>\n<!-- 131989542479696* -->\n<g id=\"node21\" class=\"node\">\n<title>131989542479696*</title>\n<ellipse fill=\"none\" stroke=\"black\" cx=\"263\" cy=\"-73.5\" rx=\"27\" ry=\"18\"/>\n<text text-anchor=\"middle\" x=\"263\" y=\"-69.8\" font-family=\"Times,serif\" font-size=\"14.00\">*</text>\n</g>\n<!-- 131989542479408&#45;&gt;131989542479696* -->\n<g id=\"edge13\" class=\"edge\">\n<title>131989542479408&#45;&gt;131989542479696*</title>\n<path fill=\"none\" stroke=\"black\" d=\"M200.21,-73.5C209.2,-73.5 217.86,-73.5 225.7,-73.5\"/>\n<polygon fill=\"black\" stroke=\"black\" points=\"225.85,-77 235.85,-73.5 225.85,-70 225.85,-77\"/>\n</g>\n<!-- 131989542481472 -->\n<g id=\"node6\" class=\"node\">\n<title>131989542481472</title>\n<polygon fill=\"none\" stroke=\"black\" points=\"1690.5,-81.5 1690.5,-117.5 1876.5,-117.5 1876.5,-81.5 1690.5,-81.5\"/>\n<text text-anchor=\"middle\" x=\"1700.5\" y=\"-95.8\" font-family=\"Times,serif\" font-size=\"14.00\"> </text>\n<polyline fill=\"none\" stroke=\"black\" points=\"1710.5,-81.5 1710.5,-117.5 \"/>\n<text text-anchor=\"middle\" x=\"1750.5\" y=\"-95.8\" font-family=\"Times,serif\" font-size=\"14.00\">data 1.0000</text>\n<polyline fill=\"none\" stroke=\"black\" points=\"1790.5,-81.5 1790.5,-117.5 \"/>\n<text text-anchor=\"middle\" x=\"1833.5\" y=\"-95.8\" font-family=\"Times,serif\" font-size=\"14.00\">grad &#45;0.4142</text>\n</g>\n<!-- 131989542481520+ -->\n<g id=\"node10\" class=\"node\">\n<title>131989542481520+</title>\n<ellipse fill=\"none\" stroke=\"black\" cx=\"1940\" cy=\"-126.5\" rx=\"27\" ry=\"18\"/>\n<text text-anchor=\"middle\" x=\"1940\" y=\"-122.8\" font-family=\"Times,serif\" font-size=\"14.00\">+</text>\n</g>\n<!-- 131989542481472&#45;&gt;131989542481520+ -->\n<g id=\"edge17\" class=\"edge\">\n<title>131989542481472&#45;&gt;131989542481520+</title>\n<path fill=\"none\" stroke=\"black\" d=\"M1876.6,-115.6C1886.15,-117.26 1895.37,-118.88 1903.68,-120.33\"/>\n<polygon fill=\"black\" stroke=\"black\" points=\"1903.2,-123.8 1913.65,-122.07 1904.4,-116.9 1903.2,-123.8\"/>\n</g>\n<!-- 131989542482000 -->\n<g id=\"node7\" class=\"node\">\n<title>131989542482000</title>\n<polygon fill=\"none\" stroke=\"black\" points=\"2751,-135.5 2751,-171.5 2936,-171.5 2936,-135.5 2751,-135.5\"/>\n<text text-anchor=\"middle\" x=\"2762.5\" y=\"-149.8\" font-family=\"Times,serif\" font-size=\"14.00\">o</text>\n<polyline fill=\"none\" stroke=\"black\" points=\"2774,-135.5 2774,-171.5 \"/>\n<text text-anchor=\"middle\" x=\"2814\" y=\"-149.8\" font-family=\"Times,serif\" font-size=\"14.00\">data 0.7071</text>\n<polyline fill=\"none\" stroke=\"black\" points=\"2854,-135.5 2854,-171.5 \"/>\n<text text-anchor=\"middle\" x=\"2895\" y=\"-149.8\" font-family=\"Times,serif\" font-size=\"14.00\">grad 1.0000</text>\n</g>\n<!-- 131989542482000* -->\n<g id=\"node8\" class=\"node\">\n<title>131989542482000*</title>\n<ellipse fill=\"none\" stroke=\"black\" cx=\"2688\" cy=\"-153.5\" rx=\"27\" ry=\"18\"/>\n<text text-anchor=\"middle\" x=\"2688\" y=\"-149.8\" font-family=\"Times,serif\" font-size=\"14.00\">*</text>\n</g>\n<!-- 131989542482000*&#45;&gt;131989542482000 -->\n<g id=\"edge2\" class=\"edge\">\n<title>131989542482000*&#45;&gt;131989542482000</title>\n<path fill=\"none\" stroke=\"black\" d=\"M2715.04,-153.5C2722.58,-153.5 2731.3,-153.5 2740.57,-153.5\"/>\n<polygon fill=\"black\" stroke=\"black\" points=\"2740.81,-157 2750.81,-153.5 2740.81,-150 2740.81,-157\"/>\n</g>\n<!-- 131989542481520 -->\n<g id=\"node9\" class=\"node\">\n<title>131989542481520</title>\n<polygon fill=\"none\" stroke=\"black\" points=\"2003,-108.5 2003,-144.5 2189,-144.5 2189,-108.5 2003,-108.5\"/>\n<text text-anchor=\"middle\" x=\"2013\" y=\"-122.8\" font-family=\"Times,serif\" font-size=\"14.00\"> </text>\n<polyline fill=\"none\" stroke=\"black\" points=\"2023,-108.5 2023,-144.5 \"/>\n<text text-anchor=\"middle\" x=\"2063\" y=\"-122.8\" font-family=\"Times,serif\" font-size=\"14.00\">data 6.8284</text>\n<polyline fill=\"none\" stroke=\"black\" points=\"2103,-108.5 2103,-144.5 \"/>\n<text text-anchor=\"middle\" x=\"2146\" y=\"-122.8\" font-family=\"Times,serif\" font-size=\"14.00\">grad &#45;0.3107</text>\n</g>\n<!-- 131989542481712**&#45;1 -->\n<g id=\"node19\" class=\"node\">\n<title>131989542481712**&#45;1</title>\n<ellipse fill=\"none\" stroke=\"black\" cx=\"2316\" cy=\"-126.5\" rx=\"27\" ry=\"18\"/>\n<text text-anchor=\"middle\" x=\"2316\" y=\"-122.8\" font-family=\"Times,serif\" font-size=\"14.00\">**&#45;1</text>\n</g>\n<!-- 131989542481520&#45;&gt;131989542481712**&#45;1 -->\n<g id=\"edge24\" class=\"edge\">\n<title>131989542481520&#45;&gt;131989542481712**&#45;1</title>\n<path fill=\"none\" stroke=\"black\" d=\"M2189.14,-126.5C2220.72,-126.5 2254.24,-126.5 2278.74,-126.5\"/>\n<polygon fill=\"black\" stroke=\"black\" points=\"2278.98,-130 2288.98,-126.5 2278.98,-123 2278.98,-130\"/>\n</g>\n<!-- 131989542481520+&#45;&gt;131989542481520 -->\n<g id=\"edge3\" class=\"edge\">\n<title>131989542481520+&#45;&gt;131989542481520</title>\n<path fill=\"none\" stroke=\"black\" d=\"M1967.12,-126.5C1974.62,-126.5 1983.29,-126.5 1992.5,-126.5\"/>\n<polygon fill=\"black\" stroke=\"black\" points=\"1992.69,-130 2002.69,-126.5 1992.69,-123 1992.69,-130\"/>\n</g>\n<!-- 131989542479504 -->\n<g id=\"node11\" class=\"node\">\n<title>131989542479504</title>\n<polygon fill=\"none\" stroke=\"black\" points=\"716,-137.5 716,-173.5 901,-173.5 901,-137.5 716,-137.5\"/>\n<text text-anchor=\"middle\" x=\"727.5\" y=\"-151.8\" font-family=\"Times,serif\" font-size=\"14.00\">b</text>\n<polyline fill=\"none\" stroke=\"black\" points=\"739,-137.5 739,-173.5 \"/>\n<text text-anchor=\"middle\" x=\"779\" y=\"-151.8\" font-family=\"Times,serif\" font-size=\"14.00\">data 6.8814</text>\n<polyline fill=\"none\" stroke=\"black\" points=\"819,-137.5 819,-173.5 \"/>\n<text text-anchor=\"middle\" x=\"860\" y=\"-151.8\" font-family=\"Times,serif\" font-size=\"14.00\">grad 1.7929</text>\n</g>\n<!-- 131989542480320+ -->\n<g id=\"node26\" class=\"node\">\n<title>131989542480320+</title>\n<ellipse fill=\"none\" stroke=\"black\" cx=\"1008\" cy=\"-127.5\" rx=\"27\" ry=\"18\"/>\n<text text-anchor=\"middle\" x=\"1008\" y=\"-123.8\" font-family=\"Times,serif\" font-size=\"14.00\">+</text>\n</g>\n<!-- 131989542479504&#45;&gt;131989542480320+ -->\n<g id=\"edge20\" class=\"edge\">\n<title>131989542479504&#45;&gt;131989542480320+</title>\n<path fill=\"none\" stroke=\"black\" d=\"M901.02,-142.52C926,-138.98 951.59,-135.36 971.37,-132.55\"/>\n<polygon fill=\"black\" stroke=\"black\" points=\"972.03,-135.99 981.43,-131.12 971.04,-129.06 972.03,-135.99\"/>\n</g>\n<!-- 131989542480080 -->\n<g id=\"node12\" class=\"node\">\n<title>131989542480080</title>\n<polygon fill=\"none\" stroke=\"black\" points=\"328.5,-110.5 328.5,-146.5 543.5,-146.5 543.5,-110.5 328.5,-110.5\"/>\n<text text-anchor=\"middle\" x=\"355\" y=\"-124.8\" font-family=\"Times,serif\" font-size=\"14.00\">x2*w2</text>\n<polyline fill=\"none\" stroke=\"black\" points=\"381.5,-110.5 381.5,-146.5 \"/>\n<text text-anchor=\"middle\" x=\"421.5\" y=\"-124.8\" font-family=\"Times,serif\" font-size=\"14.00\">data 0.0000</text>\n<polyline fill=\"none\" stroke=\"black\" points=\"461.5,-110.5 461.5,-146.5 \"/>\n<text text-anchor=\"middle\" x=\"502.5\" y=\"-124.8\" font-family=\"Times,serif\" font-size=\"14.00\">grad 2.2929</text>\n</g>\n<!-- 131989542480272+ -->\n<g id=\"node23\" class=\"node\">\n<title>131989542480272+</title>\n<ellipse fill=\"none\" stroke=\"black\" cx=\"609\" cy=\"-100.5\" rx=\"27\" ry=\"18\"/>\n<text text-anchor=\"middle\" x=\"609\" y=\"-96.8\" font-family=\"Times,serif\" font-size=\"14.00\">+</text>\n</g>\n<!-- 131989542480080&#45;&gt;131989542480272+ -->\n<g id=\"edge25\" class=\"edge\">\n<title>131989542480080&#45;&gt;131989542480272+</title>\n<path fill=\"none\" stroke=\"black\" d=\"M543.84,-111.01C554.01,-109.34 563.76,-107.74 572.44,-106.32\"/>\n<polygon fill=\"black\" stroke=\"black\" points=\"573.17,-109.75 582.47,-104.68 572.04,-102.84 573.17,-109.75\"/>\n</g>\n<!-- 131989542480080*&#45;&gt;131989542480080 -->\n<g id=\"edge4\" class=\"edge\">\n<title>131989542480080*&#45;&gt;131989542480080</title>\n<path fill=\"none\" stroke=\"black\" d=\"M290.34,-128.5C298.51,-128.5 308.08,-128.5 318.36,-128.5\"/>\n<polygon fill=\"black\" stroke=\"black\" points=\"318.39,-132 328.39,-128.5 318.39,-125 318.39,-132\"/>\n</g>\n<!-- 131989542481136 -->\n<g id=\"node14\" class=\"node\">\n<title>131989542481136</title>\n<polygon fill=\"none\" stroke=\"black\" points=\"1691,-136.5 1691,-172.5 1876,-172.5 1876,-136.5 1691,-136.5\"/>\n<text text-anchor=\"middle\" x=\"1702.5\" y=\"-150.8\" font-family=\"Times,serif\" font-size=\"14.00\">e</text>\n<polyline fill=\"none\" stroke=\"black\" points=\"1714,-136.5 1714,-172.5 \"/>\n<text text-anchor=\"middle\" x=\"1754\" y=\"-150.8\" font-family=\"Times,serif\" font-size=\"14.00\">data 5.8284</text>\n<polyline fill=\"none\" stroke=\"black\" points=\"1794,-136.5 1794,-172.5 \"/>\n<text text-anchor=\"middle\" x=\"1835\" y=\"-150.8\" font-family=\"Times,serif\" font-size=\"14.00\">grad 0.0251</text>\n</g>\n<!-- 131989542481136&#45;&gt;131989542481520+ -->\n<g id=\"edge26\" class=\"edge\">\n<title>131989542481136&#45;&gt;131989542481520+</title>\n<path fill=\"none\" stroke=\"black\" d=\"M1876.16,-137.89C1885.84,-136.13 1895.22,-134.43 1903.64,-132.91\"/>\n<polygon fill=\"black\" stroke=\"black\" points=\"1904.53,-136.3 1913.75,-131.08 1903.28,-129.42 1904.53,-136.3\"/>\n</g>\n<!-- 131989542471440+ -->\n<g id=\"node17\" class=\"node\">\n<title>131989542471440+</title>\n<ellipse fill=\"none\" stroke=\"black\" cx=\"1940\" cy=\"-181.5\" rx=\"27\" ry=\"18\"/>\n<text text-anchor=\"middle\" x=\"1940\" y=\"-177.8\" font-family=\"Times,serif\" font-size=\"14.00\">+</text>\n</g>\n<!-- 131989542481136&#45;&gt;131989542471440+ -->\n<g id=\"edge18\" class=\"edge\">\n<title>131989542481136&#45;&gt;131989542471440+</title>\n<path fill=\"none\" stroke=\"black\" d=\"M1876.16,-170.52C1885.84,-172.21 1895.22,-173.85 1903.64,-175.32\"/>\n<polygon fill=\"black\" stroke=\"black\" points=\"1903.29,-178.81 1913.75,-177.09 1904.5,-171.92 1903.29,-178.81\"/>\n</g>\n<!-- 131989542481136exp&#45;&gt;131989542481136 -->\n<g id=\"edge5\" class=\"edge\">\n<title>131989542481136exp&#45;&gt;131989542481136</title>\n<path fill=\"none\" stroke=\"black\" d=\"M1654.21,-154.5C1662,-154.5 1671.05,-154.5 1680.67,-154.5\"/>\n<polygon fill=\"black\" stroke=\"black\" points=\"1680.87,-158 1690.87,-154.5 1680.87,-151 1680.87,-158\"/>\n</g>\n<!-- 131989542471440 -->\n<g id=\"node16\" class=\"node\">\n<title>131989542471440</title>\n<polygon fill=\"none\" stroke=\"black\" points=\"2225,-163.5 2225,-199.5 2407,-199.5 2407,-163.5 2225,-163.5\"/>\n<text text-anchor=\"middle\" x=\"2235\" y=\"-177.8\" font-family=\"Times,serif\" font-size=\"14.00\"> </text>\n<polyline fill=\"none\" stroke=\"black\" points=\"2245,-163.5 2245,-199.5 \"/>\n<text text-anchor=\"middle\" x=\"2285\" y=\"-177.8\" font-family=\"Times,serif\" font-size=\"14.00\">data 4.8284</text>\n<polyline fill=\"none\" stroke=\"black\" points=\"2325,-163.5 2325,-199.5 \"/>\n<text text-anchor=\"middle\" x=\"2366\" y=\"-177.8\" font-family=\"Times,serif\" font-size=\"14.00\">grad 0.2929</text>\n</g>\n<!-- 131989542471440&#45;&gt;131989542482000* -->\n<g id=\"edge28\" class=\"edge\">\n<title>131989542471440&#45;&gt;131989542482000*</title>\n<path fill=\"none\" stroke=\"black\" d=\"M2407.31,-174.9C2468.7,-170.37 2551.76,-164.19 2625,-158.5 2633.42,-157.85 2642.48,-157.13 2651.01,-156.44\"/>\n<polygon fill=\"black\" stroke=\"black\" points=\"2651.37,-159.92 2661.06,-155.63 2650.81,-152.94 2651.37,-159.92\"/>\n</g>\n<!-- 131989542471440+&#45;&gt;131989542471440 -->\n<g id=\"edge6\" class=\"edge\">\n<title>131989542471440+&#45;&gt;131989542471440</title>\n<path fill=\"none\" stroke=\"black\" d=\"M1967,-181.5C2017.46,-181.5 2131.06,-181.5 2214.81,-181.5\"/>\n<polygon fill=\"black\" stroke=\"black\" points=\"2214.87,-185 2224.87,-181.5 2214.87,-178 2214.87,-185\"/>\n</g>\n<!-- 131989542481712 -->\n<g id=\"node18\" class=\"node\">\n<title>131989542481712</title>\n<polygon fill=\"none\" stroke=\"black\" points=\"2443,-112.5 2443,-148.5 2625,-148.5 2625,-112.5 2443,-112.5\"/>\n<text text-anchor=\"middle\" x=\"2453\" y=\"-126.8\" font-family=\"Times,serif\" font-size=\"14.00\"> </text>\n<polyline fill=\"none\" stroke=\"black\" points=\"2463,-112.5 2463,-148.5 \"/>\n<text text-anchor=\"middle\" x=\"2503\" y=\"-126.8\" font-family=\"Times,serif\" font-size=\"14.00\">data 0.1464</text>\n<polyline fill=\"none\" stroke=\"black\" points=\"2543,-112.5 2543,-148.5 \"/>\n<text text-anchor=\"middle\" x=\"2584\" y=\"-126.8\" font-family=\"Times,serif\" font-size=\"14.00\">grad 9.6569</text>\n</g>\n<!-- 131989542481712&#45;&gt;131989542482000* -->\n<g id=\"edge12\" class=\"edge\">\n<title>131989542481712&#45;&gt;131989542482000*</title>\n<path fill=\"none\" stroke=\"black\" d=\"M2625.18,-144.15C2634.42,-145.54 2643.38,-146.9 2651.47,-148.12\"/>\n<polygon fill=\"black\" stroke=\"black\" points=\"2651.15,-151.61 2661.56,-149.65 2652.19,-144.69 2651.15,-151.61\"/>\n</g>\n<!-- 131989542481712**&#45;1&#45;&gt;131989542481712 -->\n<g id=\"edge7\" class=\"edge\">\n<title>131989542481712**&#45;1&#45;&gt;131989542481712</title>\n<path fill=\"none\" stroke=\"black\" d=\"M2343.05,-126.98C2365.53,-127.4 2399.48,-128.03 2432.5,-128.64\"/>\n<polygon fill=\"black\" stroke=\"black\" points=\"2432.64,-132.14 2442.7,-128.83 2432.77,-125.14 2432.64,-132.14\"/>\n</g>\n<!-- 131989542479696 -->\n<g id=\"node20\" class=\"node\">\n<title>131989542479696</title>\n<polygon fill=\"none\" stroke=\"black\" points=\"326,-55.5 326,-91.5 546,-91.5 546,-55.5 326,-55.5\"/>\n<text text-anchor=\"middle\" x=\"352.5\" y=\"-69.8\" font-family=\"Times,serif\" font-size=\"14.00\">x1*w1</text>\n<polyline fill=\"none\" stroke=\"black\" points=\"379,-55.5 379,-91.5 \"/>\n<text text-anchor=\"middle\" x=\"421.5\" y=\"-69.8\" font-family=\"Times,serif\" font-size=\"14.00\">data &#45;6.0000</text>\n<polyline fill=\"none\" stroke=\"black\" points=\"464,-55.5 464,-91.5 \"/>\n<text text-anchor=\"middle\" x=\"505\" y=\"-69.8\" font-family=\"Times,serif\" font-size=\"14.00\">grad 2.2929</text>\n</g>\n<!-- 131989542479696&#45;&gt;131989542480272+ -->\n<g id=\"edge19\" class=\"edge\">\n<title>131989542479696&#45;&gt;131989542480272+</title>\n<path fill=\"none\" stroke=\"black\" d=\"M546.27,-90.75C555.64,-92.23 564.6,-93.65 572.65,-94.92\"/>\n<polygon fill=\"black\" stroke=\"black\" points=\"572.23,-98.4 582.65,-96.5 573.32,-91.48 572.23,-98.4\"/>\n</g>\n<!-- 131989542479696*&#45;&gt;131989542479696 -->\n<g id=\"edge8\" class=\"edge\">\n<title>131989542479696*&#45;&gt;131989542479696</title>\n<path fill=\"none\" stroke=\"black\" d=\"M290.34,-73.5C297.77,-73.5 306.37,-73.5 315.6,-73.5\"/>\n<polygon fill=\"black\" stroke=\"black\" points=\"315.84,-77 325.84,-73.5 315.84,-70 315.84,-77\"/>\n</g>\n<!-- 131989542480272 -->\n<g id=\"node22\" class=\"node\">\n<title>131989542480272</title>\n<polygon fill=\"none\" stroke=\"black\" points=\"672,-82.5 672,-118.5 945,-118.5 945,-82.5 672,-82.5\"/>\n<text text-anchor=\"middle\" x=\"725\" y=\"-96.8\" font-family=\"Times,serif\" font-size=\"14.00\">x1*w1 + x2*w2</text>\n<polyline fill=\"none\" stroke=\"black\" points=\"778,-82.5 778,-118.5 \"/>\n<text text-anchor=\"middle\" x=\"820.5\" y=\"-96.8\" font-family=\"Times,serif\" font-size=\"14.00\">data &#45;6.0000</text>\n<polyline fill=\"none\" stroke=\"black\" points=\"863,-82.5 863,-118.5 \"/>\n<text text-anchor=\"middle\" x=\"904\" y=\"-96.8\" font-family=\"Times,serif\" font-size=\"14.00\">grad 1.7929</text>\n</g>\n<!-- 131989542480272&#45;&gt;131989542480320+ -->\n<g id=\"edge11\" class=\"edge\">\n<title>131989542480272&#45;&gt;131989542480320+</title>\n<path fill=\"none\" stroke=\"black\" d=\"M941.24,-118.51C952.12,-120 962.4,-121.4 971.45,-122.64\"/>\n<polygon fill=\"black\" stroke=\"black\" points=\"971.11,-126.13 981.49,-124.01 972.05,-119.19 971.11,-126.13\"/>\n</g>\n<!-- 131989542480272+&#45;&gt;131989542480272 -->\n<g id=\"edge9\" class=\"edge\">\n<title>131989542480272+&#45;&gt;131989542480272</title>\n<path fill=\"none\" stroke=\"black\" d=\"M636.23,-100.5C643.7,-100.5 652.41,-100.5 661.87,-100.5\"/>\n<polygon fill=\"black\" stroke=\"black\" points=\"661.98,-104 671.98,-100.5 661.98,-97 661.98,-104\"/>\n</g>\n<!-- 131989542480800 -->\n<g id=\"node24\" class=\"node\">\n<title>131989542480800</title>\n<polygon fill=\"none\" stroke=\"black\" points=\"1072.5,-164.5 1072.5,-200.5 1254.5,-200.5 1254.5,-164.5 1072.5,-164.5\"/>\n<text text-anchor=\"middle\" x=\"1082.5\" y=\"-178.8\" font-family=\"Times,serif\" font-size=\"14.00\"> </text>\n<polyline fill=\"none\" stroke=\"black\" points=\"1092.5,-164.5 1092.5,-200.5 \"/>\n<text text-anchor=\"middle\" x=\"1132.5\" y=\"-178.8\" font-family=\"Times,serif\" font-size=\"14.00\">data 2.0000</text>\n<polyline fill=\"none\" stroke=\"black\" points=\"1172.5,-164.5 1172.5,-200.5 \"/>\n<text text-anchor=\"middle\" x=\"1213.5\" y=\"-178.8\" font-family=\"Times,serif\" font-size=\"14.00\">grad 0.5698</text>\n</g>\n<!-- 131989542480800&#45;&gt;131989542480896* -->\n<g id=\"edge22\" class=\"edge\">\n<title>131989542480800&#45;&gt;131989542480896*</title>\n<path fill=\"none\" stroke=\"black\" d=\"M1254.68,-166.05C1264.61,-164.24 1274.23,-162.48 1282.84,-160.91\"/>\n<polygon fill=\"black\" stroke=\"black\" points=\"1283.6,-164.33 1292.81,-159.09 1282.35,-157.45 1283.6,-164.33\"/>\n</g>\n<!-- 131989542480320 -->\n<g id=\"node25\" class=\"node\">\n<title>131989542480320</title>\n<polygon fill=\"none\" stroke=\"black\" points=\"1071,-109.5 1071,-145.5 1256,-145.5 1256,-109.5 1071,-109.5\"/>\n<text text-anchor=\"middle\" x=\"1082.5\" y=\"-123.8\" font-family=\"Times,serif\" font-size=\"14.00\">n</text>\n<polyline fill=\"none\" stroke=\"black\" points=\"1094,-109.5 1094,-145.5 \"/>\n<text text-anchor=\"middle\" x=\"1134\" y=\"-123.8\" font-family=\"Times,serif\" font-size=\"14.00\">data 0.8814</text>\n<polyline fill=\"none\" stroke=\"black\" points=\"1174,-109.5 1174,-145.5 \"/>\n<text text-anchor=\"middle\" x=\"1215\" y=\"-123.8\" font-family=\"Times,serif\" font-size=\"14.00\">grad 1.2929</text>\n</g>\n<!-- 131989542480320&#45;&gt;131989542480896* -->\n<g id=\"edge23\" class=\"edge\">\n<title>131989542480320&#45;&gt;131989542480896*</title>\n<path fill=\"none\" stroke=\"black\" d=\"M1256.01,-143.6C1265.49,-145.26 1274.66,-146.88 1282.9,-148.33\"/>\n<polygon fill=\"black\" stroke=\"black\" points=\"1282.36,-151.78 1292.81,-150.07 1283.57,-144.89 1282.36,-151.78\"/>\n</g>\n<!-- 131989542480320+&#45;&gt;131989542480320 -->\n<g id=\"edge10\" class=\"edge\">\n<title>131989542480320+&#45;&gt;131989542480320</title>\n<path fill=\"none\" stroke=\"black\" d=\"M1035.04,-127.5C1042.58,-127.5 1051.3,-127.5 1060.57,-127.5\"/>\n<polygon fill=\"black\" stroke=\"black\" points=\"1060.81,-131 1070.81,-127.5 1060.81,-124 1060.81,-131\"/>\n</g>\n<!-- 131989542481376 -->\n<g id=\"node27\" class=\"node\">\n<title>131989542481376</title>\n<polygon fill=\"none\" stroke=\"black\" points=\"1690,-191.5 1690,-227.5 1877,-227.5 1877,-191.5 1690,-191.5\"/>\n<text text-anchor=\"middle\" x=\"1700\" y=\"-205.8\" font-family=\"Times,serif\" font-size=\"14.00\"> </text>\n<polyline fill=\"none\" stroke=\"black\" points=\"1710,-191.5 1710,-227.5 \"/>\n<text text-anchor=\"middle\" x=\"1752.5\" y=\"-205.8\" font-family=\"Times,serif\" font-size=\"14.00\">data &#45;1.0000</text>\n<polyline fill=\"none\" stroke=\"black\" points=\"1795,-191.5 1795,-227.5 \"/>\n<text text-anchor=\"middle\" x=\"1836\" y=\"-205.8\" font-family=\"Times,serif\" font-size=\"14.00\">grad 0.4393</text>\n</g>\n<!-- 131989542481376&#45;&gt;131989542471440+ -->\n<g id=\"edge16\" class=\"edge\">\n<title>131989542481376&#45;&gt;131989542471440+</title>\n<path fill=\"none\" stroke=\"black\" d=\"M1877.05,-192.73C1886.54,-191.01 1895.71,-189.35 1903.95,-187.85\"/>\n<polygon fill=\"black\" stroke=\"black\" points=\"1904.64,-191.28 1913.85,-186.06 1903.39,-184.4 1904.64,-191.28\"/>\n</g>\n<!-- 131989542614512 -->\n<g id=\"node28\" class=\"node\">\n<title>131989542614512</title>\n<polygon fill=\"none\" stroke=\"black\" points=\"2,-0.5 2,-36.5 198,-36.5 198,-0.5 2,-0.5\"/>\n<text text-anchor=\"middle\" x=\"17\" y=\"-14.8\" font-family=\"Times,serif\" font-size=\"14.00\">x1</text>\n<polyline fill=\"none\" stroke=\"black\" points=\"32,-0.5 32,-36.5 \"/>\n<text text-anchor=\"middle\" x=\"72\" y=\"-14.8\" font-family=\"Times,serif\" font-size=\"14.00\">data 2.0000</text>\n<polyline fill=\"none\" stroke=\"black\" points=\"112,-0.5 112,-36.5 \"/>\n<text text-anchor=\"middle\" x=\"155\" y=\"-14.8\" font-family=\"Times,serif\" font-size=\"14.00\">grad &#45;8.3787</text>\n</g>\n<!-- 131989542614512&#45;&gt;131989542479696* -->\n<g id=\"edge27\" class=\"edge\">\n<title>131989542614512&#45;&gt;131989542479696*</title>\n<path fill=\"none\" stroke=\"black\" d=\"M172.53,-36.56C181.84,-39.33 191.2,-42.33 200,-45.5 210.53,-49.29 221.75,-54.1 231.72,-58.67\"/>\n<polygon fill=\"black\" stroke=\"black\" points=\"230.28,-61.86 240.82,-62.93 233.25,-55.52 230.28,-61.86\"/>\n</g>\n</g>\n</svg>\n",
            "text/plain": [
              "<graphviz.graphs.Digraph at 0x780b35cb36b0>"
            ]
          },
          "metadata": {},
          "execution_count": 211
        }
      ]
    },
    {
      "cell_type": "code",
      "source": [
        "L.grad = 1.0"
      ],
      "metadata": {
        "id": "42OXMRF2dDCH"
      },
      "execution_count": null,
      "outputs": []
    },
    {
      "cell_type": "code",
      "source": [
        "d.grad = -2.0\n",
        "f.grad = 1.0\n"
      ],
      "metadata": {
        "id": "_bJIVJrXglT3"
      },
      "execution_count": null,
      "outputs": []
    },
    {
      "cell_type": "code",
      "source": [
        "# this is intersting L = d*f L = (e+c)*f so dL/de = f\n",
        "# dL/de = dL/dd * dd/de and dd/de = 1 dL/dd *dd/dc\n",
        "e.grad = -2.0\n",
        "c.grad = -2.0\n",
        "a.grad = e.grad *b.data\n",
        "b.grad = e.grad *a.data"
      ],
      "metadata": {
        "id": "RstsImDMgtma"
      },
      "execution_count": null,
      "outputs": []
    },
    {
      "cell_type": "code",
      "source": [
        "a = Value(-2.0,label = 'a')\n",
        "b = Value(-3.0,label = 'b')\n",
        "d = a*b ; d.label = 'd'\n",
        "e = a+b; e.label = 'e'\n",
        "f = d*e ; f.label = 'f'\n",
        "\n",
        "f.backward()\n",
        "draw_dot(f)"
      ],
      "metadata": {
        "colab": {
          "base_uri": "https://localhost:8080/",
          "height": 154
        },
        "id": "lwFLqdDNh1Xv",
        "outputId": "af78d29e-6c3a-42cd-e699-c8a947574213"
      },
      "execution_count": null,
      "outputs": [
        {
          "output_type": "execute_result",
          "data": {
            "image/svg+xml": "<?xml version=\"1.0\" encoding=\"UTF-8\" standalone=\"no\"?>\n<!DOCTYPE svg PUBLIC \"-//W3C//DTD SVG 1.1//EN\"\n \"http://www.w3.org/Graphics/SVG/1.1/DTD/svg11.dtd\">\n<!-- Generated by graphviz version 2.43.0 (0)\n -->\n<!-- Title: %3 Pages: 1 -->\n<svg width=\"842pt\" height=\"100pt\"\n viewBox=\"0.00 0.00 842.00 100.00\" xmlns=\"http://www.w3.org/2000/svg\" xmlns:xlink=\"http://www.w3.org/1999/xlink\">\n<g id=\"graph0\" class=\"graph\" transform=\"scale(1 1) rotate(0) translate(4 96)\">\n<title>%3</title>\n<polygon fill=\"white\" stroke=\"transparent\" points=\"-4,4 -4,-96 838,-96 838,4 -4,4\"/>\n<!-- 131989542471776 -->\n<g id=\"node1\" class=\"node\">\n<title>131989542471776</title>\n<polygon fill=\"none\" stroke=\"black\" points=\"323.5,-55.5 323.5,-91.5 512.5,-91.5 512.5,-55.5 323.5,-55.5\"/>\n<text text-anchor=\"middle\" x=\"335\" y=\"-69.8\" font-family=\"Times,serif\" font-size=\"14.00\">d</text>\n<polyline fill=\"none\" stroke=\"black\" points=\"346.5,-55.5 346.5,-91.5 \"/>\n<text text-anchor=\"middle\" x=\"386.5\" y=\"-69.8\" font-family=\"Times,serif\" font-size=\"14.00\">data 6.0000</text>\n<polyline fill=\"none\" stroke=\"black\" points=\"426.5,-55.5 426.5,-91.5 \"/>\n<text text-anchor=\"middle\" x=\"469.5\" y=\"-69.8\" font-family=\"Times,serif\" font-size=\"14.00\">grad &#45;5.0000</text>\n</g>\n<!-- 131989542470336* -->\n<g id=\"node6\" class=\"node\">\n<title>131989542470336*</title>\n<ellipse fill=\"none\" stroke=\"black\" cx=\"576\" cy=\"-45.5\" rx=\"27\" ry=\"18\"/>\n<text text-anchor=\"middle\" x=\"576\" y=\"-41.8\" font-family=\"Times,serif\" font-size=\"14.00\">*</text>\n</g>\n<!-- 131989542471776&#45;&gt;131989542470336* -->\n<g id=\"edge4\" class=\"edge\">\n<title>131989542471776&#45;&gt;131989542470336*</title>\n<path fill=\"none\" stroke=\"black\" d=\"M512.9,-56.65C522.42,-54.94 531.62,-53.29 539.89,-51.8\"/>\n<polygon fill=\"black\" stroke=\"black\" points=\"540.59,-55.23 549.81,-50.02 539.35,-48.34 540.59,-55.23\"/>\n</g>\n<!-- 131989542471776* -->\n<g id=\"node2\" class=\"node\">\n<title>131989542471776*</title>\n<ellipse fill=\"none\" stroke=\"black\" cx=\"260\" cy=\"-73.5\" rx=\"27\" ry=\"18\"/>\n<text text-anchor=\"middle\" x=\"260\" y=\"-69.8\" font-family=\"Times,serif\" font-size=\"14.00\">*</text>\n</g>\n<!-- 131989542471776*&#45;&gt;131989542471776 -->\n<g id=\"edge1\" class=\"edge\">\n<title>131989542471776*&#45;&gt;131989542471776</title>\n<path fill=\"none\" stroke=\"black\" d=\"M287.11,-73.5C294.84,-73.5 303.8,-73.5 313.35,-73.5\"/>\n<polygon fill=\"black\" stroke=\"black\" points=\"313.48,-77 323.48,-73.5 313.48,-70 313.48,-77\"/>\n</g>\n<!-- 131989542470816 -->\n<g id=\"node3\" class=\"node\">\n<title>131989542470816</title>\n<polygon fill=\"none\" stroke=\"black\" points=\"323,-0.5 323,-36.5 513,-36.5 513,-0.5 323,-0.5\"/>\n<text text-anchor=\"middle\" x=\"334.5\" y=\"-14.8\" font-family=\"Times,serif\" font-size=\"14.00\">e</text>\n<polyline fill=\"none\" stroke=\"black\" points=\"346,-0.5 346,-36.5 \"/>\n<text text-anchor=\"middle\" x=\"388.5\" y=\"-14.8\" font-family=\"Times,serif\" font-size=\"14.00\">data &#45;5.0000</text>\n<polyline fill=\"none\" stroke=\"black\" points=\"431,-0.5 431,-36.5 \"/>\n<text text-anchor=\"middle\" x=\"472\" y=\"-14.8\" font-family=\"Times,serif\" font-size=\"14.00\">grad 6.0000</text>\n</g>\n<!-- 131989542470816&#45;&gt;131989542470336* -->\n<g id=\"edge7\" class=\"edge\">\n<title>131989542470816&#45;&gt;131989542470336*</title>\n<path fill=\"none\" stroke=\"black\" d=\"M513.34,-34.83C522.62,-36.44 531.58,-37.99 539.66,-39.38\"/>\n<polygon fill=\"black\" stroke=\"black\" points=\"539.27,-42.87 549.72,-41.12 540.46,-35.97 539.27,-42.87\"/>\n</g>\n<!-- 131989542470816+ -->\n<g id=\"node4\" class=\"node\">\n<title>131989542470816+</title>\n<ellipse fill=\"none\" stroke=\"black\" cx=\"260\" cy=\"-18.5\" rx=\"27\" ry=\"18\"/>\n<text text-anchor=\"middle\" x=\"260\" y=\"-14.8\" font-family=\"Times,serif\" font-size=\"14.00\">+</text>\n</g>\n<!-- 131989542470816+&#45;&gt;131989542470816 -->\n<g id=\"edge2\" class=\"edge\">\n<title>131989542470816+&#45;&gt;131989542470816</title>\n<path fill=\"none\" stroke=\"black\" d=\"M287.11,-18.5C294.63,-18.5 303.32,-18.5 312.58,-18.5\"/>\n<polygon fill=\"black\" stroke=\"black\" points=\"312.81,-22 322.81,-18.5 312.81,-15 312.81,-22\"/>\n</g>\n<!-- 131989542470336 -->\n<g id=\"node5\" class=\"node\">\n<title>131989542470336</title>\n<polygon fill=\"none\" stroke=\"black\" points=\"639,-27.5 639,-63.5 834,-63.5 834,-27.5 639,-27.5\"/>\n<text text-anchor=\"middle\" x=\"649.5\" y=\"-41.8\" font-family=\"Times,serif\" font-size=\"14.00\">f</text>\n<polyline fill=\"none\" stroke=\"black\" points=\"660,-27.5 660,-63.5 \"/>\n<text text-anchor=\"middle\" x=\"706\" y=\"-41.8\" font-family=\"Times,serif\" font-size=\"14.00\">data &#45;30.0000</text>\n<polyline fill=\"none\" stroke=\"black\" points=\"752,-27.5 752,-63.5 \"/>\n<text text-anchor=\"middle\" x=\"793\" y=\"-41.8\" font-family=\"Times,serif\" font-size=\"14.00\">grad 1.0000</text>\n</g>\n<!-- 131989542470336*&#45;&gt;131989542470336 -->\n<g id=\"edge3\" class=\"edge\">\n<title>131989542470336*&#45;&gt;131989542470336</title>\n<path fill=\"none\" stroke=\"black\" d=\"M603.17,-45.5C610.66,-45.5 619.32,-45.5 628.56,-45.5\"/>\n<polygon fill=\"black\" stroke=\"black\" points=\"628.78,-49 638.78,-45.5 628.78,-42 628.78,-49\"/>\n</g>\n<!-- 131989542470864 -->\n<g id=\"node7\" class=\"node\">\n<title>131989542470864</title>\n<polygon fill=\"none\" stroke=\"black\" points=\"0,-55.5 0,-91.5 197,-91.5 197,-55.5 0,-55.5\"/>\n<text text-anchor=\"middle\" x=\"11.5\" y=\"-69.8\" font-family=\"Times,serif\" font-size=\"14.00\">b</text>\n<polyline fill=\"none\" stroke=\"black\" points=\"23,-55.5 23,-91.5 \"/>\n<text text-anchor=\"middle\" x=\"65.5\" y=\"-69.8\" font-family=\"Times,serif\" font-size=\"14.00\">data &#45;3.0000</text>\n<polyline fill=\"none\" stroke=\"black\" points=\"108,-55.5 108,-91.5 \"/>\n<text text-anchor=\"middle\" x=\"152.5\" y=\"-69.8\" font-family=\"Times,serif\" font-size=\"14.00\">grad 16.0000</text>\n</g>\n<!-- 131989542470864&#45;&gt;131989542471776* -->\n<g id=\"edge9\" class=\"edge\">\n<title>131989542470864&#45;&gt;131989542471776*</title>\n<path fill=\"none\" stroke=\"black\" d=\"M197.33,-73.5C206.29,-73.5 214.92,-73.5 222.75,-73.5\"/>\n<polygon fill=\"black\" stroke=\"black\" points=\"222.88,-77 232.88,-73.5 222.88,-70 222.88,-77\"/>\n</g>\n<!-- 131989542470864&#45;&gt;131989542470816+ -->\n<g id=\"edge8\" class=\"edge\">\n<title>131989542470864&#45;&gt;131989542470816+</title>\n<path fill=\"none\" stroke=\"black\" d=\"M169.68,-55.47C178.94,-52.68 188.25,-49.67 197,-46.5 207.52,-42.69 218.74,-37.87 228.71,-33.3\"/>\n<polygon fill=\"black\" stroke=\"black\" points=\"230.24,-36.45 237.82,-29.05 227.27,-30.11 230.24,-36.45\"/>\n</g>\n<!-- 131989542472544 -->\n<g id=\"node8\" class=\"node\">\n<title>131989542472544</title>\n<polygon fill=\"none\" stroke=\"black\" points=\"0,-0.5 0,-36.5 197,-36.5 197,-0.5 0,-0.5\"/>\n<text text-anchor=\"middle\" x=\"11.5\" y=\"-14.8\" font-family=\"Times,serif\" font-size=\"14.00\">a</text>\n<polyline fill=\"none\" stroke=\"black\" points=\"23,-0.5 23,-36.5 \"/>\n<text text-anchor=\"middle\" x=\"65.5\" y=\"-14.8\" font-family=\"Times,serif\" font-size=\"14.00\">data &#45;2.0000</text>\n<polyline fill=\"none\" stroke=\"black\" points=\"108,-0.5 108,-36.5 \"/>\n<text text-anchor=\"middle\" x=\"152.5\" y=\"-14.8\" font-family=\"Times,serif\" font-size=\"14.00\">grad 21.0000</text>\n</g>\n<!-- 131989542472544&#45;&gt;131989542471776* -->\n<g id=\"edge5\" class=\"edge\">\n<title>131989542472544&#45;&gt;131989542471776*</title>\n<path fill=\"none\" stroke=\"black\" d=\"M166.74,-36.56C176.95,-39.66 187.31,-43.01 197,-46.5 207.27,-50.19 218.27,-54.77 228.1,-59.09\"/>\n<polygon fill=\"black\" stroke=\"black\" points=\"226.92,-62.4 237.47,-63.3 229.78,-56.01 226.92,-62.4\"/>\n</g>\n<!-- 131989542472544&#45;&gt;131989542470816+ -->\n<g id=\"edge6\" class=\"edge\">\n<title>131989542472544&#45;&gt;131989542470816+</title>\n<path fill=\"none\" stroke=\"black\" d=\"M197.33,-18.5C206.29,-18.5 214.92,-18.5 222.75,-18.5\"/>\n<polygon fill=\"black\" stroke=\"black\" points=\"222.88,-22 232.88,-18.5 222.88,-15 222.88,-22\"/>\n</g>\n</g>\n</svg>\n",
            "text/plain": [
              "<graphviz.graphs.Digraph at 0x780b35cb38f0>"
            ]
          },
          "metadata": {},
          "execution_count": 215
        }
      ]
    },
    {
      "cell_type": "markdown",
      "source": [
        "### Usinf pytorch to verify our solution"
      ],
      "metadata": {
        "id": "5tbgAFmJzLI1"
      }
    },
    {
      "cell_type": "code",
      "source": [
        "import torch"
      ],
      "metadata": {
        "id": "JB0rI_q0EXjo"
      },
      "execution_count": null,
      "outputs": []
    },
    {
      "cell_type": "code",
      "source": [
        "x1 = torch.Tensor([2.0]).double() ; x1.requires_grad= True\n",
        "x2 = torch.Tensor([0.0]).double() ; x2.requires_grad= True\n",
        "w1 = torch.Tensor([-3.0]).double() ; w1.requires_grad= True\n",
        "w2 = torch.Tensor([1.0]).double() ; w2.requires_grad= True\n",
        "b  = torch.Tensor([6.88137]).double();b.requires_grad = True\n",
        "\n",
        "n = w1*x1 + w2*x2 + b\n",
        "o = torch.tanh(n)\n",
        "\n",
        "print(o.data.item())\n",
        "o.backward()\n",
        "\n",
        "print('---')\n",
        "print('x2', x2.grad.item())\n",
        "print('x1', x1.grad.item())\n",
        "print('w1',w1.grad.item())\n",
        "print('w2',w2.grad.item())\n"
      ],
      "metadata": {
        "colab": {
          "base_uri": "https://localhost:8080/"
        },
        "id": "se1WY5UDEZVN",
        "outputId": "2ac6f35a-ee94-4da1-f3d6-bf7e42b9607e"
      },
      "execution_count": null,
      "outputs": [
        {
          "output_type": "stream",
          "name": "stdout",
          "text": [
            "0.7071050214706146\n",
            "---\n",
            "x2 0.5000024886110417\n",
            "x1 -1.500007465833125\n",
            "w1 1.0000049772220834\n",
            "w2 0.0\n"
          ]
        }
      ]
    },
    {
      "cell_type": "code",
      "source": [
        "import numpy as np\n",
        "import random"
      ],
      "metadata": {
        "id": "DNvyoxRiG9Kb"
      },
      "execution_count": null,
      "outputs": []
    },
    {
      "cell_type": "code",
      "source": [
        "class Neuron:\n",
        "\n",
        "  def __init__(self,nin): # nin here is the number of inputs given to that neuron\n",
        "    self.w = [Value(random.uniform(-1,1)) for _ in range(nin)]\n",
        "    self.b = Value(random.uniform(-1,1))\n",
        "\n",
        "  def __call__(self,x):\n",
        "    # here x are the inputs given to the neuron\n",
        "\n",
        "    activation = sum((wi*x1 for wi,xi in zip(self.w,x)),self.b)\n",
        "    out = activation.tanh()\n",
        "    return out\n",
        "\n",
        "class Layer:\n",
        "\n",
        "  def __init__(self,nin,nn_in_layer):\n",
        "    # nn_in_layer are the number of neurons i want in the layer nin is the number of inputs received by each neuron in that layer\n",
        "    self.neurons = [Neuron(nin) for _ in range(nn_in_layer)]\n",
        "  def __call__(self,x):\n",
        "    outputs = [n(x) for n in self.neurons]\n",
        "    return outputs if len(outputs) > 1 else outputs[0]\n",
        "\n",
        "class MLP:\n",
        "\n",
        "  def __init__(self,nin,nout):\n",
        "    # nin is the number of inputs to out mulitlayer perceptron nout is a list where each element tells the number of neuron in that layer\n",
        "    sz = [nin]+nout\n",
        "    self.layers = [Layer(sz[i],sz[i+1])for i in range(len(nout))]\n",
        "\n",
        "  def __call__(self,x):\n",
        "      for l in self.layers:\n",
        "        x = l(x)\n",
        "      return x\n"
      ],
      "metadata": {
        "id": "QkW4_-iWFG6g"
      },
      "execution_count": null,
      "outputs": []
    },
    {
      "cell_type": "code",
      "source": [
        "x = [2.0,3.0,-1.0]\n",
        "nn = MLP(3,[4,4,1])\n",
        "nn(x)"
      ],
      "metadata": {
        "colab": {
          "base_uri": "https://localhost:8080/"
        },
        "id": "niQqxcY3GWrJ",
        "outputId": "33b6563e-3087-4a45-c43d-ef854f14612d"
      },
      "execution_count": null,
      "outputs": [
        {
          "output_type": "execute_result",
          "data": {
            "text/plain": [
              "Value(data=0.8314157878990779)"
            ]
          },
          "metadata": {},
          "execution_count": 220
        }
      ]
    },
    {
      "cell_type": "code",
      "source": [
        "l1 = Layer(2,3)\n",
        "x = [1.0,2.3]\n",
        "l1(x)"
      ],
      "metadata": {
        "colab": {
          "base_uri": "https://localhost:8080/"
        },
        "id": "3CP2M-KzG5Lc",
        "outputId": "3cf26378-c381-414b-ae4e-4952bb75a718"
      },
      "execution_count": null,
      "outputs": [
        {
          "output_type": "execute_result",
          "data": {
            "text/plain": [
              "[Value(data=-0.7429279364692515),\n",
              " Value(data=0.443344619452784),\n",
              " Value(data=-0.37826154057264577)]"
            ]
          },
          "metadata": {},
          "execution_count": 221
        }
      ]
    },
    {
      "cell_type": "code",
      "source": [
        "draw_dot(nn(x))"
      ],
      "metadata": {
        "colab": {
          "base_uri": "https://localhost:8080/",
          "height": 468
        },
        "id": "SkCW254kJ4IZ",
        "outputId": "823ca626-9327-4145-ec21-a0520ea27661"
      },
      "execution_count": null,
      "outputs": [
        {
          "output_type": "execute_result",
          "data": {
            "image/svg+xml": "<?xml version=\"1.0\" encoding=\"UTF-8\" standalone=\"no\"?>\n<!DOCTYPE svg PUBLIC \"-//W3C//DTD SVG 1.1//EN\"\n \"http://www.w3.org/Graphics/SVG/1.1/DTD/svg11.dtd\">\n<!-- Generated by graphviz version 2.43.0 (0)\n -->\n<!-- Title: %3 Pages: 1 -->\n<svg width=\"2058pt\" height=\"320pt\"\n viewBox=\"0.00 0.00 2058.00 320.00\" xmlns=\"http://www.w3.org/2000/svg\" xmlns:xlink=\"http://www.w3.org/1999/xlink\">\n<g id=\"graph0\" class=\"graph\" transform=\"scale(1 1) rotate(0) translate(4 316)\">\n<title>%3</title>\n<polygon fill=\"white\" stroke=\"transparent\" points=\"-4,4 -4,-316 2054,-316 2054,4 -4,4\"/>\n<!-- 131989543700480 -->\n<g id=\"node1\" class=\"node\">\n<title>131989543700480</title>\n<polygon fill=\"none\" stroke=\"black\" points=\"936.5,-275.5 936.5,-311.5 1118.5,-311.5 1118.5,-275.5 936.5,-275.5\"/>\n<text text-anchor=\"middle\" x=\"946.5\" y=\"-289.8\" font-family=\"Times,serif\" font-size=\"14.00\"> </text>\n<polyline fill=\"none\" stroke=\"black\" points=\"956.5,-275.5 956.5,-311.5 \"/>\n<text text-anchor=\"middle\" x=\"996.5\" y=\"-289.8\" font-family=\"Times,serif\" font-size=\"14.00\">data 0.6493</text>\n<polyline fill=\"none\" stroke=\"black\" points=\"1036.5,-275.5 1036.5,-311.5 \"/>\n<text text-anchor=\"middle\" x=\"1077.5\" y=\"-289.8\" font-family=\"Times,serif\" font-size=\"14.00\">grad 0.0000</text>\n</g>\n<!-- 131989543704560* -->\n<g id=\"node27\" class=\"node\">\n<title>131989543704560*</title>\n<ellipse fill=\"none\" stroke=\"black\" cx=\"1184\" cy=\"-238.5\" rx=\"27\" ry=\"18\"/>\n<text text-anchor=\"middle\" x=\"1184\" y=\"-234.8\" font-family=\"Times,serif\" font-size=\"14.00\">*</text>\n</g>\n<!-- 131989543700480&#45;&gt;131989543704560* -->\n<g id=\"edge15\" class=\"edge\">\n<title>131989543700480&#45;&gt;131989543704560*</title>\n<path fill=\"none\" stroke=\"black\" d=\"M1094.56,-275.45C1103.51,-272.64 1112.53,-269.63 1121,-266.5 1131.49,-262.62 1142.71,-257.78 1152.68,-253.22\"/>\n<polygon fill=\"black\" stroke=\"black\" points=\"1154.2,-256.37 1161.79,-248.97 1151.25,-250.02 1154.2,-256.37\"/>\n</g>\n<!-- 131989543702544 -->\n<g id=\"node2\" class=\"node\">\n<title>131989543702544</title>\n<polygon fill=\"none\" stroke=\"black\" points=\"623.5,-220.5 623.5,-256.5 805.5,-256.5 805.5,-220.5 623.5,-220.5\"/>\n<text text-anchor=\"middle\" x=\"633.5\" y=\"-234.8\" font-family=\"Times,serif\" font-size=\"14.00\"> </text>\n<polyline fill=\"none\" stroke=\"black\" points=\"643.5,-220.5 643.5,-256.5 \"/>\n<text text-anchor=\"middle\" x=\"683.5\" y=\"-234.8\" font-family=\"Times,serif\" font-size=\"14.00\">data 2.0000</text>\n<polyline fill=\"none\" stroke=\"black\" points=\"723.5,-220.5 723.5,-256.5 \"/>\n<text text-anchor=\"middle\" x=\"764.5\" y=\"-234.8\" font-family=\"Times,serif\" font-size=\"14.00\">grad 0.0000</text>\n</g>\n<!-- 131989543701248* -->\n<g id=\"node13\" class=\"node\">\n<title>131989543701248*</title>\n<ellipse fill=\"none\" stroke=\"black\" cx=\"871\" cy=\"-183.5\" rx=\"27\" ry=\"18\"/>\n<text text-anchor=\"middle\" x=\"871\" y=\"-179.8\" font-family=\"Times,serif\" font-size=\"14.00\">*</text>\n</g>\n<!-- 131989543702544&#45;&gt;131989543701248* -->\n<g id=\"edge19\" class=\"edge\">\n<title>131989543702544&#45;&gt;131989543701248*</title>\n<path fill=\"none\" stroke=\"black\" d=\"M779.02,-220.35C788.79,-217.24 798.71,-213.92 808,-210.5 818.25,-206.73 829.23,-202.14 839.07,-197.82\"/>\n<polygon fill=\"black\" stroke=\"black\" points=\"840.74,-200.9 848.45,-193.63 837.89,-194.51 840.74,-200.9\"/>\n</g>\n<!-- 131989543704608 -->\n<g id=\"node3\" class=\"node\">\n<title>131989543704608</title>\n<polygon fill=\"none\" stroke=\"black\" points=\"1560,-192.5 1560,-228.5 1742,-228.5 1742,-192.5 1560,-192.5\"/>\n<text text-anchor=\"middle\" x=\"1570\" y=\"-206.8\" font-family=\"Times,serif\" font-size=\"14.00\"> </text>\n<polyline fill=\"none\" stroke=\"black\" points=\"1580,-192.5 1580,-228.5 \"/>\n<text text-anchor=\"middle\" x=\"1620\" y=\"-206.8\" font-family=\"Times,serif\" font-size=\"14.00\">data 1.1927</text>\n<polyline fill=\"none\" stroke=\"black\" points=\"1660,-192.5 1660,-228.5 \"/>\n<text text-anchor=\"middle\" x=\"1701\" y=\"-206.8\" font-family=\"Times,serif\" font-size=\"14.00\">grad 0.0000</text>\n</g>\n<!-- 131989543704752tanh -->\n<g id=\"node9\" class=\"node\">\n<title>131989543704752tanh</title>\n<ellipse fill=\"none\" stroke=\"black\" cx=\"1805\" cy=\"-210.5\" rx=\"27\" ry=\"18\"/>\n<text text-anchor=\"middle\" x=\"1805\" y=\"-206.8\" font-family=\"Times,serif\" font-size=\"14.00\">tanh</text>\n</g>\n<!-- 131989543704608&#45;&gt;131989543704752tanh -->\n<g id=\"edge11\" class=\"edge\">\n<title>131989543704608&#45;&gt;131989543704752tanh</title>\n<path fill=\"none\" stroke=\"black\" d=\"M1742.18,-210.5C1751.14,-210.5 1759.83,-210.5 1767.73,-210.5\"/>\n<polygon fill=\"black\" stroke=\"black\" points=\"1767.96,-214 1777.96,-210.5 1767.96,-207 1767.96,-214\"/>\n</g>\n<!-- 131989543704608+ -->\n<g id=\"node4\" class=\"node\">\n<title>131989543704608+</title>\n<ellipse fill=\"none\" stroke=\"black\" cx=\"1497\" cy=\"-210.5\" rx=\"27\" ry=\"18\"/>\n<text text-anchor=\"middle\" x=\"1497\" y=\"-206.8\" font-family=\"Times,serif\" font-size=\"14.00\">+</text>\n</g>\n<!-- 131989543704608+&#45;&gt;131989543704608 -->\n<g id=\"edge1\" class=\"edge\">\n<title>131989543704608+&#45;&gt;131989543704608</title>\n<path fill=\"none\" stroke=\"black\" d=\"M1524.13,-210.5C1531.67,-210.5 1540.39,-210.5 1549.64,-210.5\"/>\n<polygon fill=\"black\" stroke=\"black\" points=\"1549.87,-214 1559.87,-210.5 1549.87,-207 1549.87,-214\"/>\n</g>\n<!-- 131989543439392 -->\n<g id=\"node5\" class=\"node\">\n<title>131989543439392</title>\n<polygon fill=\"none\" stroke=\"black\" points=\"0,-83.5 0,-119.5 182,-119.5 182,-83.5 0,-83.5\"/>\n<text text-anchor=\"middle\" x=\"10\" y=\"-97.8\" font-family=\"Times,serif\" font-size=\"14.00\"> </text>\n<polyline fill=\"none\" stroke=\"black\" points=\"20,-83.5 20,-119.5 \"/>\n<text text-anchor=\"middle\" x=\"60\" y=\"-97.8\" font-family=\"Times,serif\" font-size=\"14.00\">data 2.0000</text>\n<polyline fill=\"none\" stroke=\"black\" points=\"100,-83.5 100,-119.5 \"/>\n<text text-anchor=\"middle\" x=\"141\" y=\"-97.8\" font-family=\"Times,serif\" font-size=\"14.00\">grad 0.0000</text>\n</g>\n<!-- 131989543439440* -->\n<g id=\"node7\" class=\"node\">\n<title>131989543439440*</title>\n<ellipse fill=\"none\" stroke=\"black\" cx=\"245\" cy=\"-73.5\" rx=\"27\" ry=\"18\"/>\n<text text-anchor=\"middle\" x=\"245\" y=\"-69.8\" font-family=\"Times,serif\" font-size=\"14.00\">*</text>\n</g>\n<!-- 131989543439392&#45;&gt;131989543439440* -->\n<g id=\"edge24\" class=\"edge\">\n<title>131989543439392&#45;&gt;131989543439440*</title>\n<path fill=\"none\" stroke=\"black\" d=\"M182.18,-84.89C191.61,-83.15 200.75,-81.47 208.98,-79.95\"/>\n<polygon fill=\"black\" stroke=\"black\" points=\"209.66,-83.39 218.86,-78.13 208.39,-76.5 209.66,-83.39\"/>\n</g>\n<!-- 131989543439440 -->\n<g id=\"node6\" class=\"node\">\n<title>131989543439440</title>\n<polygon fill=\"none\" stroke=\"black\" points=\"310.5,-55.5 310.5,-91.5 492.5,-91.5 492.5,-55.5 310.5,-55.5\"/>\n<text text-anchor=\"middle\" x=\"320.5\" y=\"-69.8\" font-family=\"Times,serif\" font-size=\"14.00\"> </text>\n<polyline fill=\"none\" stroke=\"black\" points=\"330.5,-55.5 330.5,-91.5 \"/>\n<text text-anchor=\"middle\" x=\"370.5\" y=\"-69.8\" font-family=\"Times,serif\" font-size=\"14.00\">data 0.0122</text>\n<polyline fill=\"none\" stroke=\"black\" points=\"410.5,-55.5 410.5,-91.5 \"/>\n<text text-anchor=\"middle\" x=\"451.5\" y=\"-69.8\" font-family=\"Times,serif\" font-size=\"14.00\">grad 0.0000</text>\n</g>\n<!-- 131989543704416+ -->\n<g id=\"node20\" class=\"node\">\n<title>131989543704416+</title>\n<ellipse fill=\"none\" stroke=\"black\" cx=\"558\" cy=\"-73.5\" rx=\"27\" ry=\"18\"/>\n<text text-anchor=\"middle\" x=\"558\" y=\"-69.8\" font-family=\"Times,serif\" font-size=\"14.00\">+</text>\n</g>\n<!-- 131989543439440&#45;&gt;131989543704416+ -->\n<g id=\"edge12\" class=\"edge\">\n<title>131989543439440&#45;&gt;131989543704416+</title>\n<path fill=\"none\" stroke=\"black\" d=\"M492.82,-73.5C502.57,-73.5 512.04,-73.5 520.57,-73.5\"/>\n<polygon fill=\"black\" stroke=\"black\" points=\"520.83,-77 530.83,-73.5 520.83,-70 520.83,-77\"/>\n</g>\n<!-- 131989543439440*&#45;&gt;131989543439440 -->\n<g id=\"edge2\" class=\"edge\">\n<title>131989543439440*&#45;&gt;131989543439440</title>\n<path fill=\"none\" stroke=\"black\" d=\"M272.21,-73.5C280.34,-73.5 289.85,-73.5 299.94,-73.5\"/>\n<polygon fill=\"black\" stroke=\"black\" points=\"300.19,-77 310.19,-73.5 300.19,-70 300.19,-77\"/>\n</g>\n<!-- 131989543704752 -->\n<g id=\"node8\" class=\"node\">\n<title>131989543704752</title>\n<polygon fill=\"none\" stroke=\"black\" points=\"1868,-192.5 1868,-228.5 2050,-228.5 2050,-192.5 1868,-192.5\"/>\n<text text-anchor=\"middle\" x=\"1878\" y=\"-206.8\" font-family=\"Times,serif\" font-size=\"14.00\"> </text>\n<polyline fill=\"none\" stroke=\"black\" points=\"1888,-192.5 1888,-228.5 \"/>\n<text text-anchor=\"middle\" x=\"1928\" y=\"-206.8\" font-family=\"Times,serif\" font-size=\"14.00\">data 0.8314</text>\n<polyline fill=\"none\" stroke=\"black\" points=\"1968,-192.5 1968,-228.5 \"/>\n<text text-anchor=\"middle\" x=\"2009\" y=\"-206.8\" font-family=\"Times,serif\" font-size=\"14.00\">grad 0.0000</text>\n</g>\n<!-- 131989543704752tanh&#45;&gt;131989543704752 -->\n<g id=\"edge3\" class=\"edge\">\n<title>131989543704752tanh&#45;&gt;131989543704752</title>\n<path fill=\"none\" stroke=\"black\" d=\"M1832.13,-210.5C1839.67,-210.5 1848.39,-210.5 1857.64,-210.5\"/>\n<polygon fill=\"black\" stroke=\"black\" points=\"1857.87,-214 1867.87,-210.5 1857.87,-207 1857.87,-214\"/>\n</g>\n<!-- 131989543702208 -->\n<g id=\"node10\" class=\"node\">\n<title>131989543702208</title>\n<polygon fill=\"none\" stroke=\"black\" points=\"621,-110.5 621,-146.5 808,-146.5 808,-110.5 621,-110.5\"/>\n<text text-anchor=\"middle\" x=\"631\" y=\"-124.8\" font-family=\"Times,serif\" font-size=\"14.00\"> </text>\n<polyline fill=\"none\" stroke=\"black\" points=\"641,-110.5 641,-146.5 \"/>\n<text text-anchor=\"middle\" x=\"683.5\" y=\"-124.8\" font-family=\"Times,serif\" font-size=\"14.00\">data &#45;1.6233</text>\n<polyline fill=\"none\" stroke=\"black\" points=\"726,-110.5 726,-146.5 \"/>\n<text text-anchor=\"middle\" x=\"767\" y=\"-124.8\" font-family=\"Times,serif\" font-size=\"14.00\">grad 0.0000</text>\n</g>\n<!-- 131989543702496+ -->\n<g id=\"node25\" class=\"node\">\n<title>131989543702496+</title>\n<ellipse fill=\"none\" stroke=\"black\" cx=\"871\" cy=\"-128.5\" rx=\"27\" ry=\"18\"/>\n<text text-anchor=\"middle\" x=\"871\" y=\"-124.8\" font-family=\"Times,serif\" font-size=\"14.00\">+</text>\n</g>\n<!-- 131989543702208&#45;&gt;131989543702496+ -->\n<g id=\"edge18\" class=\"edge\">\n<title>131989543702208&#45;&gt;131989543702496+</title>\n<path fill=\"none\" stroke=\"black\" d=\"M808.05,-128.5C817.06,-128.5 825.79,-128.5 833.7,-128.5\"/>\n<polygon fill=\"black\" stroke=\"black\" points=\"833.95,-132 843.95,-128.5 833.95,-125 833.95,-132\"/>\n</g>\n<!-- 131989543702208* -->\n<g id=\"node11\" class=\"node\">\n<title>131989543702208*</title>\n<ellipse fill=\"none\" stroke=\"black\" cx=\"558\" cy=\"-128.5\" rx=\"27\" ry=\"18\"/>\n<text text-anchor=\"middle\" x=\"558\" y=\"-124.8\" font-family=\"Times,serif\" font-size=\"14.00\">*</text>\n</g>\n<!-- 131989543702208*&#45;&gt;131989543702208 -->\n<g id=\"edge4\" class=\"edge\">\n<title>131989543702208*&#45;&gt;131989543702208</title>\n<path fill=\"none\" stroke=\"black\" d=\"M585.21,-128.5C592.73,-128.5 601.43,-128.5 610.67,-128.5\"/>\n<polygon fill=\"black\" stroke=\"black\" points=\"610.89,-132 620.89,-128.5 610.89,-125 610.89,-132\"/>\n</g>\n<!-- 131989543701248 -->\n<g id=\"node12\" class=\"node\">\n<title>131989543701248</title>\n<polygon fill=\"none\" stroke=\"black\" points=\"936.5,-165.5 936.5,-201.5 1118.5,-201.5 1118.5,-165.5 936.5,-165.5\"/>\n<text text-anchor=\"middle\" x=\"946.5\" y=\"-179.8\" font-family=\"Times,serif\" font-size=\"14.00\"> </text>\n<polyline fill=\"none\" stroke=\"black\" points=\"956.5,-165.5 956.5,-201.5 \"/>\n<text text-anchor=\"middle\" x=\"996.5\" y=\"-179.8\" font-family=\"Times,serif\" font-size=\"14.00\">data 0.5401</text>\n<polyline fill=\"none\" stroke=\"black\" points=\"1036.5,-165.5 1036.5,-201.5 \"/>\n<text text-anchor=\"middle\" x=\"1077.5\" y=\"-179.8\" font-family=\"Times,serif\" font-size=\"14.00\">grad 0.0000</text>\n</g>\n<!-- 131989543704368+ -->\n<g id=\"node16\" class=\"node\">\n<title>131989543704368+</title>\n<ellipse fill=\"none\" stroke=\"black\" cx=\"1184\" cy=\"-183.5\" rx=\"27\" ry=\"18\"/>\n<text text-anchor=\"middle\" x=\"1184\" y=\"-179.8\" font-family=\"Times,serif\" font-size=\"14.00\">+</text>\n</g>\n<!-- 131989543701248&#45;&gt;131989543704368+ -->\n<g id=\"edge20\" class=\"edge\">\n<title>131989543701248&#45;&gt;131989543704368+</title>\n<path fill=\"none\" stroke=\"black\" d=\"M1118.82,-183.5C1128.57,-183.5 1138.04,-183.5 1146.57,-183.5\"/>\n<polygon fill=\"black\" stroke=\"black\" points=\"1146.83,-187 1156.83,-183.5 1146.83,-180 1146.83,-187\"/>\n</g>\n<!-- 131989543701248*&#45;&gt;131989543701248 -->\n<g id=\"edge5\" class=\"edge\">\n<title>131989543701248*&#45;&gt;131989543701248</title>\n<path fill=\"none\" stroke=\"black\" d=\"M898.21,-183.5C906.34,-183.5 915.85,-183.5 925.94,-183.5\"/>\n<polygon fill=\"black\" stroke=\"black\" points=\"926.19,-187 936.19,-183.5 926.19,-180 926.19,-187\"/>\n</g>\n<!-- 131989543705376 -->\n<g id=\"node14\" class=\"node\">\n<title>131989543705376</title>\n<polygon fill=\"none\" stroke=\"black\" points=\"936.5,-220.5 936.5,-256.5 1118.5,-256.5 1118.5,-220.5 936.5,-220.5\"/>\n<text text-anchor=\"middle\" x=\"946.5\" y=\"-234.8\" font-family=\"Times,serif\" font-size=\"14.00\"> </text>\n<polyline fill=\"none\" stroke=\"black\" points=\"956.5,-220.5 956.5,-256.5 \"/>\n<text text-anchor=\"middle\" x=\"996.5\" y=\"-234.8\" font-family=\"Times,serif\" font-size=\"14.00\">data 2.0000</text>\n<polyline fill=\"none\" stroke=\"black\" points=\"1036.5,-220.5 1036.5,-256.5 \"/>\n<text text-anchor=\"middle\" x=\"1077.5\" y=\"-234.8\" font-family=\"Times,serif\" font-size=\"14.00\">grad 0.0000</text>\n</g>\n<!-- 131989543705376&#45;&gt;131989543704560* -->\n<g id=\"edge26\" class=\"edge\">\n<title>131989543705376&#45;&gt;131989543704560*</title>\n<path fill=\"none\" stroke=\"black\" d=\"M1118.82,-238.5C1128.57,-238.5 1138.04,-238.5 1146.57,-238.5\"/>\n<polygon fill=\"black\" stroke=\"black\" points=\"1146.83,-242 1156.83,-238.5 1146.83,-235 1146.83,-242\"/>\n</g>\n<!-- 131989543704368 -->\n<g id=\"node15\" class=\"node\">\n<title>131989543704368</title>\n<polygon fill=\"none\" stroke=\"black\" points=\"1247,-165.5 1247,-201.5 1434,-201.5 1434,-165.5 1247,-165.5\"/>\n<text text-anchor=\"middle\" x=\"1257\" y=\"-179.8\" font-family=\"Times,serif\" font-size=\"14.00\"> </text>\n<polyline fill=\"none\" stroke=\"black\" points=\"1267,-165.5 1267,-201.5 \"/>\n<text text-anchor=\"middle\" x=\"1309.5\" y=\"-179.8\" font-family=\"Times,serif\" font-size=\"14.00\">data &#45;0.1059</text>\n<polyline fill=\"none\" stroke=\"black\" points=\"1352,-165.5 1352,-201.5 \"/>\n<text text-anchor=\"middle\" x=\"1393\" y=\"-179.8\" font-family=\"Times,serif\" font-size=\"14.00\">grad 0.0000</text>\n</g>\n<!-- 131989543704368&#45;&gt;131989543704608+ -->\n<g id=\"edge16\" class=\"edge\">\n<title>131989543704368&#45;&gt;131989543704608+</title>\n<path fill=\"none\" stroke=\"black\" d=\"M1434.05,-199.67C1443.34,-201.3 1452.33,-202.87 1460.44,-204.29\"/>\n<polygon fill=\"black\" stroke=\"black\" points=\"1460.1,-207.78 1470.55,-206.05 1461.3,-200.88 1460.1,-207.78\"/>\n</g>\n<!-- 131989543704368+&#45;&gt;131989543704368 -->\n<g id=\"edge6\" class=\"edge\">\n<title>131989543704368+&#45;&gt;131989543704368</title>\n<path fill=\"none\" stroke=\"black\" d=\"M1211.21,-183.5C1218.73,-183.5 1227.43,-183.5 1236.67,-183.5\"/>\n<polygon fill=\"black\" stroke=\"black\" points=\"1236.89,-187 1246.89,-183.5 1236.89,-180 1236.89,-187\"/>\n</g>\n<!-- 131989543700288 -->\n<g id=\"node17\" class=\"node\">\n<title>131989543700288</title>\n<polygon fill=\"none\" stroke=\"black\" points=\"0,-28.5 0,-64.5 182,-64.5 182,-28.5 0,-28.5\"/>\n<text text-anchor=\"middle\" x=\"10\" y=\"-42.8\" font-family=\"Times,serif\" font-size=\"14.00\"> </text>\n<polyline fill=\"none\" stroke=\"black\" points=\"20,-28.5 20,-64.5 \"/>\n<text text-anchor=\"middle\" x=\"60\" y=\"-42.8\" font-family=\"Times,serif\" font-size=\"14.00\">data 0.0061</text>\n<polyline fill=\"none\" stroke=\"black\" points=\"100,-28.5 100,-64.5 \"/>\n<text text-anchor=\"middle\" x=\"141\" y=\"-42.8\" font-family=\"Times,serif\" font-size=\"14.00\">grad 0.0000</text>\n</g>\n<!-- 131989543700288&#45;&gt;131989543439440* -->\n<g id=\"edge14\" class=\"edge\">\n<title>131989543700288&#45;&gt;131989543439440*</title>\n<path fill=\"none\" stroke=\"black\" d=\"M182.18,-62.52C191.42,-64.16 200.38,-65.75 208.47,-67.19\"/>\n<polygon fill=\"black\" stroke=\"black\" points=\"208.1,-70.68 218.56,-68.98 209.32,-63.79 208.1,-70.68\"/>\n</g>\n<!-- 131989543702352 -->\n<g id=\"node18\" class=\"node\">\n<title>131989543702352</title>\n<polygon fill=\"none\" stroke=\"black\" points=\"310.5,-165.5 310.5,-201.5 492.5,-201.5 492.5,-165.5 310.5,-165.5\"/>\n<text text-anchor=\"middle\" x=\"320.5\" y=\"-179.8\" font-family=\"Times,serif\" font-size=\"14.00\"> </text>\n<polyline fill=\"none\" stroke=\"black\" points=\"330.5,-165.5 330.5,-201.5 \"/>\n<text text-anchor=\"middle\" x=\"370.5\" y=\"-179.8\" font-family=\"Times,serif\" font-size=\"14.00\">data 2.0000</text>\n<polyline fill=\"none\" stroke=\"black\" points=\"410.5,-165.5 410.5,-201.5 \"/>\n<text text-anchor=\"middle\" x=\"451.5\" y=\"-179.8\" font-family=\"Times,serif\" font-size=\"14.00\">grad 0.0000</text>\n</g>\n<!-- 131989543702352&#45;&gt;131989543702208* -->\n<g id=\"edge10\" class=\"edge\">\n<title>131989543702352&#45;&gt;131989543702208*</title>\n<path fill=\"none\" stroke=\"black\" d=\"M466.02,-165.35C475.79,-162.24 485.71,-158.92 495,-155.5 505.25,-151.73 516.23,-147.14 526.07,-142.82\"/>\n<polygon fill=\"black\" stroke=\"black\" points=\"527.74,-145.9 535.45,-138.63 524.89,-139.51 527.74,-145.9\"/>\n</g>\n<!-- 131989543704416 -->\n<g id=\"node19\" class=\"node\">\n<title>131989543704416</title>\n<polygon fill=\"none\" stroke=\"black\" points=\"623.5,-55.5 623.5,-91.5 805.5,-91.5 805.5,-55.5 623.5,-55.5\"/>\n<text text-anchor=\"middle\" x=\"633.5\" y=\"-69.8\" font-family=\"Times,serif\" font-size=\"14.00\"> </text>\n<polyline fill=\"none\" stroke=\"black\" points=\"643.5,-55.5 643.5,-91.5 \"/>\n<text text-anchor=\"middle\" x=\"683.5\" y=\"-69.8\" font-family=\"Times,serif\" font-size=\"14.00\">data 0.9774</text>\n<polyline fill=\"none\" stroke=\"black\" points=\"723.5,-55.5 723.5,-91.5 \"/>\n<text text-anchor=\"middle\" x=\"764.5\" y=\"-69.8\" font-family=\"Times,serif\" font-size=\"14.00\">grad 0.0000</text>\n</g>\n<!-- 131989543704416&#45;&gt;131989543702496+ -->\n<g id=\"edge13\" class=\"edge\">\n<title>131989543704416&#45;&gt;131989543702496+</title>\n<path fill=\"none\" stroke=\"black\" d=\"M781.56,-91.55C790.51,-94.36 799.53,-97.37 808,-100.5 818.49,-104.38 829.71,-109.22 839.68,-113.78\"/>\n<polygon fill=\"black\" stroke=\"black\" points=\"838.25,-116.98 848.79,-118.03 841.2,-110.63 838.25,-116.98\"/>\n</g>\n<!-- 131989543704416+&#45;&gt;131989543704416 -->\n<g id=\"edge7\" class=\"edge\">\n<title>131989543704416+&#45;&gt;131989543704416</title>\n<path fill=\"none\" stroke=\"black\" d=\"M585.21,-73.5C593.34,-73.5 602.85,-73.5 612.94,-73.5\"/>\n<polygon fill=\"black\" stroke=\"black\" points=\"613.19,-77 623.19,-73.5 613.19,-70 613.19,-77\"/>\n</g>\n<!-- 131989543700336 -->\n<g id=\"node21\" class=\"node\">\n<title>131989543700336</title>\n<polygon fill=\"none\" stroke=\"black\" points=\"310.5,-0.5 310.5,-36.5 492.5,-36.5 492.5,-0.5 310.5,-0.5\"/>\n<text text-anchor=\"middle\" x=\"320.5\" y=\"-14.8\" font-family=\"Times,serif\" font-size=\"14.00\"> </text>\n<polyline fill=\"none\" stroke=\"black\" points=\"330.5,-0.5 330.5,-36.5 \"/>\n<text text-anchor=\"middle\" x=\"370.5\" y=\"-14.8\" font-family=\"Times,serif\" font-size=\"14.00\">data 0.9652</text>\n<polyline fill=\"none\" stroke=\"black\" points=\"410.5,-0.5 410.5,-36.5 \"/>\n<text text-anchor=\"middle\" x=\"451.5\" y=\"-14.8\" font-family=\"Times,serif\" font-size=\"14.00\">grad 0.0000</text>\n</g>\n<!-- 131989543700336&#45;&gt;131989543704416+ -->\n<g id=\"edge22\" class=\"edge\">\n<title>131989543700336&#45;&gt;131989543704416+</title>\n<path fill=\"none\" stroke=\"black\" d=\"M468.56,-36.55C477.51,-39.36 486.53,-42.37 495,-45.5 505.49,-49.38 516.71,-54.22 526.68,-58.78\"/>\n<polygon fill=\"black\" stroke=\"black\" points=\"525.25,-61.98 535.79,-63.03 528.2,-55.63 525.25,-61.98\"/>\n</g>\n<!-- 131989543700384 -->\n<g id=\"node22\" class=\"node\">\n<title>131989543700384</title>\n<polygon fill=\"none\" stroke=\"black\" points=\"308,-110.5 308,-146.5 495,-146.5 495,-110.5 308,-110.5\"/>\n<text text-anchor=\"middle\" x=\"318\" y=\"-124.8\" font-family=\"Times,serif\" font-size=\"14.00\"> </text>\n<polyline fill=\"none\" stroke=\"black\" points=\"328,-110.5 328,-146.5 \"/>\n<text text-anchor=\"middle\" x=\"370.5\" y=\"-124.8\" font-family=\"Times,serif\" font-size=\"14.00\">data &#45;0.8116</text>\n<polyline fill=\"none\" stroke=\"black\" points=\"413,-110.5 413,-146.5 \"/>\n<text text-anchor=\"middle\" x=\"454\" y=\"-124.8\" font-family=\"Times,serif\" font-size=\"14.00\">grad 0.0000</text>\n</g>\n<!-- 131989543700384&#45;&gt;131989543702208* -->\n<g id=\"edge25\" class=\"edge\">\n<title>131989543700384&#45;&gt;131989543702208*</title>\n<path fill=\"none\" stroke=\"black\" d=\"M495.05,-128.5C504.06,-128.5 512.79,-128.5 520.7,-128.5\"/>\n<polygon fill=\"black\" stroke=\"black\" points=\"520.95,-132 530.95,-128.5 520.95,-125 520.95,-132\"/>\n</g>\n<!-- 131989543700432 -->\n<g id=\"node23\" class=\"node\">\n<title>131989543700432</title>\n<polygon fill=\"none\" stroke=\"black\" points=\"623.5,-165.5 623.5,-201.5 805.5,-201.5 805.5,-165.5 623.5,-165.5\"/>\n<text text-anchor=\"middle\" x=\"633.5\" y=\"-179.8\" font-family=\"Times,serif\" font-size=\"14.00\"> </text>\n<polyline fill=\"none\" stroke=\"black\" points=\"643.5,-165.5 643.5,-201.5 \"/>\n<text text-anchor=\"middle\" x=\"683.5\" y=\"-179.8\" font-family=\"Times,serif\" font-size=\"14.00\">data 0.2700</text>\n<polyline fill=\"none\" stroke=\"black\" points=\"723.5,-165.5 723.5,-201.5 \"/>\n<text text-anchor=\"middle\" x=\"764.5\" y=\"-179.8\" font-family=\"Times,serif\" font-size=\"14.00\">grad 0.0000</text>\n</g>\n<!-- 131989543700432&#45;&gt;131989543701248* -->\n<g id=\"edge21\" class=\"edge\">\n<title>131989543700432&#45;&gt;131989543701248*</title>\n<path fill=\"none\" stroke=\"black\" d=\"M805.82,-183.5C815.57,-183.5 825.04,-183.5 833.57,-183.5\"/>\n<polygon fill=\"black\" stroke=\"black\" points=\"833.83,-187 843.83,-183.5 833.83,-180 833.83,-187\"/>\n</g>\n<!-- 131989543702496 -->\n<g id=\"node24\" class=\"node\">\n<title>131989543702496</title>\n<polygon fill=\"none\" stroke=\"black\" points=\"934,-110.5 934,-146.5 1121,-146.5 1121,-110.5 934,-110.5\"/>\n<text text-anchor=\"middle\" x=\"944\" y=\"-124.8\" font-family=\"Times,serif\" font-size=\"14.00\"> </text>\n<polyline fill=\"none\" stroke=\"black\" points=\"954,-110.5 954,-146.5 \"/>\n<text text-anchor=\"middle\" x=\"996.5\" y=\"-124.8\" font-family=\"Times,serif\" font-size=\"14.00\">data &#45;0.6459</text>\n<polyline fill=\"none\" stroke=\"black\" points=\"1039,-110.5 1039,-146.5 \"/>\n<text text-anchor=\"middle\" x=\"1080\" y=\"-124.8\" font-family=\"Times,serif\" font-size=\"14.00\">grad 0.0000</text>\n</g>\n<!-- 131989543702496&#45;&gt;131989543704368+ -->\n<g id=\"edge23\" class=\"edge\">\n<title>131989543702496&#45;&gt;131989543704368+</title>\n<path fill=\"none\" stroke=\"black\" d=\"M1094.56,-146.55C1103.51,-149.36 1112.53,-152.37 1121,-155.5 1131.49,-159.38 1142.71,-164.22 1152.68,-168.78\"/>\n<polygon fill=\"black\" stroke=\"black\" points=\"1151.25,-171.98 1161.79,-173.03 1154.2,-165.63 1151.25,-171.98\"/>\n</g>\n<!-- 131989543702496+&#45;&gt;131989543702496 -->\n<g id=\"edge8\" class=\"edge\">\n<title>131989543702496+&#45;&gt;131989543702496</title>\n<path fill=\"none\" stroke=\"black\" d=\"M898.21,-128.5C905.73,-128.5 914.43,-128.5 923.67,-128.5\"/>\n<polygon fill=\"black\" stroke=\"black\" points=\"923.89,-132 933.89,-128.5 923.89,-125 923.89,-132\"/>\n</g>\n<!-- 131989543704560 -->\n<g id=\"node26\" class=\"node\">\n<title>131989543704560</title>\n<polygon fill=\"none\" stroke=\"black\" points=\"1249.5,-220.5 1249.5,-256.5 1431.5,-256.5 1431.5,-220.5 1249.5,-220.5\"/>\n<text text-anchor=\"middle\" x=\"1259.5\" y=\"-234.8\" font-family=\"Times,serif\" font-size=\"14.00\"> </text>\n<polyline fill=\"none\" stroke=\"black\" points=\"1269.5,-220.5 1269.5,-256.5 \"/>\n<text text-anchor=\"middle\" x=\"1309.5\" y=\"-234.8\" font-family=\"Times,serif\" font-size=\"14.00\">data 1.2986</text>\n<polyline fill=\"none\" stroke=\"black\" points=\"1349.5,-220.5 1349.5,-256.5 \"/>\n<text text-anchor=\"middle\" x=\"1390.5\" y=\"-234.8\" font-family=\"Times,serif\" font-size=\"14.00\">grad 0.0000</text>\n</g>\n<!-- 131989543704560&#45;&gt;131989543704608+ -->\n<g id=\"edge17\" class=\"edge\">\n<title>131989543704560&#45;&gt;131989543704608+</title>\n<path fill=\"none\" stroke=\"black\" d=\"M1431.82,-222.13C1442.07,-220.27 1452.01,-218.47 1460.88,-216.87\"/>\n<polygon fill=\"black\" stroke=\"black\" points=\"1461.54,-220.3 1470.75,-215.08 1460.29,-213.42 1461.54,-220.3\"/>\n</g>\n<!-- 131989543704560*&#45;&gt;131989543704560 -->\n<g id=\"edge9\" class=\"edge\">\n<title>131989543704560*&#45;&gt;131989543704560</title>\n<path fill=\"none\" stroke=\"black\" d=\"M1211.21,-238.5C1219.34,-238.5 1228.85,-238.5 1238.94,-238.5\"/>\n<polygon fill=\"black\" stroke=\"black\" points=\"1239.19,-242 1249.19,-238.5 1239.19,-235 1239.19,-242\"/>\n</g>\n</g>\n</svg>\n",
            "text/plain": [
              "<graphviz.graphs.Digraph at 0x780b35ddf440>"
            ]
          },
          "metadata": {},
          "execution_count": 222
        }
      ]
    },
    {
      "cell_type": "code",
      "source": [],
      "metadata": {
        "id": "pAOgqG9lOfGq"
      },
      "execution_count": null,
      "outputs": []
    }
  ]
}